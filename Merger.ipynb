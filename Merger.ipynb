{
 "cells": [
  {
   "cell_type": "code",
   "execution_count": 24,
   "metadata": {},
   "outputs": [
    {
     "name": "stdout",
     "output_type": "stream",
     "text": [
      "/home/haji/Desktop/Waterloo/Term 1/Deep Learning/Data Challenges/Ch2/submissions/BERT10_BERT13_gpt2_combination.csv\n",
      "/home/haji/Desktop/Waterloo/Term 1/Deep Learning/Data Challenges/Ch2/submissions/bert-base-uncased_13layers_early_stopping_head_tail_Nov_17_19:00_0.3626188039779663.csv\n",
      "/home/haji/Desktop/Waterloo/Term 1/Deep Learning/Data Challenges/Ch2/submissions/gpt2.csv\n",
      "/home/haji/Desktop/Waterloo/Term 1/Deep Learning/Data Challenges/Ch2/submissions/BERT10.csv\n",
      "/home/haji/Desktop/Waterloo/Term 1/Deep Learning/Data Challenges/Ch2/submissions/bert-base-uncased_13layers_early_stopping_head_1.5backtail_Nov_17_20:42_0.3386967182159424.csv\n",
      "/home/haji/Desktop/Waterloo/Term 1/Deep Learning/Data Challenges/Ch2/submissions/bert-base-uncased_13layers_early_stopping_Nov_17_20:29_0.340860515832901.csv\n",
      "/home/haji/Desktop/Waterloo/Term 1/Deep Learning/Data Challenges/Ch2/submissions/bert-base-uncased_13layers_early_stopping_Nov_16_11:25_0.33845508098602295.csv\n",
      "/home/haji/Desktop/Waterloo/Term 1/Deep Learning/Data Challenges/Ch2/submissions/BERT13.csv\n",
      "/home/haji/Desktop/Waterloo/Term 1/Deep Learning/Data Challenges/Ch2/submissions/bert-base-uncased_13layers_early_stopping_Nov_17_20:02_0.3383728563785553.csv\n",
      "/home/haji/Desktop/Waterloo/Term 1/Deep Learning/Data Challenges/Ch2/submissions/combination.csv\n"
     ]
    }
   ],
   "source": [
    "import os\n",
    "import pandas as pd \n",
    "\n",
    "\n",
    "def average_scores(csv_files):\n",
    "    # Create an empty DataFrame to store the combined data\n",
    "    combined_data = pd.DataFrame()\n",
    "\n",
    "    # Iterate over each CSV file\n",
    "    for csv_file in csv_files:\n",
    "        print(csv_file)\n",
    "        # Read the CSV file into a DataFrame\n",
    "        df = pd.read_csv(csv_file)\n",
    "\n",
    "        # Merge the data into the combined DataFrame using the 'text' column\n",
    "        if combined_data.empty:\n",
    "            combined_data = df\n",
    "        else:\n",
    "            combined_data = pd.merge(combined_data, df, on='text', suffixes=('', f'_{os.path.basename(csv_file)}'))\n",
    "#             combined_data = pd.merge(combined_data, df, on='text')\n",
    "\n",
    "    # Calculate the average score for each row\n",
    "    combined_data['score'] = combined_data.iloc[:, 1:].mean(axis=1)\n",
    "\n",
    "    # Create a new DataFrame with only 'text' and 'average_score' columns\n",
    "    result_data = combined_data[['text', 'score']]\n",
    "\n",
    "    return result_data\n",
    "\n",
    "\n",
    "\n",
    "def list_files(directory_path):\n",
    "    try:\n",
    "        # Get the list of files in the specified directory\n",
    "        files = [f for f in os.listdir(directory_path) if os.path.isfile(os.path.join(directory_path, f))]\n",
    "        return files\n",
    "    except OSError as e:\n",
    "        # Handle the case where the directory doesn't exist or other OS-related errors\n",
    "        print(f\"Error: {e}\")\n",
    "        return None\n",
    "\n",
    "\n",
    "\n",
    "path = \"/home/haji/Desktop/Waterloo/Term 1/Deep Learning/Data Challenges/Ch2/submissions/\"\n",
    "files = os.listdir(path)\n",
    "\n",
    "# print(files)\n",
    "\n",
    "# csv_files = ['BERT10.csv', 'BERT13.csv', 'gpt2.csv', 'combination.csv']  # Add your file names\n",
    "\n",
    "csv_files = [path + x for x in files]\n",
    "\n",
    "# # Get the averaged data\n",
    "result_data = average_scores(csv_files)\n",
    "\n",
    "# # Output the result to a new CSV file\n",
    "result_data.to_csv('combineddddd.csv', index=False)"
   ]
  }
 ],
 "metadata": {
  "kernelspec": {
   "display_name": "DataChallenge2",
   "language": "python",
   "name": "datachallenge2"
  },
  "language_info": {
   "codemirror_mode": {
    "name": "ipython",
    "version": 3
   },
   "file_extension": ".py",
   "mimetype": "text/x-python",
   "name": "python",
   "nbconvert_exporter": "python",
   "pygments_lexer": "ipython3",
   "version": "3.10.12"
  }
 },
 "nbformat": 4,
 "nbformat_minor": 4
}
