{
 "cells": [
  {
   "cell_type": "code",
   "execution_count": 12,
   "metadata": {},
   "outputs": [],
   "source": [
    "import os\n",
    "import pandas as pd \n",
    "\n",
    "\n",
    "def average_scores(csv_files):\n",
    "    # Create an empty DataFrame to store the combined data\n",
    "    combined_data = pd.DataFrame()\n",
    "\n",
    "    # Iterate over each CSV file\n",
    "    for csv_file in csv_files:\n",
    "        # Read the CSV file into a DataFrame\n",
    "        df = pd.read_csv(csv_file)\n",
    "\n",
    "        # Merge the data into the combined DataFrame using the 'text' column\n",
    "        if combined_data.empty:\n",
    "            combined_data = df\n",
    "        else:\n",
    "            combined_data = pd.merge(combined_data, df, on='text', suffixes=('', f'_{os.path.basename(csv_file)}'))\n",
    "#             combined_data = pd.merge(combined_data, df, on='text')\n",
    "\n",
    "    # Calculate the average score for each row\n",
    "    combined_data['score'] = combined_data.iloc[:, 1:].mean(axis=1)\n",
    "\n",
    "    # Create a new DataFrame with only 'text' and 'average_score' columns\n",
    "    result_data = combined_data[['text', 'score']]\n",
    "\n",
    "    return result_data\n",
    "\n",
    "\n",
    "\n",
    "csv_files = ['BERT10.csv', 'BERT13.csv', 'gpt2.csv', 'combination.csv']  # Add your file names\n",
    "\n",
    "csv_files = ['submissions/' + x for x in csv_files]\n",
    "\n",
    "# Get the averaged data\n",
    "result_data = average_scores(csv_files)\n",
    "\n",
    "# Output the result to a new CSV file\n",
    "result_data.to_csv('all.csv', index=False)"
   ]
  }
 ],
 "metadata": {
  "kernelspec": {
   "display_name": "DataChallenge2",
   "language": "python",
   "name": "datachallenge2"
  },
  "language_info": {
   "codemirror_mode": {
    "name": "ipython",
    "version": 3
   },
   "file_extension": ".py",
   "mimetype": "text/x-python",
   "name": "python",
   "nbconvert_exporter": "python",
   "pygments_lexer": "ipython3",
   "version": "3.10.12"
  }
 },
 "nbformat": 4,
 "nbformat_minor": 4
}
