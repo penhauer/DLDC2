{
 "cells": [
  {
   "cell_type": "code",
   "execution_count": 88,
   "metadata": {},
   "outputs": [],
   "source": [
    "import torch\n",
    "from transformers import BertTokenizer, BertModel, GPT2Tokenizer, GPT2Model\n",
    "import pandas as pd\n",
    "from tqdm import tqdm\n",
    "\n",
    "from sklearn.model_selection import train_test_split\n",
    "import pandas as pd\n",
    "import torch.nn as nn\n",
    "from torch.utils.data import DataLoader, TensorDataset\n",
    "from sklearn.metrics import mean_squared_error\n",
    "from tqdm import tqdm"
   ]
  },
  {
   "cell_type": "code",
   "execution_count": 89,
   "metadata": {},
   "outputs": [],
   "source": [
    "\n",
    "\n",
    "# Load and preprocess data\n",
    "def load_data(file_path):\n",
    "    data = pd.read_csv(file_path)\n",
    "    texts = data['text'].tolist()\n",
    "    scores = data['score'].tolist()\n",
    "    return texts, scores"
   ]
  },
  {
   "cell_type": "code",
   "execution_count": 90,
   "metadata": {},
   "outputs": [
    {
     "data": {
      "text/plain": [
       "device(type='cuda')"
      ]
     },
     "execution_count": 90,
     "metadata": {},
     "output_type": "execute_result"
    }
   ],
   "source": [
    "device = torch.device('cuda' if torch.cuda.is_available() else 'cpu')\n",
    "device"
   ]
  },
  {
   "cell_type": "code",
   "execution_count": 91,
   "metadata": {},
   "outputs": [],
   "source": [
    "\n",
    "\n",
    "\n",
    "# Tokenize and create BERT embeddings\n",
    "def create_bert_embeddings(texts):\n",
    "    tokenizer = BertTokenizer.from_pretrained('bert-base-uncased')\n",
    "    model = BertModel.from_pretrained(\n",
    "        'bert-base-uncased',\n",
    "        output_hidden_states = True,\n",
    "    )\n",
    "\n",
    "\n",
    "    embeddings = []\n",
    "    num_layers = 10\n",
    "    for text in tqdm(texts, desc=\"Creating BERT Embeddings\"):\n",
    "        inputs = tokenizer(text, return_tensors='pt', truncation=True, padding=True)\n",
    "        outputs = model(**inputs)\n",
    "        \n",
    "        \n",
    "        hidden_states = torch.stack(outputs.hidden_states[-num_layers:])\n",
    "#         embeddings.append(outputs.pooler_output.detach().numpy().flatten())\n",
    "        embedding = torch.cat([hidden_states[i] for i in range(num_layers)], dim=-1)\n",
    "        embedding = torch.mean(embedding, dim=1).squeeze().detach().numpy()\n",
    "        embeddings.append(embedding)\n",
    "\n",
    "\n",
    "    return embeddings\n",
    "\n",
    "\n",
    "\n",
    "def create_gpt2_embeddings(texts):\n",
    "    device = torch.device('cuda' if torch.cuda.is_available() else 'cpu')\n",
    "\n",
    "    tokenizer = GPT2Tokenizer.from_pretrained('gpt2')\n",
    "    tokenizer.pad_token = tokenizer.eos_token\n",
    "    model = GPT2Model.from_pretrained('gpt2')\n",
    "    model = model.to(device)\n",
    "\n",
    "    embeddings = []\n",
    "    for text in tqdm(texts, desc=\"Creating GPT-2 Embeddings\"):\n",
    "        inputs = tokenizer(text, return_tensors='pt', truncation=True, padding=True)\n",
    "        inputs = inputs.to(device)\n",
    "        \n",
    "        with torch.no_grad():\n",
    "            outputs = model(**inputs)\n",
    "            last_hidden_states = outputs.last_hidden_state\n",
    "\n",
    "        # Use the mean of the last hidden states as the embedding\n",
    "        embedding = torch.mean(last_hidden_states, dim=1).squeeze().detach().cpu().numpy()\n",
    "        embeddings.append(embedding)\n",
    "\n",
    "    return embeddings\n"
   ]
  },
  {
   "cell_type": "code",
   "execution_count": 110,
   "metadata": {},
   "outputs": [],
   "source": [
    "\n",
    "# Define the MLP model\n",
    "class MLPModel(nn.Module):\n",
    "    def __init__(self):\n",
    "        super(MLPModel, self).__init__()\n",
    "        self.l1 = nn.Sequential(\n",
    "            \n",
    "            # BERT 10\n",
    "            # nn.Linear(5632, 4096),\n",
    "            # nn.ReLU(),\n",
    "            nn.Linear(5632, 1024),\n",
    "            nn.ReLU(),\n",
    "            # nn.Linear(2048, 1024),\n",
    "            # nn.ReLU(),\n",
    "            nn.Linear(1024, 512),\n",
    "            nn.ReLU(),\n",
    "            nn.Linear(512, 256),   \n",
    "            nn.ReLU(),\n",
    "            nn.Linear(256, 128),   \n",
    "            nn.ReLU(),\n",
    "            nn.Linear(128, 64),\n",
    "            nn.ReLU(),\n",
    "            nn.Linear(64, 32),\n",
    "            nn.ReLU(),\n",
    "            nn.Linear(32, 1),\n",
    "        )\n",
    "\n",
    "\n",
    "    def forward(self, x):\n",
    "        x = self.l1(x)\n",
    "        return x"
   ]
  },
  {
   "cell_type": "code",
   "execution_count": 111,
   "metadata": {},
   "outputs": [],
   "source": [
    "\n",
    "# Train MLP model\n",
    "def train_mlp_model(train_loader, val_loader, model, criterion, optimizer, num_epochs=5):\n",
    "    model.to(device)\n",
    "\n",
    "    for epoch in tqdm(range(num_epochs)):\n",
    "        model.train()\n",
    "        # for inputs, labels in tqdm(train_loader, desc=f\"Epoch {epoch + 1}/{num_epochs} - Training\"):\n",
    "        train_preds = []\n",
    "        train_labels = []\n",
    "        for inputs, labels in train_loader:\n",
    "            inputs, labels = inputs.to(device), labels.to(device)\n",
    "\n",
    "            optimizer.zero_grad()\n",
    "            outputs = model(inputs)\n",
    "            \n",
    "            loss = criterion(outputs, labels.unsqueeze(1).float())\n",
    "            loss.backward()\n",
    "            optimizer.step()\n",
    "\n",
    "        \n",
    "            train_preds.extend(outputs.detach().cpu().numpy())\n",
    "            train_labels.extend(labels.detach().cpu().numpy())\n",
    "\n",
    "        train_rmse = mean_squared_error(train_labels, train_preds, squared=False)\n",
    "        print(f\"Epoch {epoch + 1}/{num_epochs}, Test RMSE: {train_rmse:.4f}\")\n",
    "\n",
    "        \n",
    "        model.eval()\n",
    "        val_preds = []\n",
    "        val_labels = []\n",
    "        with torch.no_grad():\n",
    "            # for inputs, labels in tqdm(val_loader, desc=f\"Epoch {epoch + 1}/{num_epochs} - Validation\"):\n",
    "            for inputs, labels in val_loader:\n",
    "                inputs, labels = inputs.to(device), labels.to(device)\n",
    "\n",
    "                outputs = model(inputs)\n",
    "                val_preds.extend(outputs.cpu().numpy())\n",
    "                val_labels.extend(labels.cpu().numpy())\n",
    "\n",
    "        val_rmse = mean_squared_error(val_labels, val_preds, squared=False)\n",
    "        print(f\"Epoch {epoch + 1}/{num_epochs}, Validation RMSE: {val_rmse:.4f}\")\n"
   ]
  },
  {
   "cell_type": "code",
   "execution_count": 112,
   "metadata": {},
   "outputs": [],
   "source": [
    "from transformers import AutoTokenizer, AutoModel\n",
    "import torch\n",
    "import numpy as np\n",
    "\n",
    "def get_embeddings(texts, model_name):\n",
    "    # Load pre-trained model and tokenizer\n",
    "    tokenizer = AutoTokenizer.from_pretrained(model_name, model_max_length=514)\n",
    "    model = AutoModel.from_pretrained(\n",
    "        model_name,\n",
    "    ).to(device)\n",
    "\n",
    "    embeddings = []\n",
    "\n",
    "    for text in tqdm(texts):\n",
    "        # Tokenize input text and obtain embeddings\n",
    "        inputs = tokenizer(text, return_tensors=\"pt\", truncation=True, padding=True).to(device)\n",
    "        with torch.no_grad():\n",
    "            outputs = model(**inputs)\n",
    "        # Extract the embeddings from the last layer\n",
    "        last_hidden_states = outputs.last_hidden_state\n",
    "        # Average pooling to get a fixed-size embedding for the entire text\n",
    "        avg_pooling = torch.mean(last_hidden_states, dim=1)\n",
    "        # Convert tensor to numpy array\n",
    "        avg_pooling = avg_pooling.cpu().numpy()\n",
    "        # Append the embedding to the list\n",
    "        embeddings.append(avg_pooling)\n",
    "\n",
    "    return np.concatenate(embeddings, axis=0)\n",
    "\n",
    "models = [\n",
    "    'xlm-mlm-enfr-1024',\n",
    "    'distilbert-base-cased',\n",
    "    'bert-base-uncased',\n",
    "    'roberta-base',\n",
    "    \n",
    "    \n",
    "    'bert-base-cased',\n",
    "    'xlm-roberta-base',\n",
    "    'xlnet-base-cased',    \n",
    "\n",
    "# 'cardiffnlp/twitter-roberta-base-sentiment',\n",
    "#     'ctrl',\n",
    "#     'transfo-xl-wt103',\n",
    "#     'openai-gpt',\n",
    "#     'gpt2'\n",
    "]\n",
    "\n",
    "\n",
    "def get_all_embeddings(texts):\n",
    "    all_embeddings = []\n",
    "\n",
    "    for model_name in models:\n",
    "        print(f\"calculating embeddings for {model_name}\")\n",
    "        embeddings = get_embeddings(texts, model_name)\n",
    "        all_embeddings.append(embeddings)\n",
    "\n",
    "    return np.concatenate(all_embeddings, axis=1)\n",
    "\n",
    "\n"
   ]
  },
  {
   "cell_type": "code",
   "execution_count": 95,
   "metadata": {},
   "outputs": [
    {
     "name": "stdout",
     "output_type": "stream",
     "text": [
      "calculating embeddings for xlm-mlm-enfr-1024\n"
     ]
    },
    {
     "name": "stderr",
     "output_type": "stream",
     "text": [
      "100%|██████████████████████████████████████████████████████████████████| 2400/2400 [00:39<00:00, 60.22it/s]\n"
     ]
    },
    {
     "name": "stdout",
     "output_type": "stream",
     "text": [
      "calculating embeddings for distilbert-base-cased\n"
     ]
    },
    {
     "name": "stderr",
     "output_type": "stream",
     "text": [
      "100%|█████████████████████████████████████████████████████████████████| 2400/2400 [00:19<00:00, 124.79it/s]\n"
     ]
    },
    {
     "name": "stdout",
     "output_type": "stream",
     "text": [
      "calculating embeddings for bert-base-uncased\n"
     ]
    },
    {
     "name": "stderr",
     "output_type": "stream",
     "text": [
      "100%|██████████████████████████████████████████████████████████████████| 2400/2400 [00:36<00:00, 66.10it/s]\n"
     ]
    },
    {
     "name": "stdout",
     "output_type": "stream",
     "text": [
      "calculating embeddings for roberta-base\n"
     ]
    },
    {
     "name": "stderr",
     "output_type": "stream",
     "text": [
      "Some weights of RobertaModel were not initialized from the model checkpoint at roberta-base and are newly initialized: ['roberta.pooler.dense.bias', 'roberta.pooler.dense.weight']\n",
      "You should probably TRAIN this model on a down-stream task to be able to use it for predictions and inference.\n",
      "100%|██████████████████████████████████████████████████████████████████| 2400/2400 [00:36<00:00, 66.04it/s]\n"
     ]
    },
    {
     "name": "stdout",
     "output_type": "stream",
     "text": [
      "calculating embeddings for bert-base-cased\n"
     ]
    },
    {
     "name": "stderr",
     "output_type": "stream",
     "text": [
      "100%|██████████████████████████████████████████████████████████████████| 2400/2400 [00:36<00:00, 65.03it/s]\n"
     ]
    },
    {
     "name": "stdout",
     "output_type": "stream",
     "text": [
      "calculating embeddings for xlm-roberta-base\n"
     ]
    },
    {
     "name": "stderr",
     "output_type": "stream",
     "text": [
      "100%|██████████████████████████████████████████████████████████████████| 2400/2400 [00:37<00:00, 64.69it/s]\n"
     ]
    },
    {
     "name": "stdout",
     "output_type": "stream",
     "text": [
      "calculating embeddings for xlnet-base-cased\n"
     ]
    },
    {
     "name": "stderr",
     "output_type": "stream",
     "text": [
      "100%|██████████████████████████████████████████████████████████████████| 2400/2400 [01:10<00:00, 33.97it/s]\n"
     ]
    },
    {
     "name": "stdout",
     "output_type": "stream",
     "text": [
      "calculating embeddings for xlm-mlm-enfr-1024\n"
     ]
    },
    {
     "name": "stderr",
     "output_type": "stream",
     "text": [
      "100%|████████████████████████████████████████████████████████████████████| 600/600 [00:10<00:00, 59.04it/s]\n"
     ]
    },
    {
     "name": "stdout",
     "output_type": "stream",
     "text": [
      "calculating embeddings for distilbert-base-cased\n"
     ]
    },
    {
     "name": "stderr",
     "output_type": "stream",
     "text": [
      "100%|███████████████████████████████████████████████████████████████████| 600/600 [00:04<00:00, 123.71it/s]\n"
     ]
    },
    {
     "name": "stdout",
     "output_type": "stream",
     "text": [
      "calculating embeddings for bert-base-uncased\n"
     ]
    },
    {
     "name": "stderr",
     "output_type": "stream",
     "text": [
      "100%|████████████████████████████████████████████████████████████████████| 600/600 [00:09<00:00, 66.01it/s]\n"
     ]
    },
    {
     "name": "stdout",
     "output_type": "stream",
     "text": [
      "calculating embeddings for roberta-base\n"
     ]
    },
    {
     "name": "stderr",
     "output_type": "stream",
     "text": [
      "Some weights of RobertaModel were not initialized from the model checkpoint at roberta-base and are newly initialized: ['roberta.pooler.dense.bias', 'roberta.pooler.dense.weight']\n",
      "You should probably TRAIN this model on a down-stream task to be able to use it for predictions and inference.\n",
      "100%|████████████████████████████████████████████████████████████████████| 600/600 [00:09<00:00, 66.41it/s]\n"
     ]
    },
    {
     "name": "stdout",
     "output_type": "stream",
     "text": [
      "calculating embeddings for bert-base-cased\n"
     ]
    },
    {
     "name": "stderr",
     "output_type": "stream",
     "text": [
      "100%|████████████████████████████████████████████████████████████████████| 600/600 [00:09<00:00, 65.34it/s]\n"
     ]
    },
    {
     "name": "stdout",
     "output_type": "stream",
     "text": [
      "calculating embeddings for xlm-roberta-base\n"
     ]
    },
    {
     "name": "stderr",
     "output_type": "stream",
     "text": [
      "100%|████████████████████████████████████████████████████████████████████| 600/600 [00:09<00:00, 65.22it/s]\n"
     ]
    },
    {
     "name": "stdout",
     "output_type": "stream",
     "text": [
      "calculating embeddings for xlnet-base-cased\n"
     ]
    },
    {
     "name": "stderr",
     "output_type": "stream",
     "text": [
      "100%|████████████████████████████████████████████████████████████████████| 600/600 [00:17<00:00, 34.33it/s]\n"
     ]
    }
   ],
   "source": [
    "\n",
    "# Load and preprocess training data\n",
    "train_texts, train_scores = load_data('train.csv')\n",
    "\n",
    "\n",
    "# Split data into training and validation sets\n",
    "train_texts, val_texts, train_scores, val_scores = train_test_split(\n",
    "    train_texts, train_scores, test_size=0.2, random_state=42\n",
    ")\n",
    "\n",
    "\n",
    "embedding_function = get_all_embeddings\n",
    "\n",
    "# Create BERT embeddings\n",
    "train_embeddings = embedding_function(train_texts)\n",
    "val_embeddings = embedding_function(val_texts)"
   ]
  },
  {
   "cell_type": "code",
   "execution_count": 102,
   "metadata": {},
   "outputs": [],
   "source": [
    "\n",
    "# Convert data to PyTorch tensors\n",
    "train_data = TensorDataset(torch.tensor(train_embeddings), torch.tensor(train_scores))\n",
    "val_data = TensorDataset(torch.tensor(val_embeddings), torch.tensor(val_scores))\n"
   ]
  },
  {
   "cell_type": "code",
   "execution_count": 103,
   "metadata": {},
   "outputs": [
    {
     "data": {
      "text/plain": [
       "5632"
      ]
     },
     "execution_count": 103,
     "metadata": {},
     "output_type": "execute_result"
    }
   ],
   "source": [
    "len(train_embeddings[0])"
   ]
  },
  {
   "cell_type": "code",
   "execution_count": 128,
   "metadata": {},
   "outputs": [
    {
     "name": "stderr",
     "output_type": "stream",
     "text": [
      "  0%|▏                                                                    | 3/1000 [00:00<00:48, 20.53it/s]"
     ]
    },
    {
     "name": "stdout",
     "output_type": "stream",
     "text": [
      "Epoch 1/1000, Test RMSE: 0.2912\n",
      "Epoch 1/1000, Validation RMSE: 0.3577\n",
      "Epoch 2/1000, Test RMSE: 0.2911\n",
      "Epoch 2/1000, Validation RMSE: 0.3577\n",
      "Epoch 3/1000, Test RMSE: 0.2911\n",
      "Epoch 3/1000, Validation RMSE: 0.3576\n",
      "Epoch 4/1000, Test RMSE: 0.2911\n",
      "Epoch 4/1000, Validation RMSE: 0.3576\n",
      "Epoch 5/1000, Test RMSE: 0.2910\n",
      "Epoch 5/1000, Validation RMSE: 0.3576\n"
     ]
    },
    {
     "name": "stderr",
     "output_type": "stream",
     "text": [
      "  1%|▌                                                                    | 9/1000 [00:00<00:46, 21.09it/s]"
     ]
    },
    {
     "name": "stdout",
     "output_type": "stream",
     "text": [
      "Epoch 6/1000, Test RMSE: 0.2911\n",
      "Epoch 6/1000, Validation RMSE: 0.3576\n",
      "Epoch 7/1000, Test RMSE: 0.2910\n",
      "Epoch 7/1000, Validation RMSE: 0.3576\n",
      "Epoch 8/1000, Test RMSE: 0.2910\n",
      "Epoch 8/1000, Validation RMSE: 0.3576\n",
      "Epoch 9/1000, Test RMSE: 0.2910\n",
      "Epoch 9/1000, Validation RMSE: 0.3576\n",
      "Epoch 10/1000, Test RMSE: 0.2910\n",
      "Epoch 10/1000, Validation RMSE: 0.3576\n"
     ]
    },
    {
     "name": "stderr",
     "output_type": "stream",
     "text": [
      "  2%|█                                                                   | 15/1000 [00:00<00:46, 21.19it/s]"
     ]
    },
    {
     "name": "stdout",
     "output_type": "stream",
     "text": [
      "Epoch 11/1000, Test RMSE: 0.2910\n",
      "Epoch 11/1000, Validation RMSE: 0.3576\n",
      "Epoch 12/1000, Test RMSE: 0.2910\n",
      "Epoch 12/1000, Validation RMSE: 0.3576\n",
      "Epoch 13/1000, Test RMSE: 0.2910\n",
      "Epoch 13/1000, Validation RMSE: 0.3576\n",
      "Epoch 14/1000, Test RMSE: 0.2910\n",
      "Epoch 14/1000, Validation RMSE: 0.3576\n",
      "Epoch 15/1000, Test RMSE: 0.2910\n",
      "Epoch 15/1000, Validation RMSE: 0.3576\n"
     ]
    },
    {
     "name": "stderr",
     "output_type": "stream",
     "text": [
      "  2%|█▏                                                                  | 18/1000 [00:00<00:46, 21.21it/s]"
     ]
    },
    {
     "name": "stdout",
     "output_type": "stream",
     "text": [
      "Epoch 16/1000, Test RMSE: 0.2910\n",
      "Epoch 16/1000, Validation RMSE: 0.3576\n",
      "Epoch 17/1000, Test RMSE: 0.2910\n",
      "Epoch 17/1000, Validation RMSE: 0.3576\n",
      "Epoch 18/1000, Test RMSE: 0.2909\n",
      "Epoch 18/1000, Validation RMSE: 0.3576\n",
      "Epoch 19/1000, Test RMSE: 0.2909\n",
      "Epoch 19/1000, Validation RMSE: 0.3576\n",
      "Epoch 20/1000, Test RMSE: 0.2909\n",
      "Epoch 20/1000, Validation RMSE: 0.3576\n"
     ]
    },
    {
     "name": "stderr",
     "output_type": "stream",
     "text": [
      "  2%|█▋                                                                  | 24/1000 [00:01<00:46, 21.20it/s]"
     ]
    },
    {
     "name": "stdout",
     "output_type": "stream",
     "text": [
      "Epoch 21/1000, Test RMSE: 0.2909\n",
      "Epoch 21/1000, Validation RMSE: 0.3576\n",
      "Epoch 22/1000, Test RMSE: 0.2909\n",
      "Epoch 22/1000, Validation RMSE: 0.3576\n",
      "Epoch 23/1000, Test RMSE: 0.2909\n",
      "Epoch 23/1000, Validation RMSE: 0.3576\n",
      "Epoch 24/1000, Test RMSE: 0.2909\n",
      "Epoch 24/1000, Validation RMSE: 0.3576\n",
      "Epoch 25/1000, Test RMSE: 0.2909\n",
      "Epoch 25/1000, Validation RMSE: 0.3576\n"
     ]
    },
    {
     "name": "stderr",
     "output_type": "stream",
     "text": [
      "  3%|██                                                                  | 30/1000 [00:01<00:45, 21.22it/s]"
     ]
    },
    {
     "name": "stdout",
     "output_type": "stream",
     "text": [
      "Epoch 26/1000, Test RMSE: 0.2909\n",
      "Epoch 26/1000, Validation RMSE: 0.3576\n",
      "Epoch 27/1000, Test RMSE: 0.2909\n",
      "Epoch 27/1000, Validation RMSE: 0.3576\n",
      "Epoch 28/1000, Test RMSE: 0.2909\n",
      "Epoch 28/1000, Validation RMSE: 0.3576\n",
      "Epoch 29/1000, Test RMSE: 0.2909\n",
      "Epoch 29/1000, Validation RMSE: 0.3576\n",
      "Epoch 30/1000, Test RMSE: 0.2908\n",
      "Epoch 30/1000, Validation RMSE: 0.3576\n"
     ]
    },
    {
     "name": "stderr",
     "output_type": "stream",
     "text": [
      "  3%|██▏                                                                 | 33/1000 [00:01<00:45, 21.24it/s]"
     ]
    },
    {
     "name": "stdout",
     "output_type": "stream",
     "text": [
      "Epoch 31/1000, Test RMSE: 0.2908\n",
      "Epoch 31/1000, Validation RMSE: 0.3576\n",
      "Epoch 32/1000, Test RMSE: 0.2908\n",
      "Epoch 32/1000, Validation RMSE: 0.3576\n",
      "Epoch 33/1000, Test RMSE: 0.2908\n",
      "Epoch 33/1000, Validation RMSE: 0.3576\n",
      "Epoch 34/1000, Test RMSE: 0.2908\n",
      "Epoch 34/1000, Validation RMSE: 0.3576\n",
      "Epoch 35/1000, Test RMSE: 0.2908\n",
      "Epoch 35/1000, Validation RMSE: 0.3576\n"
     ]
    },
    {
     "name": "stderr",
     "output_type": "stream",
     "text": [
      "  4%|██▋                                                                 | 39/1000 [00:01<00:45, 21.20it/s]"
     ]
    },
    {
     "name": "stdout",
     "output_type": "stream",
     "text": [
      "Epoch 36/1000, Test RMSE: 0.2908\n",
      "Epoch 36/1000, Validation RMSE: 0.3576\n",
      "Epoch 37/1000, Test RMSE: 0.2908\n",
      "Epoch 37/1000, Validation RMSE: 0.3576\n",
      "Epoch 38/1000, Test RMSE: 0.2908\n",
      "Epoch 38/1000, Validation RMSE: 0.3576\n",
      "Epoch 39/1000, Test RMSE: 0.2908\n",
      "Epoch 39/1000, Validation RMSE: 0.3576\n",
      "Epoch 40/1000, Test RMSE: 0.2908\n",
      "Epoch 40/1000, Validation RMSE: 0.3576\n"
     ]
    },
    {
     "name": "stderr",
     "output_type": "stream",
     "text": [
      "  4%|███                                                                 | 45/1000 [00:02<00:44, 21.23it/s]"
     ]
    },
    {
     "name": "stdout",
     "output_type": "stream",
     "text": [
      "Epoch 41/1000, Test RMSE: 0.2908\n",
      "Epoch 41/1000, Validation RMSE: 0.3576\n",
      "Epoch 42/1000, Test RMSE: 0.2907\n",
      "Epoch 42/1000, Validation RMSE: 0.3576\n",
      "Epoch 43/1000, Test RMSE: 0.2908\n",
      "Epoch 43/1000, Validation RMSE: 0.3577\n",
      "Epoch 44/1000, Test RMSE: 0.2908\n",
      "Epoch 44/1000, Validation RMSE: 0.3577\n",
      "Epoch 45/1000, Test RMSE: 0.2908\n",
      "Epoch 45/1000, Validation RMSE: 0.3576\n"
     ]
    },
    {
     "name": "stderr",
     "output_type": "stream",
     "text": [
      "  5%|███▎                                                                | 48/1000 [00:02<00:44, 21.24it/s]"
     ]
    },
    {
     "name": "stdout",
     "output_type": "stream",
     "text": [
      "Epoch 46/1000, Test RMSE: 0.2907\n",
      "Epoch 46/1000, Validation RMSE: 0.3576\n",
      "Epoch 47/1000, Test RMSE: 0.2907\n",
      "Epoch 47/1000, Validation RMSE: 0.3576\n",
      "Epoch 48/1000, Test RMSE: 0.2907\n",
      "Epoch 48/1000, Validation RMSE: 0.3576\n",
      "Epoch 49/1000, Test RMSE: 0.2907\n"
     ]
    },
    {
     "name": "stderr",
     "output_type": "stream",
     "text": [
      "  5%|███▍                                                                | 51/1000 [00:02<00:58, 16.30it/s]"
     ]
    },
    {
     "name": "stdout",
     "output_type": "stream",
     "text": [
      "Epoch 49/1000, Validation RMSE: 0.3576\n",
      "Epoch 50/1000, Test RMSE: 0.2907\n",
      "Epoch 50/1000, Validation RMSE: 0.3576\n",
      "Epoch 51/1000, Test RMSE: 0.2907\n",
      "Epoch 51/1000, Validation RMSE: 0.3576\n",
      "Epoch 52/1000, Test RMSE: 0.2907\n",
      "Epoch 52/1000, Validation RMSE: 0.3576\n",
      "Epoch 53/1000, Test RMSE: 0.2907\n",
      "Epoch 53/1000, Validation RMSE: 0.3576\n"
     ]
    },
    {
     "name": "stderr",
     "output_type": "stream",
     "text": [
      "  6%|███▉                                                                | 57/1000 [00:02<00:51, 18.48it/s]"
     ]
    },
    {
     "name": "stdout",
     "output_type": "stream",
     "text": [
      "Epoch 54/1000, Test RMSE: 0.2907\n",
      "Epoch 54/1000, Validation RMSE: 0.3576\n",
      "Epoch 55/1000, Test RMSE: 0.2907\n",
      "Epoch 55/1000, Validation RMSE: 0.3576\n",
      "Epoch 56/1000, Test RMSE: 0.2906\n",
      "Epoch 56/1000, Validation RMSE: 0.3576\n",
      "Epoch 57/1000, Test RMSE: 0.2906\n",
      "Epoch 57/1000, Validation RMSE: 0.3576\n",
      "Epoch 58/1000, Test RMSE: 0.2907\n",
      "Epoch 58/1000, Validation RMSE: 0.3576\n"
     ]
    },
    {
     "name": "stderr",
     "output_type": "stream",
     "text": [
      "  6%|████▎                                                               | 63/1000 [00:03<00:47, 19.80it/s]"
     ]
    },
    {
     "name": "stdout",
     "output_type": "stream",
     "text": [
      "Epoch 59/1000, Test RMSE: 0.2907\n",
      "Epoch 59/1000, Validation RMSE: 0.3576\n",
      "Epoch 60/1000, Test RMSE: 0.2907\n",
      "Epoch 60/1000, Validation RMSE: 0.3576\n",
      "Epoch 61/1000, Test RMSE: 0.2907\n",
      "Epoch 61/1000, Validation RMSE: 0.3576\n",
      "Epoch 62/1000, Test RMSE: 0.2906\n",
      "Epoch 62/1000, Validation RMSE: 0.3576\n",
      "Epoch 63/1000, Test RMSE: 0.2906\n",
      "Epoch 63/1000, Validation RMSE: 0.3576\n"
     ]
    },
    {
     "name": "stderr",
     "output_type": "stream",
     "text": [
      "  7%|████▍                                                               | 66/1000 [00:03<00:46, 20.16it/s]"
     ]
    },
    {
     "name": "stdout",
     "output_type": "stream",
     "text": [
      "Epoch 64/1000, Test RMSE: 0.2906\n",
      "Epoch 64/1000, Validation RMSE: 0.3576\n",
      "Epoch 65/1000, Test RMSE: 0.2906\n",
      "Epoch 65/1000, Validation RMSE: 0.3576\n",
      "Epoch 66/1000, Test RMSE: 0.2906\n",
      "Epoch 66/1000, Validation RMSE: 0.3576\n",
      "Epoch 67/1000, Test RMSE: 0.2906\n",
      "Epoch 67/1000, Validation RMSE: 0.3576\n",
      "Epoch 68/1000, Test RMSE: 0.2905\n",
      "Epoch 68/1000, Validation RMSE: 0.3576\n"
     ]
    },
    {
     "name": "stderr",
     "output_type": "stream",
     "text": [
      "  7%|████▉                                                               | 72/1000 [00:03<00:44, 20.70it/s]"
     ]
    },
    {
     "name": "stdout",
     "output_type": "stream",
     "text": [
      "Epoch 69/1000, Test RMSE: 0.2905\n",
      "Epoch 69/1000, Validation RMSE: 0.3576\n",
      "Epoch 70/1000, Test RMSE: 0.2905\n",
      "Epoch 70/1000, Validation RMSE: 0.3576\n",
      "Epoch 71/1000, Test RMSE: 0.2905\n",
      "Epoch 71/1000, Validation RMSE: 0.3576\n",
      "Epoch 72/1000, Test RMSE: 0.2905\n",
      "Epoch 72/1000, Validation RMSE: 0.3576\n",
      "Epoch 73/1000, Test RMSE: 0.2905\n",
      "Epoch 73/1000, Validation RMSE: 0.3576\n"
     ]
    },
    {
     "name": "stderr",
     "output_type": "stream",
     "text": [
      "  8%|█████▎                                                              | 78/1000 [00:03<00:43, 20.97it/s]"
     ]
    },
    {
     "name": "stdout",
     "output_type": "stream",
     "text": [
      "Epoch 74/1000, Test RMSE: 0.2905\n",
      "Epoch 74/1000, Validation RMSE: 0.3576\n",
      "Epoch 75/1000, Test RMSE: 0.2905\n",
      "Epoch 75/1000, Validation RMSE: 0.3576\n",
      "Epoch 76/1000, Test RMSE: 0.2905\n",
      "Epoch 76/1000, Validation RMSE: 0.3576\n",
      "Epoch 77/1000, Test RMSE: 0.2905\n",
      "Epoch 77/1000, Validation RMSE: 0.3576\n",
      "Epoch 78/1000, Test RMSE: 0.2905\n",
      "Epoch 78/1000, Validation RMSE: 0.3577\n"
     ]
    },
    {
     "name": "stderr",
     "output_type": "stream",
     "text": [
      "  8%|█████▌                                                              | 81/1000 [00:03<00:43, 21.04it/s]"
     ]
    },
    {
     "name": "stdout",
     "output_type": "stream",
     "text": [
      "Epoch 79/1000, Test RMSE: 0.2905\n",
      "Epoch 79/1000, Validation RMSE: 0.3577\n",
      "Epoch 80/1000, Test RMSE: 0.2905\n",
      "Epoch 80/1000, Validation RMSE: 0.3578\n",
      "Epoch 81/1000, Test RMSE: 0.2905\n",
      "Epoch 81/1000, Validation RMSE: 0.3577\n",
      "Epoch 82/1000, Test RMSE: 0.2904\n",
      "Epoch 82/1000, Validation RMSE: 0.3576\n",
      "Epoch 83/1000, Test RMSE: 0.2904\n",
      "Epoch 83/1000, Validation RMSE: 0.3576\n"
     ]
    },
    {
     "name": "stderr",
     "output_type": "stream",
     "text": [
      "  9%|█████▉                                                              | 87/1000 [00:04<00:43, 21.15it/s]"
     ]
    },
    {
     "name": "stdout",
     "output_type": "stream",
     "text": [
      "Epoch 84/1000, Test RMSE: 0.2905\n",
      "Epoch 84/1000, Validation RMSE: 0.3576\n",
      "Epoch 85/1000, Test RMSE: 0.2904\n",
      "Epoch 85/1000, Validation RMSE: 0.3576\n",
      "Epoch 86/1000, Test RMSE: 0.2904\n",
      "Epoch 86/1000, Validation RMSE: 0.3576\n",
      "Epoch 87/1000, Test RMSE: 0.2904\n",
      "Epoch 87/1000, Validation RMSE: 0.3576\n",
      "Epoch 88/1000, Test RMSE: 0.2904\n",
      "Epoch 88/1000, Validation RMSE: 0.3577\n"
     ]
    },
    {
     "name": "stderr",
     "output_type": "stream",
     "text": [
      "  9%|██████▎                                                             | 93/1000 [00:04<00:42, 21.16it/s]"
     ]
    },
    {
     "name": "stdout",
     "output_type": "stream",
     "text": [
      "Epoch 89/1000, Test RMSE: 0.2904\n",
      "Epoch 89/1000, Validation RMSE: 0.3577\n",
      "Epoch 90/1000, Test RMSE: 0.2904\n",
      "Epoch 90/1000, Validation RMSE: 0.3577\n",
      "Epoch 91/1000, Test RMSE: 0.2904\n",
      "Epoch 91/1000, Validation RMSE: 0.3576\n",
      "Epoch 92/1000, Test RMSE: 0.2904\n",
      "Epoch 92/1000, Validation RMSE: 0.3576\n",
      "Epoch 93/1000, Test RMSE: 0.2903\n",
      "Epoch 93/1000, Validation RMSE: 0.3576\n"
     ]
    },
    {
     "name": "stderr",
     "output_type": "stream",
     "text": [
      " 10%|██████▌                                                             | 96/1000 [00:04<00:42, 21.17it/s]"
     ]
    },
    {
     "name": "stdout",
     "output_type": "stream",
     "text": [
      "Epoch 94/1000, Test RMSE: 0.2903\n",
      "Epoch 94/1000, Validation RMSE: 0.3576\n",
      "Epoch 95/1000, Test RMSE: 0.2903\n",
      "Epoch 95/1000, Validation RMSE: 0.3576\n",
      "Epoch 96/1000, Test RMSE: 0.2903\n",
      "Epoch 96/1000, Validation RMSE: 0.3577\n",
      "Epoch 97/1000, Test RMSE: 0.2903\n",
      "Epoch 97/1000, Validation RMSE: 0.3577\n",
      "Epoch 98/1000, Test RMSE: 0.2903\n",
      "Epoch 98/1000, Validation RMSE: 0.3577\n"
     ]
    },
    {
     "name": "stderr",
     "output_type": "stream",
     "text": [
      " 10%|██████▋                                                             | 99/1000 [00:04<00:42, 21.19it/s]"
     ]
    },
    {
     "name": "stdout",
     "output_type": "stream",
     "text": [
      "Epoch 99/1000, Test RMSE: 0.2903\n",
      "Epoch 99/1000, Validation RMSE: 0.3577\n",
      "Epoch 100/1000, Test RMSE: 0.2903\n",
      "Epoch 100/1000, Validation RMSE: 0.3576\n",
      "Epoch 101/1000, Test RMSE: 0.2903\n",
      "Epoch 101/1000, Validation RMSE: 0.3576\n"
     ]
    },
    {
     "name": "stderr",
     "output_type": "stream",
     "text": [
      " 10%|███████                                                            | 105/1000 [00:05<00:51, 17.51it/s]"
     ]
    },
    {
     "name": "stdout",
     "output_type": "stream",
     "text": [
      "Epoch 102/1000, Test RMSE: 0.2903\n",
      "Epoch 102/1000, Validation RMSE: 0.3576\n",
      "Epoch 103/1000, Test RMSE: 0.2903\n",
      "Epoch 103/1000, Validation RMSE: 0.3576\n",
      "Epoch 104/1000, Test RMSE: 0.2903\n",
      "Epoch 104/1000, Validation RMSE: 0.3576\n",
      "Epoch 105/1000, Test RMSE: 0.2903\n",
      "Epoch 105/1000, Validation RMSE: 0.3576\n",
      "Epoch 106/1000, Test RMSE: 0.2902\n",
      "Epoch 106/1000, Validation RMSE: 0.3576\n"
     ]
    },
    {
     "name": "stderr",
     "output_type": "stream",
     "text": [
      " 11%|███████▍                                                           | 111/1000 [00:05<00:46, 19.14it/s]"
     ]
    },
    {
     "name": "stdout",
     "output_type": "stream",
     "text": [
      "Epoch 107/1000, Test RMSE: 0.2902\n",
      "Epoch 107/1000, Validation RMSE: 0.3576\n",
      "Epoch 108/1000, Test RMSE: 0.2902\n",
      "Epoch 108/1000, Validation RMSE: 0.3576\n",
      "Epoch 109/1000, Test RMSE: 0.2902\n",
      "Epoch 109/1000, Validation RMSE: 0.3576\n",
      "Epoch 110/1000, Test RMSE: 0.2902\n",
      "Epoch 110/1000, Validation RMSE: 0.3576\n",
      "Epoch 111/1000, Test RMSE: 0.2902\n",
      "Epoch 111/1000, Validation RMSE: 0.3576\n"
     ]
    },
    {
     "name": "stderr",
     "output_type": "stream",
     "text": [
      " 11%|███████▋                                                           | 114/1000 [00:05<00:44, 19.69it/s]"
     ]
    },
    {
     "name": "stdout",
     "output_type": "stream",
     "text": [
      "Epoch 112/1000, Test RMSE: 0.2902\n",
      "Epoch 112/1000, Validation RMSE: 0.3577\n",
      "Epoch 113/1000, Test RMSE: 0.2902\n",
      "Epoch 113/1000, Validation RMSE: 0.3577\n",
      "Epoch 114/1000, Test RMSE: 0.2902\n",
      "Epoch 114/1000, Validation RMSE: 0.3577\n",
      "Epoch 115/1000, Test RMSE: 0.2902\n",
      "Epoch 115/1000, Validation RMSE: 0.3576\n",
      "Epoch 116/1000, Test RMSE: 0.2901\n",
      "Epoch 116/1000, Validation RMSE: 0.3576\n"
     ]
    },
    {
     "name": "stderr",
     "output_type": "stream",
     "text": [
      " 12%|████████                                                           | 120/1000 [00:05<00:43, 20.45it/s]"
     ]
    },
    {
     "name": "stdout",
     "output_type": "stream",
     "text": [
      "Epoch 117/1000, Test RMSE: 0.2901\n",
      "Epoch 117/1000, Validation RMSE: 0.3576\n",
      "Epoch 118/1000, Test RMSE: 0.2902\n",
      "Epoch 118/1000, Validation RMSE: 0.3576\n",
      "Epoch 119/1000, Test RMSE: 0.2902\n",
      "Epoch 119/1000, Validation RMSE: 0.3576\n",
      "Epoch 120/1000, Test RMSE: 0.2902\n",
      "Epoch 120/1000, Validation RMSE: 0.3576\n",
      "Epoch 121/1000, Test RMSE: 0.2902\n",
      "Epoch 121/1000, Validation RMSE: 0.3576\n"
     ]
    },
    {
     "name": "stderr",
     "output_type": "stream",
     "text": [
      " 13%|████████▍                                                          | 126/1000 [00:06<00:41, 20.83it/s]"
     ]
    },
    {
     "name": "stdout",
     "output_type": "stream",
     "text": [
      "Epoch 122/1000, Test RMSE: 0.2901\n",
      "Epoch 122/1000, Validation RMSE: 0.3577\n",
      "Epoch 123/1000, Test RMSE: 0.2901\n",
      "Epoch 123/1000, Validation RMSE: 0.3577\n",
      "Epoch 124/1000, Test RMSE: 0.2901\n",
      "Epoch 124/1000, Validation RMSE: 0.3577\n",
      "Epoch 125/1000, Test RMSE: 0.2901\n",
      "Epoch 125/1000, Validation RMSE: 0.3577\n",
      "Epoch 126/1000, Test RMSE: 0.2901\n",
      "Epoch 126/1000, Validation RMSE: 0.3577\n"
     ]
    },
    {
     "name": "stderr",
     "output_type": "stream",
     "text": [
      " 13%|████████▋                                                          | 129/1000 [00:06<00:41, 20.95it/s]"
     ]
    },
    {
     "name": "stdout",
     "output_type": "stream",
     "text": [
      "Epoch 127/1000, Test RMSE: 0.2901\n",
      "Epoch 127/1000, Validation RMSE: 0.3577\n",
      "Epoch 128/1000, Test RMSE: 0.2901\n",
      "Epoch 128/1000, Validation RMSE: 0.3576\n",
      "Epoch 129/1000, Test RMSE: 0.2901\n",
      "Epoch 129/1000, Validation RMSE: 0.3576\n",
      "Epoch 130/1000, Test RMSE: 0.2901\n",
      "Epoch 130/1000, Validation RMSE: 0.3576\n",
      "Epoch 131/1000, Test RMSE: 0.2900\n",
      "Epoch 131/1000, Validation RMSE: 0.3576\n"
     ]
    },
    {
     "name": "stderr",
     "output_type": "stream",
     "text": [
      " 14%|█████████                                                          | 135/1000 [00:06<00:40, 21.10it/s]"
     ]
    },
    {
     "name": "stdout",
     "output_type": "stream",
     "text": [
      "Epoch 132/1000, Test RMSE: 0.2900\n",
      "Epoch 132/1000, Validation RMSE: 0.3576\n",
      "Epoch 133/1000, Test RMSE: 0.2900\n",
      "Epoch 133/1000, Validation RMSE: 0.3576\n",
      "Epoch 134/1000, Test RMSE: 0.2900\n",
      "Epoch 134/1000, Validation RMSE: 0.3576\n",
      "Epoch 135/1000, Test RMSE: 0.2900\n",
      "Epoch 135/1000, Validation RMSE: 0.3576\n",
      "Epoch 136/1000, Test RMSE: 0.2900\n",
      "Epoch 136/1000, Validation RMSE: 0.3576\n"
     ]
    },
    {
     "name": "stderr",
     "output_type": "stream",
     "text": [
      " 14%|█████████▍                                                         | 141/1000 [00:06<00:40, 21.14it/s]"
     ]
    },
    {
     "name": "stdout",
     "output_type": "stream",
     "text": [
      "Epoch 137/1000, Test RMSE: 0.2900\n",
      "Epoch 137/1000, Validation RMSE: 0.3576\n",
      "Epoch 138/1000, Test RMSE: 0.2900\n",
      "Epoch 138/1000, Validation RMSE: 0.3576\n",
      "Epoch 139/1000, Test RMSE: 0.2900\n",
      "Epoch 139/1000, Validation RMSE: 0.3576\n",
      "Epoch 140/1000, Test RMSE: 0.2900\n",
      "Epoch 140/1000, Validation RMSE: 0.3576\n",
      "Epoch 141/1000, Test RMSE: 0.2900\n",
      "Epoch 141/1000, Validation RMSE: 0.3576\n"
     ]
    },
    {
     "name": "stderr",
     "output_type": "stream",
     "text": [
      " 14%|█████████▋                                                         | 144/1000 [00:07<00:40, 21.17it/s]"
     ]
    },
    {
     "name": "stdout",
     "output_type": "stream",
     "text": [
      "Epoch 142/1000, Test RMSE: 0.2900\n",
      "Epoch 142/1000, Validation RMSE: 0.3576\n",
      "Epoch 143/1000, Test RMSE: 0.2900\n",
      "Epoch 143/1000, Validation RMSE: 0.3576\n",
      "Epoch 144/1000, Test RMSE: 0.2899\n",
      "Epoch 144/1000, Validation RMSE: 0.3576\n",
      "Epoch 145/1000, Test RMSE: 0.2899\n",
      "Epoch 145/1000, Validation RMSE: 0.3576\n",
      "Epoch 146/1000, Test RMSE: 0.2899\n",
      "Epoch 146/1000, Validation RMSE: 0.3576\n"
     ]
    },
    {
     "name": "stderr",
     "output_type": "stream",
     "text": [
      " 15%|██████████                                                         | 150/1000 [00:07<00:40, 21.15it/s]"
     ]
    },
    {
     "name": "stdout",
     "output_type": "stream",
     "text": [
      "Epoch 147/1000, Test RMSE: 0.2899\n",
      "Epoch 147/1000, Validation RMSE: 0.3576\n",
      "Epoch 148/1000, Test RMSE: 0.2899\n",
      "Epoch 148/1000, Validation RMSE: 0.3576\n",
      "Epoch 149/1000, Test RMSE: 0.2900\n",
      "Epoch 149/1000, Validation RMSE: 0.3576\n",
      "Epoch 150/1000, Test RMSE: 0.2899\n",
      "Epoch 150/1000, Validation RMSE: 0.3576\n",
      "Epoch 151/1000, Test RMSE: 0.2899\n",
      "Epoch 151/1000, Validation RMSE: 0.3576\n"
     ]
    },
    {
     "name": "stderr",
     "output_type": "stream",
     "text": [
      " 15%|██████████▎                                                        | 153/1000 [00:07<00:40, 21.15it/s]"
     ]
    },
    {
     "name": "stdout",
     "output_type": "stream",
     "text": [
      "Epoch 152/1000, Test RMSE: 0.2899\n",
      "Epoch 152/1000, Validation RMSE: 0.3576\n",
      "Epoch 153/1000, Test RMSE: 0.2899\n",
      "Epoch 153/1000, Validation RMSE: 0.3577\n",
      "Epoch 154/1000, Test RMSE: 0.2899\n",
      "Epoch 154/1000, Validation RMSE: 0.3577\n"
     ]
    },
    {
     "name": "stderr",
     "output_type": "stream",
     "text": [
      " 16%|██████████▋                                                        | 159/1000 [00:07<00:48, 17.38it/s]"
     ]
    },
    {
     "name": "stdout",
     "output_type": "stream",
     "text": [
      "Epoch 155/1000, Test RMSE: 0.2899\n",
      "Epoch 155/1000, Validation RMSE: 0.3577\n",
      "Epoch 156/1000, Test RMSE: 0.2899\n",
      "Epoch 156/1000, Validation RMSE: 0.3577\n",
      "Epoch 157/1000, Test RMSE: 0.2898\n",
      "Epoch 157/1000, Validation RMSE: 0.3577\n",
      "Epoch 158/1000, Test RMSE: 0.2898\n",
      "Epoch 158/1000, Validation RMSE: 0.3577\n",
      "Epoch 159/1000, Test RMSE: 0.2898\n",
      "Epoch 159/1000, Validation RMSE: 0.3576\n"
     ]
    },
    {
     "name": "stderr",
     "output_type": "stream",
     "text": [
      " 16%|██████████▊                                                        | 162/1000 [00:08<00:45, 18.32it/s]"
     ]
    },
    {
     "name": "stdout",
     "output_type": "stream",
     "text": [
      "Epoch 160/1000, Test RMSE: 0.2898\n",
      "Epoch 160/1000, Validation RMSE: 0.3576\n",
      "Epoch 161/1000, Test RMSE: 0.2898\n",
      "Epoch 161/1000, Validation RMSE: 0.3576\n",
      "Epoch 162/1000, Test RMSE: 0.2898\n",
      "Epoch 162/1000, Validation RMSE: 0.3576\n",
      "Epoch 163/1000, Test RMSE: 0.2898\n",
      "Epoch 163/1000, Validation RMSE: 0.3576\n",
      "Epoch 164/1000, Test RMSE: 0.2898\n",
      "Epoch 164/1000, Validation RMSE: 0.3576\n"
     ]
    },
    {
     "name": "stderr",
     "output_type": "stream",
     "text": [
      " 17%|███████████▎                                                       | 168/1000 [00:08<00:42, 19.66it/s]"
     ]
    },
    {
     "name": "stdout",
     "output_type": "stream",
     "text": [
      "Epoch 165/1000, Test RMSE: 0.2898\n",
      "Epoch 165/1000, Validation RMSE: 0.3576\n",
      "Epoch 166/1000, Test RMSE: 0.2898\n",
      "Epoch 166/1000, Validation RMSE: 0.3576\n",
      "Epoch 167/1000, Test RMSE: 0.2898\n",
      "Epoch 167/1000, Validation RMSE: 0.3576\n",
      "Epoch 168/1000, Test RMSE: 0.2897\n",
      "Epoch 168/1000, Validation RMSE: 0.3576\n",
      "Epoch 169/1000, Test RMSE: 0.2897\n",
      "Epoch 169/1000, Validation RMSE: 0.3576\n"
     ]
    },
    {
     "name": "stderr",
     "output_type": "stream",
     "text": [
      " 17%|███████████▋                                                       | 174/1000 [00:08<00:40, 20.42it/s]"
     ]
    },
    {
     "name": "stdout",
     "output_type": "stream",
     "text": [
      "Epoch 170/1000, Test RMSE: 0.2898\n",
      "Epoch 170/1000, Validation RMSE: 0.3576\n",
      "Epoch 171/1000, Test RMSE: 0.2897\n",
      "Epoch 171/1000, Validation RMSE: 0.3576\n",
      "Epoch 172/1000, Test RMSE: 0.2897\n",
      "Epoch 172/1000, Validation RMSE: 0.3576\n",
      "Epoch 173/1000, Test RMSE: 0.2897\n",
      "Epoch 173/1000, Validation RMSE: 0.3576\n",
      "Epoch 174/1000, Test RMSE: 0.2897\n",
      "Epoch 174/1000, Validation RMSE: 0.3576\n"
     ]
    },
    {
     "name": "stderr",
     "output_type": "stream",
     "text": [
      " 18%|███████████▊                                                       | 177/1000 [00:08<00:39, 20.58it/s]"
     ]
    },
    {
     "name": "stdout",
     "output_type": "stream",
     "text": [
      "Epoch 175/1000, Test RMSE: 0.2897\n",
      "Epoch 175/1000, Validation RMSE: 0.3576\n",
      "Epoch 176/1000, Test RMSE: 0.2897\n",
      "Epoch 176/1000, Validation RMSE: 0.3576\n",
      "Epoch 177/1000, Test RMSE: 0.2897\n",
      "Epoch 177/1000, Validation RMSE: 0.3576\n",
      "Epoch 178/1000, Test RMSE: 0.2897\n",
      "Epoch 178/1000, Validation RMSE: 0.3576\n",
      "Epoch 179/1000, Test RMSE: 0.2897\n",
      "Epoch 179/1000, Validation RMSE: 0.3576\n"
     ]
    },
    {
     "name": "stderr",
     "output_type": "stream",
     "text": [
      " 18%|████████████▎                                                      | 183/1000 [00:09<00:39, 20.85it/s]"
     ]
    },
    {
     "name": "stdout",
     "output_type": "stream",
     "text": [
      "Epoch 180/1000, Test RMSE: 0.2896\n",
      "Epoch 180/1000, Validation RMSE: 0.3576\n",
      "Epoch 181/1000, Test RMSE: 0.2897\n",
      "Epoch 181/1000, Validation RMSE: 0.3577\n",
      "Epoch 182/1000, Test RMSE: 0.2897\n",
      "Epoch 182/1000, Validation RMSE: 0.3576\n",
      "Epoch 183/1000, Test RMSE: 0.2896\n",
      "Epoch 183/1000, Validation RMSE: 0.3576\n",
      "Epoch 184/1000, Test RMSE: 0.2896\n",
      "Epoch 184/1000, Validation RMSE: 0.3576\n"
     ]
    },
    {
     "name": "stderr",
     "output_type": "stream",
     "text": [
      " 19%|████████████▋                                                      | 189/1000 [00:09<00:38, 21.04it/s]"
     ]
    },
    {
     "name": "stdout",
     "output_type": "stream",
     "text": [
      "Epoch 185/1000, Test RMSE: 0.2896\n",
      "Epoch 185/1000, Validation RMSE: 0.3576\n",
      "Epoch 186/1000, Test RMSE: 0.2896\n",
      "Epoch 186/1000, Validation RMSE: 0.3576\n",
      "Epoch 187/1000, Test RMSE: 0.2896\n",
      "Epoch 187/1000, Validation RMSE: 0.3576\n",
      "Epoch 188/1000, Test RMSE: 0.2896\n",
      "Epoch 188/1000, Validation RMSE: 0.3576\n",
      "Epoch 189/1000, Test RMSE: 0.2896\n",
      "Epoch 189/1000, Validation RMSE: 0.3576\n"
     ]
    },
    {
     "name": "stderr",
     "output_type": "stream",
     "text": [
      " 19%|████████████▊                                                      | 192/1000 [00:09<00:38, 21.06it/s]"
     ]
    },
    {
     "name": "stdout",
     "output_type": "stream",
     "text": [
      "Epoch 190/1000, Test RMSE: 0.2896\n",
      "Epoch 190/1000, Validation RMSE: 0.3576\n",
      "Epoch 191/1000, Test RMSE: 0.2896\n",
      "Epoch 191/1000, Validation RMSE: 0.3576\n",
      "Epoch 192/1000, Test RMSE: 0.2896\n",
      "Epoch 192/1000, Validation RMSE: 0.3577\n",
      "Epoch 193/1000, Test RMSE: 0.2896\n",
      "Epoch 193/1000, Validation RMSE: 0.3577\n",
      "Epoch 194/1000, Test RMSE: 0.2895\n",
      "Epoch 194/1000, Validation RMSE: 0.3576\n"
     ]
    },
    {
     "name": "stderr",
     "output_type": "stream",
     "text": [
      " 20%|█████████████▎                                                     | 198/1000 [00:09<00:37, 21.12it/s]"
     ]
    },
    {
     "name": "stdout",
     "output_type": "stream",
     "text": [
      "Epoch 195/1000, Test RMSE: 0.2895\n",
      "Epoch 195/1000, Validation RMSE: 0.3576\n",
      "Epoch 196/1000, Test RMSE: 0.2895\n",
      "Epoch 196/1000, Validation RMSE: 0.3576\n",
      "Epoch 197/1000, Test RMSE: 0.2896\n",
      "Epoch 197/1000, Validation RMSE: 0.3576\n",
      "Epoch 198/1000, Test RMSE: 0.2896\n",
      "Epoch 198/1000, Validation RMSE: 0.3576\n",
      "Epoch 199/1000, Test RMSE: 0.2896\n",
      "Epoch 199/1000, Validation RMSE: 0.3576\n"
     ]
    },
    {
     "name": "stderr",
     "output_type": "stream",
     "text": [
      " 20%|█████████████▋                                                     | 204/1000 [00:10<00:37, 21.02it/s]"
     ]
    },
    {
     "name": "stdout",
     "output_type": "stream",
     "text": [
      "Epoch 200/1000, Test RMSE: 0.2895\n",
      "Epoch 200/1000, Validation RMSE: 0.3576\n",
      "Epoch 201/1000, Test RMSE: 0.2895\n",
      "Epoch 201/1000, Validation RMSE: 0.3576\n",
      "Epoch 202/1000, Test RMSE: 0.2895\n",
      "Epoch 202/1000, Validation RMSE: 0.3577\n",
      "Epoch 203/1000, Test RMSE: 0.2895\n",
      "Epoch 203/1000, Validation RMSE: 0.3577\n",
      "Epoch 204/1000, Test RMSE: 0.2896\n",
      "Epoch 204/1000, Validation RMSE: 0.3577\n"
     ]
    },
    {
     "name": "stderr",
     "output_type": "stream",
     "text": [
      " 21%|█████████████▊                                                     | 207/1000 [00:10<00:37, 21.04it/s]"
     ]
    },
    {
     "name": "stdout",
     "output_type": "stream",
     "text": [
      "Epoch 205/1000, Test RMSE: 0.2895\n",
      "Epoch 205/1000, Validation RMSE: 0.3576\n",
      "Epoch 206/1000, Test RMSE: 0.2894\n",
      "Epoch 206/1000, Validation RMSE: 0.3576\n",
      "Epoch 207/1000, Test RMSE: 0.2894\n",
      "Epoch 207/1000, Validation RMSE: 0.3576\n",
      "Epoch 208/1000, Test RMSE: 0.2894\n",
      "Epoch 208/1000, Validation RMSE: 0.3576\n"
     ]
    },
    {
     "name": "stderr",
     "output_type": "stream",
     "text": [
      " 21%|██████████████▎                                                    | 213/1000 [00:10<00:45, 17.41it/s]"
     ]
    },
    {
     "name": "stdout",
     "output_type": "stream",
     "text": [
      "Epoch 209/1000, Test RMSE: 0.2894\n",
      "Epoch 209/1000, Validation RMSE: 0.3576\n",
      "Epoch 210/1000, Test RMSE: 0.2894\n",
      "Epoch 210/1000, Validation RMSE: 0.3576\n",
      "Epoch 211/1000, Test RMSE: 0.2894\n",
      "Epoch 211/1000, Validation RMSE: 0.3576\n",
      "Epoch 212/1000, Test RMSE: 0.2894\n",
      "Epoch 212/1000, Validation RMSE: 0.3576\n",
      "Epoch 213/1000, Test RMSE: 0.2894\n",
      "Epoch 213/1000, Validation RMSE: 0.3577\n"
     ]
    },
    {
     "name": "stderr",
     "output_type": "stream",
     "text": [
      " 22%|██████████████▍                                                    | 216/1000 [00:10<00:42, 18.38it/s]"
     ]
    },
    {
     "name": "stdout",
     "output_type": "stream",
     "text": [
      "Epoch 214/1000, Test RMSE: 0.2894\n",
      "Epoch 214/1000, Validation RMSE: 0.3577\n",
      "Epoch 215/1000, Test RMSE: 0.2894\n",
      "Epoch 215/1000, Validation RMSE: 0.3577\n",
      "Epoch 216/1000, Test RMSE: 0.2894\n",
      "Epoch 216/1000, Validation RMSE: 0.3577\n",
      "Epoch 217/1000, Test RMSE: 0.2894\n",
      "Epoch 217/1000, Validation RMSE: 0.3576\n",
      "Epoch 218/1000, Test RMSE: 0.2894\n",
      "Epoch 218/1000, Validation RMSE: 0.3576\n"
     ]
    },
    {
     "name": "stderr",
     "output_type": "stream",
     "text": [
      " 22%|██████████████▊                                                    | 222/1000 [00:11<00:39, 19.67it/s]"
     ]
    },
    {
     "name": "stdout",
     "output_type": "stream",
     "text": [
      "Epoch 219/1000, Test RMSE: 0.2893\n",
      "Epoch 219/1000, Validation RMSE: 0.3576\n",
      "Epoch 220/1000, Test RMSE: 0.2893\n",
      "Epoch 220/1000, Validation RMSE: 0.3576\n",
      "Epoch 221/1000, Test RMSE: 0.2893\n",
      "Epoch 221/1000, Validation RMSE: 0.3576\n",
      "Epoch 222/1000, Test RMSE: 0.2893\n",
      "Epoch 222/1000, Validation RMSE: 0.3576\n",
      "Epoch 223/1000, Test RMSE: 0.2893\n",
      "Epoch 223/1000, Validation RMSE: 0.3576\n"
     ]
    },
    {
     "name": "stderr",
     "output_type": "stream",
     "text": [
      " 23%|███████████████▎                                                   | 228/1000 [00:11<00:37, 20.44it/s]"
     ]
    },
    {
     "name": "stdout",
     "output_type": "stream",
     "text": [
      "Epoch 224/1000, Test RMSE: 0.2893\n",
      "Epoch 224/1000, Validation RMSE: 0.3576\n",
      "Epoch 225/1000, Test RMSE: 0.2893\n",
      "Epoch 225/1000, Validation RMSE: 0.3576\n",
      "Epoch 226/1000, Test RMSE: 0.2893\n",
      "Epoch 226/1000, Validation RMSE: 0.3576\n",
      "Epoch 227/1000, Test RMSE: 0.2893\n",
      "Epoch 227/1000, Validation RMSE: 0.3576\n",
      "Epoch 228/1000, Test RMSE: 0.2893\n",
      "Epoch 228/1000, Validation RMSE: 0.3576\n"
     ]
    },
    {
     "name": "stderr",
     "output_type": "stream",
     "text": [
      " 23%|███████████████▍                                                   | 231/1000 [00:11<00:37, 20.65it/s]"
     ]
    },
    {
     "name": "stdout",
     "output_type": "stream",
     "text": [
      "Epoch 229/1000, Test RMSE: 0.2893\n",
      "Epoch 229/1000, Validation RMSE: 0.3577\n",
      "Epoch 230/1000, Test RMSE: 0.2893\n",
      "Epoch 230/1000, Validation RMSE: 0.3577\n",
      "Epoch 231/1000, Test RMSE: 0.2893\n",
      "Epoch 231/1000, Validation RMSE: 0.3577\n",
      "Epoch 232/1000, Test RMSE: 0.2892\n",
      "Epoch 232/1000, Validation RMSE: 0.3576\n",
      "Epoch 233/1000, Test RMSE: 0.2892\n",
      "Epoch 233/1000, Validation RMSE: 0.3576\n"
     ]
    },
    {
     "name": "stderr",
     "output_type": "stream",
     "text": [
      " 24%|███████████████▉                                                   | 237/1000 [00:11<00:36, 20.97it/s]"
     ]
    },
    {
     "name": "stdout",
     "output_type": "stream",
     "text": [
      "Epoch 234/1000, Test RMSE: 0.2892\n",
      "Epoch 234/1000, Validation RMSE: 0.3576\n",
      "Epoch 235/1000, Test RMSE: 0.2892\n",
      "Epoch 235/1000, Validation RMSE: 0.3576\n",
      "Epoch 236/1000, Test RMSE: 0.2892\n",
      "Epoch 236/1000, Validation RMSE: 0.3576\n",
      "Epoch 237/1000, Test RMSE: 0.2892\n",
      "Epoch 237/1000, Validation RMSE: 0.3577\n",
      "Epoch 238/1000, Test RMSE: 0.2892\n",
      "Epoch 238/1000, Validation RMSE: 0.3577\n"
     ]
    },
    {
     "name": "stderr",
     "output_type": "stream",
     "text": [
      " 24%|████████████████▎                                                  | 243/1000 [00:12<00:35, 21.06it/s]"
     ]
    },
    {
     "name": "stdout",
     "output_type": "stream",
     "text": [
      "Epoch 239/1000, Test RMSE: 0.2892\n",
      "Epoch 239/1000, Validation RMSE: 0.3577\n",
      "Epoch 240/1000, Test RMSE: 0.2892\n",
      "Epoch 240/1000, Validation RMSE: 0.3576\n",
      "Epoch 241/1000, Test RMSE: 0.2892\n",
      "Epoch 241/1000, Validation RMSE: 0.3576\n",
      "Epoch 242/1000, Test RMSE: 0.2892\n",
      "Epoch 242/1000, Validation RMSE: 0.3576\n",
      "Epoch 243/1000, Test RMSE: 0.2891\n",
      "Epoch 243/1000, Validation RMSE: 0.3576\n"
     ]
    },
    {
     "name": "stderr",
     "output_type": "stream",
     "text": [
      " 25%|████████████████▍                                                  | 246/1000 [00:12<00:35, 21.07it/s]"
     ]
    },
    {
     "name": "stdout",
     "output_type": "stream",
     "text": [
      "Epoch 244/1000, Test RMSE: 0.2891\n",
      "Epoch 244/1000, Validation RMSE: 0.3576\n",
      "Epoch 245/1000, Test RMSE: 0.2891\n",
      "Epoch 245/1000, Validation RMSE: 0.3576\n",
      "Epoch 246/1000, Test RMSE: 0.2891\n",
      "Epoch 246/1000, Validation RMSE: 0.3576\n",
      "Epoch 247/1000, Test RMSE: 0.2891\n",
      "Epoch 247/1000, Validation RMSE: 0.3577\n",
      "Epoch 248/1000, Test RMSE: 0.2891\n",
      "Epoch 248/1000, Validation RMSE: 0.3577\n"
     ]
    },
    {
     "name": "stderr",
     "output_type": "stream",
     "text": [
      " 25%|████████████████▉                                                  | 252/1000 [00:12<00:35, 21.14it/s]"
     ]
    },
    {
     "name": "stdout",
     "output_type": "stream",
     "text": [
      "Epoch 249/1000, Test RMSE: 0.2891\n",
      "Epoch 249/1000, Validation RMSE: 0.3577\n",
      "Epoch 250/1000, Test RMSE: 0.2891\n",
      "Epoch 250/1000, Validation RMSE: 0.3577\n",
      "Epoch 251/1000, Test RMSE: 0.2891\n",
      "Epoch 251/1000, Validation RMSE: 0.3577\n",
      "Epoch 252/1000, Test RMSE: 0.2891\n",
      "Epoch 252/1000, Validation RMSE: 0.3577\n",
      "Epoch 253/1000, Test RMSE: 0.2891\n",
      "Epoch 253/1000, Validation RMSE: 0.3577\n"
     ]
    },
    {
     "name": "stderr",
     "output_type": "stream",
     "text": [
      " 26%|█████████████████▎                                                 | 258/1000 [00:12<00:35, 21.15it/s]"
     ]
    },
    {
     "name": "stdout",
     "output_type": "stream",
     "text": [
      "Epoch 254/1000, Test RMSE: 0.2891\n",
      "Epoch 254/1000, Validation RMSE: 0.3577\n",
      "Epoch 255/1000, Test RMSE: 0.2891\n",
      "Epoch 255/1000, Validation RMSE: 0.3577\n",
      "Epoch 256/1000, Test RMSE: 0.2891\n",
      "Epoch 256/1000, Validation RMSE: 0.3576\n",
      "Epoch 257/1000, Test RMSE: 0.2890\n",
      "Epoch 257/1000, Validation RMSE: 0.3576\n",
      "Epoch 258/1000, Test RMSE: 0.2890\n",
      "Epoch 258/1000, Validation RMSE: 0.3576\n"
     ]
    },
    {
     "name": "stderr",
     "output_type": "stream",
     "text": [
      " 26%|█████████████████▍                                                 | 261/1000 [00:12<00:34, 21.18it/s]"
     ]
    },
    {
     "name": "stdout",
     "output_type": "stream",
     "text": [
      "Epoch 259/1000, Test RMSE: 0.2890\n",
      "Epoch 259/1000, Validation RMSE: 0.3576\n",
      "Epoch 260/1000, Test RMSE: 0.2890\n",
      "Epoch 260/1000, Validation RMSE: 0.3576\n",
      "Epoch 261/1000, Test RMSE: 0.2890\n",
      "Epoch 261/1000, Validation RMSE: 0.3576\n",
      "Epoch 262/1000, Test RMSE: 0.2890\n",
      "Epoch 262/1000, Validation RMSE: 0.3577\n"
     ]
    },
    {
     "name": "stderr",
     "output_type": "stream",
     "text": [
      " 27%|█████████████████▉                                                 | 267/1000 [00:13<00:41, 17.52it/s]"
     ]
    },
    {
     "name": "stdout",
     "output_type": "stream",
     "text": [
      "Epoch 263/1000, Test RMSE: 0.2890\n",
      "Epoch 263/1000, Validation RMSE: 0.3577\n",
      "Epoch 264/1000, Test RMSE: 0.2890\n",
      "Epoch 264/1000, Validation RMSE: 0.3577\n",
      "Epoch 265/1000, Test RMSE: 0.2890\n",
      "Epoch 265/1000, Validation RMSE: 0.3576\n",
      "Epoch 266/1000, Test RMSE: 0.2890\n",
      "Epoch 266/1000, Validation RMSE: 0.3576\n",
      "Epoch 267/1000, Test RMSE: 0.2890\n",
      "Epoch 267/1000, Validation RMSE: 0.3576\n"
     ]
    },
    {
     "name": "stderr",
     "output_type": "stream",
     "text": [
      " 27%|██████████████████                                                 | 270/1000 [00:13<00:39, 18.46it/s]"
     ]
    },
    {
     "name": "stdout",
     "output_type": "stream",
     "text": [
      "Epoch 268/1000, Test RMSE: 0.2890\n",
      "Epoch 268/1000, Validation RMSE: 0.3576\n",
      "Epoch 269/1000, Test RMSE: 0.2890\n",
      "Epoch 269/1000, Validation RMSE: 0.3576\n",
      "Epoch 270/1000, Test RMSE: 0.2890\n",
      "Epoch 270/1000, Validation RMSE: 0.3577\n",
      "Epoch 271/1000, Test RMSE: 0.2889\n",
      "Epoch 271/1000, Validation RMSE: 0.3577\n",
      "Epoch 272/1000, Test RMSE: 0.2889\n",
      "Epoch 272/1000, Validation RMSE: 0.3576\n"
     ]
    },
    {
     "name": "stderr",
     "output_type": "stream",
     "text": [
      " 28%|██████████████████▍                                                | 276/1000 [00:13<00:36, 19.75it/s]"
     ]
    },
    {
     "name": "stdout",
     "output_type": "stream",
     "text": [
      "Epoch 273/1000, Test RMSE: 0.2889\n",
      "Epoch 273/1000, Validation RMSE: 0.3576\n",
      "Epoch 274/1000, Test RMSE: 0.2889\n",
      "Epoch 274/1000, Validation RMSE: 0.3576\n",
      "Epoch 275/1000, Test RMSE: 0.2889\n",
      "Epoch 275/1000, Validation RMSE: 0.3576\n",
      "Epoch 276/1000, Test RMSE: 0.2889\n",
      "Epoch 276/1000, Validation RMSE: 0.3576\n",
      "Epoch 277/1000, Test RMSE: 0.2889\n",
      "Epoch 277/1000, Validation RMSE: 0.3576\n"
     ]
    },
    {
     "name": "stderr",
     "output_type": "stream",
     "text": [
      " 28%|██████████████████▉                                                | 282/1000 [00:14<00:35, 20.48it/s]"
     ]
    },
    {
     "name": "stdout",
     "output_type": "stream",
     "text": [
      "Epoch 278/1000, Test RMSE: 0.2889\n",
      "Epoch 278/1000, Validation RMSE: 0.3576\n",
      "Epoch 279/1000, Test RMSE: 0.2889\n",
      "Epoch 279/1000, Validation RMSE: 0.3576\n",
      "Epoch 280/1000, Test RMSE: 0.2888\n",
      "Epoch 280/1000, Validation RMSE: 0.3577\n",
      "Epoch 281/1000, Test RMSE: 0.2889\n",
      "Epoch 281/1000, Validation RMSE: 0.3577\n",
      "Epoch 282/1000, Test RMSE: 0.2889\n",
      "Epoch 282/1000, Validation RMSE: 0.3577\n"
     ]
    },
    {
     "name": "stderr",
     "output_type": "stream",
     "text": [
      " 28%|███████████████████                                                | 285/1000 [00:14<00:34, 20.64it/s]"
     ]
    },
    {
     "name": "stdout",
     "output_type": "stream",
     "text": [
      "Epoch 283/1000, Test RMSE: 0.2889\n",
      "Epoch 283/1000, Validation RMSE: 0.3576\n",
      "Epoch 284/1000, Test RMSE: 0.2888\n",
      "Epoch 284/1000, Validation RMSE: 0.3576\n",
      "Epoch 285/1000, Test RMSE: 0.2888\n",
      "Epoch 285/1000, Validation RMSE: 0.3576\n",
      "Epoch 286/1000, Test RMSE: 0.2888\n",
      "Epoch 286/1000, Validation RMSE: 0.3576\n",
      "Epoch 287/1000, Test RMSE: 0.2888\n",
      "Epoch 287/1000, Validation RMSE: 0.3576\n"
     ]
    },
    {
     "name": "stderr",
     "output_type": "stream",
     "text": [
      " 29%|███████████████████▍                                               | 291/1000 [00:14<00:33, 20.88it/s]"
     ]
    },
    {
     "name": "stdout",
     "output_type": "stream",
     "text": [
      "Epoch 288/1000, Test RMSE: 0.2888\n",
      "Epoch 288/1000, Validation RMSE: 0.3576\n",
      "Epoch 289/1000, Test RMSE: 0.2888\n",
      "Epoch 289/1000, Validation RMSE: 0.3576\n",
      "Epoch 290/1000, Test RMSE: 0.2888\n",
      "Epoch 290/1000, Validation RMSE: 0.3576\n",
      "Epoch 291/1000, Test RMSE: 0.2888\n",
      "Epoch 291/1000, Validation RMSE: 0.3577\n",
      "Epoch 292/1000, Test RMSE: 0.2888\n",
      "Epoch 292/1000, Validation RMSE: 0.3577\n"
     ]
    },
    {
     "name": "stderr",
     "output_type": "stream",
     "text": [
      " 30%|███████████████████▉                                               | 297/1000 [00:14<00:33, 21.03it/s]"
     ]
    },
    {
     "name": "stdout",
     "output_type": "stream",
     "text": [
      "Epoch 293/1000, Test RMSE: 0.2888\n",
      "Epoch 293/1000, Validation RMSE: 0.3577\n",
      "Epoch 294/1000, Test RMSE: 0.2887\n",
      "Epoch 294/1000, Validation RMSE: 0.3576\n",
      "Epoch 295/1000, Test RMSE: 0.2887\n",
      "Epoch 295/1000, Validation RMSE: 0.3576\n",
      "Epoch 296/1000, Test RMSE: 0.2887\n",
      "Epoch 296/1000, Validation RMSE: 0.3576\n",
      "Epoch 297/1000, Test RMSE: 0.2887\n",
      "Epoch 297/1000, Validation RMSE: 0.3576\n"
     ]
    },
    {
     "name": "stderr",
     "output_type": "stream",
     "text": [
      " 30%|████████████████████                                               | 300/1000 [00:14<00:33, 21.05it/s]"
     ]
    },
    {
     "name": "stdout",
     "output_type": "stream",
     "text": [
      "Epoch 298/1000, Test RMSE: 0.2887\n",
      "Epoch 298/1000, Validation RMSE: 0.3576\n",
      "Epoch 299/1000, Test RMSE: 0.2887\n",
      "Epoch 299/1000, Validation RMSE: 0.3576\n",
      "Epoch 300/1000, Test RMSE: 0.2887\n",
      "Epoch 300/1000, Validation RMSE: 0.3576\n",
      "Epoch 301/1000, Test RMSE: 0.2887\n",
      "Epoch 301/1000, Validation RMSE: 0.3576\n",
      "Epoch 302/1000, Test RMSE: 0.2887\n",
      "Epoch 302/1000, Validation RMSE: 0.3576\n"
     ]
    },
    {
     "name": "stderr",
     "output_type": "stream",
     "text": [
      " 31%|████████████████████▌                                              | 306/1000 [00:15<00:32, 21.08it/s]"
     ]
    },
    {
     "name": "stdout",
     "output_type": "stream",
     "text": [
      "Epoch 303/1000, Test RMSE: 0.2887\n",
      "Epoch 303/1000, Validation RMSE: 0.3576\n",
      "Epoch 304/1000, Test RMSE: 0.2886\n",
      "Epoch 304/1000, Validation RMSE: 0.3576\n",
      "Epoch 305/1000, Test RMSE: 0.2886\n",
      "Epoch 305/1000, Validation RMSE: 0.3576\n",
      "Epoch 306/1000, Test RMSE: 0.2886\n",
      "Epoch 306/1000, Validation RMSE: 0.3577\n",
      "Epoch 307/1000, Test RMSE: 0.2886\n",
      "Epoch 307/1000, Validation RMSE: 0.3577\n"
     ]
    },
    {
     "name": "stderr",
     "output_type": "stream",
     "text": [
      " 31%|████████████████████▉                                              | 312/1000 [00:15<00:32, 21.13it/s]"
     ]
    },
    {
     "name": "stdout",
     "output_type": "stream",
     "text": [
      "Epoch 308/1000, Test RMSE: 0.2886\n",
      "Epoch 308/1000, Validation RMSE: 0.3576\n",
      "Epoch 309/1000, Test RMSE: 0.2886\n",
      "Epoch 309/1000, Validation RMSE: 0.3576\n",
      "Epoch 310/1000, Test RMSE: 0.2886\n",
      "Epoch 310/1000, Validation RMSE: 0.3576\n",
      "Epoch 311/1000, Test RMSE: 0.2886\n",
      "Epoch 311/1000, Validation RMSE: 0.3576\n",
      "Epoch 312/1000, Test RMSE: 0.2886\n",
      "Epoch 312/1000, Validation RMSE: 0.3576\n"
     ]
    },
    {
     "name": "stderr",
     "output_type": "stream",
     "text": [
      " 32%|█████████████████████                                              | 315/1000 [00:15<00:32, 21.17it/s]"
     ]
    },
    {
     "name": "stdout",
     "output_type": "stream",
     "text": [
      "Epoch 313/1000, Test RMSE: 0.2886\n",
      "Epoch 313/1000, Validation RMSE: 0.3576\n",
      "Epoch 314/1000, Test RMSE: 0.2886\n",
      "Epoch 314/1000, Validation RMSE: 0.3576\n",
      "Epoch 315/1000, Test RMSE: 0.2886\n",
      "Epoch 315/1000, Validation RMSE: 0.3576\n"
     ]
    },
    {
     "name": "stderr",
     "output_type": "stream",
     "text": [
      " 32%|█████████████████████▎                                             | 318/1000 [00:15<00:41, 16.29it/s]"
     ]
    },
    {
     "name": "stdout",
     "output_type": "stream",
     "text": [
      "Epoch 316/1000, Test RMSE: 0.2886\n",
      "Epoch 316/1000, Validation RMSE: 0.3576\n",
      "Epoch 317/1000, Test RMSE: 0.2886\n",
      "Epoch 317/1000, Validation RMSE: 0.3576\n",
      "Epoch 318/1000, Test RMSE: 0.2886\n",
      "Epoch 318/1000, Validation RMSE: 0.3577\n",
      "Epoch 319/1000, Test RMSE: 0.2886\n",
      "Epoch 319/1000, Validation RMSE: 0.3577\n",
      "Epoch 320/1000, Test RMSE: 0.2886\n",
      "Epoch 320/1000, Validation RMSE: 0.3576\n"
     ]
    },
    {
     "name": "stderr",
     "output_type": "stream",
     "text": [
      " 32%|█████████████████████▋                                             | 324/1000 [00:16<00:36, 18.49it/s]"
     ]
    },
    {
     "name": "stdout",
     "output_type": "stream",
     "text": [
      "Epoch 321/1000, Test RMSE: 0.2885\n",
      "Epoch 321/1000, Validation RMSE: 0.3576\n",
      "Epoch 322/1000, Test RMSE: 0.2885\n",
      "Epoch 322/1000, Validation RMSE: 0.3576\n",
      "Epoch 323/1000, Test RMSE: 0.2885\n",
      "Epoch 323/1000, Validation RMSE: 0.3576\n",
      "Epoch 324/1000, Test RMSE: 0.2885\n",
      "Epoch 324/1000, Validation RMSE: 0.3576\n",
      "Epoch 325/1000, Test RMSE: 0.2885\n",
      "Epoch 325/1000, Validation RMSE: 0.3576\n"
     ]
    },
    {
     "name": "stderr",
     "output_type": "stream",
     "text": [
      " 33%|██████████████████████                                             | 330/1000 [00:16<00:33, 19.79it/s]"
     ]
    },
    {
     "name": "stdout",
     "output_type": "stream",
     "text": [
      "Epoch 326/1000, Test RMSE: 0.2885\n",
      "Epoch 326/1000, Validation RMSE: 0.3576\n",
      "Epoch 327/1000, Test RMSE: 0.2885\n",
      "Epoch 327/1000, Validation RMSE: 0.3576\n",
      "Epoch 328/1000, Test RMSE: 0.2884\n",
      "Epoch 328/1000, Validation RMSE: 0.3576\n",
      "Epoch 329/1000, Test RMSE: 0.2885\n",
      "Epoch 329/1000, Validation RMSE: 0.3577\n",
      "Epoch 330/1000, Test RMSE: 0.2885\n",
      "Epoch 330/1000, Validation RMSE: 0.3577\n"
     ]
    },
    {
     "name": "stderr",
     "output_type": "stream",
     "text": [
      " 33%|██████████████████████▎                                            | 333/1000 [00:16<00:33, 20.18it/s]"
     ]
    },
    {
     "name": "stdout",
     "output_type": "stream",
     "text": [
      "Epoch 331/1000, Test RMSE: 0.2885\n",
      "Epoch 331/1000, Validation RMSE: 0.3576\n",
      "Epoch 332/1000, Test RMSE: 0.2884\n",
      "Epoch 332/1000, Validation RMSE: 0.3576\n",
      "Epoch 333/1000, Test RMSE: 0.2884\n",
      "Epoch 333/1000, Validation RMSE: 0.3576\n",
      "Epoch 334/1000, Test RMSE: 0.2884\n",
      "Epoch 334/1000, Validation RMSE: 0.3576\n",
      "Epoch 335/1000, Test RMSE: 0.2884\n",
      "Epoch 335/1000, Validation RMSE: 0.3576\n"
     ]
    },
    {
     "name": "stderr",
     "output_type": "stream",
     "text": [
      " 34%|██████████████████████▋                                            | 339/1000 [00:16<00:32, 20.62it/s]"
     ]
    },
    {
     "name": "stdout",
     "output_type": "stream",
     "text": [
      "Epoch 336/1000, Test RMSE: 0.2884\n",
      "Epoch 336/1000, Validation RMSE: 0.3576\n",
      "Epoch 337/1000, Test RMSE: 0.2884\n",
      "Epoch 337/1000, Validation RMSE: 0.3576\n",
      "Epoch 338/1000, Test RMSE: 0.2884\n",
      "Epoch 338/1000, Validation RMSE: 0.3576\n",
      "Epoch 339/1000, Test RMSE: 0.2884\n",
      "Epoch 339/1000, Validation RMSE: 0.3576\n",
      "Epoch 340/1000, Test RMSE: 0.2884\n",
      "Epoch 340/1000, Validation RMSE: 0.3576\n"
     ]
    },
    {
     "name": "stderr",
     "output_type": "stream",
     "text": [
      " 34%|███████████████████████                                            | 345/1000 [00:17<00:31, 20.95it/s]"
     ]
    },
    {
     "name": "stdout",
     "output_type": "stream",
     "text": [
      "Epoch 341/1000, Test RMSE: 0.2883\n",
      "Epoch 341/1000, Validation RMSE: 0.3576\n",
      "Epoch 342/1000, Test RMSE: 0.2883\n",
      "Epoch 342/1000, Validation RMSE: 0.3576\n",
      "Epoch 343/1000, Test RMSE: 0.2883\n",
      "Epoch 343/1000, Validation RMSE: 0.3576\n",
      "Epoch 344/1000, Test RMSE: 0.2883\n",
      "Epoch 344/1000, Validation RMSE: 0.3576\n",
      "Epoch 345/1000, Test RMSE: 0.2883\n",
      "Epoch 345/1000, Validation RMSE: 0.3576\n"
     ]
    },
    {
     "name": "stderr",
     "output_type": "stream",
     "text": [
      " 35%|███████████████████████▎                                           | 348/1000 [00:17<00:31, 21.03it/s]"
     ]
    },
    {
     "name": "stdout",
     "output_type": "stream",
     "text": [
      "Epoch 346/1000, Test RMSE: 0.2883\n",
      "Epoch 346/1000, Validation RMSE: 0.3576\n",
      "Epoch 347/1000, Test RMSE: 0.2883\n",
      "Epoch 347/1000, Validation RMSE: 0.3576\n",
      "Epoch 348/1000, Test RMSE: 0.2883\n",
      "Epoch 348/1000, Validation RMSE: 0.3576\n",
      "Epoch 349/1000, Test RMSE: 0.2883\n",
      "Epoch 349/1000, Validation RMSE: 0.3576\n",
      "Epoch 350/1000, Test RMSE: 0.2883\n",
      "Epoch 350/1000, Validation RMSE: 0.3576\n"
     ]
    },
    {
     "name": "stderr",
     "output_type": "stream",
     "text": [
      " 35%|███████████████████████▋                                           | 354/1000 [00:17<00:30, 21.16it/s]"
     ]
    },
    {
     "name": "stdout",
     "output_type": "stream",
     "text": [
      "Epoch 351/1000, Test RMSE: 0.2883\n",
      "Epoch 351/1000, Validation RMSE: 0.3576\n",
      "Epoch 352/1000, Test RMSE: 0.2883\n",
      "Epoch 352/1000, Validation RMSE: 0.3576\n",
      "Epoch 353/1000, Test RMSE: 0.2882\n",
      "Epoch 353/1000, Validation RMSE: 0.3576\n",
      "Epoch 354/1000, Test RMSE: 0.2883\n",
      "Epoch 354/1000, Validation RMSE: 0.3576\n",
      "Epoch 355/1000, Test RMSE: 0.2883\n",
      "Epoch 355/1000, Validation RMSE: 0.3576\n"
     ]
    },
    {
     "name": "stderr",
     "output_type": "stream",
     "text": [
      " 36%|████████████████████████                                           | 360/1000 [00:17<00:30, 21.25it/s]"
     ]
    },
    {
     "name": "stdout",
     "output_type": "stream",
     "text": [
      "Epoch 356/1000, Test RMSE: 0.2882\n",
      "Epoch 356/1000, Validation RMSE: 0.3576\n",
      "Epoch 357/1000, Test RMSE: 0.2882\n",
      "Epoch 357/1000, Validation RMSE: 0.3576\n",
      "Epoch 358/1000, Test RMSE: 0.2882\n",
      "Epoch 358/1000, Validation RMSE: 0.3576\n",
      "Epoch 359/1000, Test RMSE: 0.2882\n",
      "Epoch 359/1000, Validation RMSE: 0.3576\n",
      "Epoch 360/1000, Test RMSE: 0.2882\n",
      "Epoch 360/1000, Validation RMSE: 0.3576\n"
     ]
    },
    {
     "name": "stderr",
     "output_type": "stream",
     "text": [
      " 36%|████████████████████████▎                                          | 363/1000 [00:17<00:29, 21.24it/s]"
     ]
    },
    {
     "name": "stdout",
     "output_type": "stream",
     "text": [
      "Epoch 361/1000, Test RMSE: 0.2882\n",
      "Epoch 361/1000, Validation RMSE: 0.3576\n",
      "Epoch 362/1000, Test RMSE: 0.2882\n",
      "Epoch 362/1000, Validation RMSE: 0.3576\n",
      "Epoch 363/1000, Test RMSE: 0.2882\n",
      "Epoch 363/1000, Validation RMSE: 0.3576\n",
      "Epoch 364/1000, Test RMSE: 0.2882\n",
      "Epoch 364/1000, Validation RMSE: 0.3576\n",
      "Epoch 365/1000, Test RMSE: 0.2882\n",
      "Epoch 365/1000, Validation RMSE: 0.3576\n"
     ]
    },
    {
     "name": "stderr",
     "output_type": "stream",
     "text": [
      " 37%|████████████████████████▋                                          | 369/1000 [00:18<00:29, 21.25it/s]"
     ]
    },
    {
     "name": "stdout",
     "output_type": "stream",
     "text": [
      "Epoch 366/1000, Test RMSE: 0.2882\n",
      "Epoch 366/1000, Validation RMSE: 0.3576\n",
      "Epoch 367/1000, Test RMSE: 0.2881\n",
      "Epoch 367/1000, Validation RMSE: 0.3576\n",
      "Epoch 368/1000, Test RMSE: 0.2881\n",
      "Epoch 368/1000, Validation RMSE: 0.3576\n",
      "Epoch 369/1000, Test RMSE: 0.2881\n",
      "Epoch 369/1000, Validation RMSE: 0.3576\n"
     ]
    },
    {
     "name": "stderr",
     "output_type": "stream",
     "text": [
      " 37%|████████████████████████▉                                          | 372/1000 [00:18<00:38, 16.31it/s]"
     ]
    },
    {
     "name": "stdout",
     "output_type": "stream",
     "text": [
      "Epoch 370/1000, Test RMSE: 0.2881\n",
      "Epoch 370/1000, Validation RMSE: 0.3576\n",
      "Epoch 371/1000, Test RMSE: 0.2881\n",
      "Epoch 371/1000, Validation RMSE: 0.3576\n",
      "Epoch 372/1000, Test RMSE: 0.2881\n",
      "Epoch 372/1000, Validation RMSE: 0.3576\n",
      "Epoch 373/1000, Test RMSE: 0.2881\n",
      "Epoch 373/1000, Validation RMSE: 0.3577\n",
      "Epoch 374/1000, Test RMSE: 0.2881\n",
      "Epoch 374/1000, Validation RMSE: 0.3577\n"
     ]
    },
    {
     "name": "stderr",
     "output_type": "stream",
     "text": [
      " 38%|█████████████████████████▎                                         | 378/1000 [00:18<00:33, 18.48it/s]"
     ]
    },
    {
     "name": "stdout",
     "output_type": "stream",
     "text": [
      "Epoch 375/1000, Test RMSE: 0.2881\n",
      "Epoch 375/1000, Validation RMSE: 0.3576\n",
      "Epoch 376/1000, Test RMSE: 0.2881\n",
      "Epoch 376/1000, Validation RMSE: 0.3576\n",
      "Epoch 377/1000, Test RMSE: 0.2880\n",
      "Epoch 377/1000, Validation RMSE: 0.3576\n",
      "Epoch 378/1000, Test RMSE: 0.2880\n",
      "Epoch 378/1000, Validation RMSE: 0.3576\n",
      "Epoch 379/1000, Test RMSE: 0.2880\n",
      "Epoch 379/1000, Validation RMSE: 0.3576\n"
     ]
    },
    {
     "name": "stderr",
     "output_type": "stream",
     "text": [
      " 38%|█████████████████████████▋                                         | 384/1000 [00:19<00:31, 19.69it/s]"
     ]
    },
    {
     "name": "stdout",
     "output_type": "stream",
     "text": [
      "Epoch 380/1000, Test RMSE: 0.2880\n",
      "Epoch 380/1000, Validation RMSE: 0.3576\n",
      "Epoch 381/1000, Test RMSE: 0.2880\n",
      "Epoch 381/1000, Validation RMSE: 0.3576\n",
      "Epoch 382/1000, Test RMSE: 0.2880\n",
      "Epoch 382/1000, Validation RMSE: 0.3576\n",
      "Epoch 383/1000, Test RMSE: 0.2880\n",
      "Epoch 383/1000, Validation RMSE: 0.3576\n",
      "Epoch 384/1000, Test RMSE: 0.2880\n",
      "Epoch 384/1000, Validation RMSE: 0.3576\n"
     ]
    },
    {
     "name": "stderr",
     "output_type": "stream",
     "text": [
      " 39%|█████████████████████████▉                                         | 387/1000 [00:19<00:30, 20.13it/s]"
     ]
    },
    {
     "name": "stdout",
     "output_type": "stream",
     "text": [
      "Epoch 385/1000, Test RMSE: 0.2880\n",
      "Epoch 385/1000, Validation RMSE: 0.3576\n",
      "Epoch 386/1000, Test RMSE: 0.2880\n",
      "Epoch 386/1000, Validation RMSE: 0.3577\n",
      "Epoch 387/1000, Test RMSE: 0.2880\n",
      "Epoch 387/1000, Validation RMSE: 0.3578\n",
      "Epoch 388/1000, Test RMSE: 0.2880\n",
      "Epoch 388/1000, Validation RMSE: 0.3578\n",
      "Epoch 389/1000, Test RMSE: 0.2880\n",
      "Epoch 389/1000, Validation RMSE: 0.3577\n"
     ]
    },
    {
     "name": "stderr",
     "output_type": "stream",
     "text": [
      " 39%|██████████████████████████▎                                        | 393/1000 [00:19<00:29, 20.62it/s]"
     ]
    },
    {
     "name": "stdout",
     "output_type": "stream",
     "text": [
      "Epoch 390/1000, Test RMSE: 0.2879\n",
      "Epoch 390/1000, Validation RMSE: 0.3576\n",
      "Epoch 391/1000, Test RMSE: 0.2880\n",
      "Epoch 391/1000, Validation RMSE: 0.3576\n",
      "Epoch 392/1000, Test RMSE: 0.2880\n",
      "Epoch 392/1000, Validation RMSE: 0.3576\n",
      "Epoch 393/1000, Test RMSE: 0.2879\n",
      "Epoch 393/1000, Validation RMSE: 0.3576\n",
      "Epoch 394/1000, Test RMSE: 0.2879\n",
      "Epoch 394/1000, Validation RMSE: 0.3577\n"
     ]
    },
    {
     "name": "stderr",
     "output_type": "stream",
     "text": [
      " 40%|██████████████████████████▋                                        | 399/1000 [00:19<00:28, 20.94it/s]"
     ]
    },
    {
     "name": "stdout",
     "output_type": "stream",
     "text": [
      "Epoch 395/1000, Test RMSE: 0.2879\n",
      "Epoch 395/1000, Validation RMSE: 0.3578\n",
      "Epoch 396/1000, Test RMSE: 0.2879\n",
      "Epoch 396/1000, Validation RMSE: 0.3578\n",
      "Epoch 397/1000, Test RMSE: 0.2880\n",
      "Epoch 397/1000, Validation RMSE: 0.3578\n",
      "Epoch 398/1000, Test RMSE: 0.2880\n",
      "Epoch 398/1000, Validation RMSE: 0.3578\n",
      "Epoch 399/1000, Test RMSE: 0.2879\n",
      "Epoch 399/1000, Validation RMSE: 0.3577\n"
     ]
    },
    {
     "name": "stderr",
     "output_type": "stream",
     "text": [
      " 40%|██████████████████████████▉                                        | 402/1000 [00:19<00:28, 21.00it/s]"
     ]
    },
    {
     "name": "stdout",
     "output_type": "stream",
     "text": [
      "Epoch 400/1000, Test RMSE: 0.2879\n",
      "Epoch 400/1000, Validation RMSE: 0.3577\n",
      "Epoch 401/1000, Test RMSE: 0.2878\n",
      "Epoch 401/1000, Validation RMSE: 0.3576\n",
      "Epoch 402/1000, Test RMSE: 0.2879\n",
      "Epoch 402/1000, Validation RMSE: 0.3576\n",
      "Epoch 403/1000, Test RMSE: 0.2879\n",
      "Epoch 403/1000, Validation RMSE: 0.3576\n",
      "Epoch 404/1000, Test RMSE: 0.2879\n",
      "Epoch 404/1000, Validation RMSE: 0.3576\n"
     ]
    },
    {
     "name": "stderr",
     "output_type": "stream",
     "text": [
      " 41%|███████████████████████████▎                                       | 408/1000 [00:20<00:28, 21.13it/s]"
     ]
    },
    {
     "name": "stdout",
     "output_type": "stream",
     "text": [
      "Epoch 405/1000, Test RMSE: 0.2879\n",
      "Epoch 405/1000, Validation RMSE: 0.3576\n",
      "Epoch 406/1000, Test RMSE: 0.2878\n",
      "Epoch 406/1000, Validation RMSE: 0.3576\n",
      "Epoch 407/1000, Test RMSE: 0.2878\n",
      "Epoch 407/1000, Validation RMSE: 0.3576\n",
      "Epoch 408/1000, Test RMSE: 0.2878\n",
      "Epoch 408/1000, Validation RMSE: 0.3577\n",
      "Epoch 409/1000, Test RMSE: 0.2878\n",
      "Epoch 409/1000, Validation RMSE: 0.3577\n"
     ]
    },
    {
     "name": "stderr",
     "output_type": "stream",
     "text": [
      " 41%|███████████████████████████▋                                       | 414/1000 [00:20<00:27, 21.19it/s]"
     ]
    },
    {
     "name": "stdout",
     "output_type": "stream",
     "text": [
      "Epoch 410/1000, Test RMSE: 0.2878\n",
      "Epoch 410/1000, Validation RMSE: 0.3577\n",
      "Epoch 411/1000, Test RMSE: 0.2878\n",
      "Epoch 411/1000, Validation RMSE: 0.3577\n",
      "Epoch 412/1000, Test RMSE: 0.2878\n",
      "Epoch 412/1000, Validation RMSE: 0.3577\n",
      "Epoch 413/1000, Test RMSE: 0.2877\n",
      "Epoch 413/1000, Validation RMSE: 0.3577\n",
      "Epoch 414/1000, Test RMSE: 0.2877\n",
      "Epoch 414/1000, Validation RMSE: 0.3576\n"
     ]
    },
    {
     "name": "stderr",
     "output_type": "stream",
     "text": [
      " 42%|███████████████████████████▉                                       | 417/1000 [00:20<00:27, 21.19it/s]"
     ]
    },
    {
     "name": "stdout",
     "output_type": "stream",
     "text": [
      "Epoch 415/1000, Test RMSE: 0.2877\n",
      "Epoch 415/1000, Validation RMSE: 0.3576\n",
      "Epoch 416/1000, Test RMSE: 0.2877\n",
      "Epoch 416/1000, Validation RMSE: 0.3576\n",
      "Epoch 417/1000, Test RMSE: 0.2877\n",
      "Epoch 417/1000, Validation RMSE: 0.3576\n",
      "Epoch 418/1000, Test RMSE: 0.2877\n",
      "Epoch 418/1000, Validation RMSE: 0.3576\n",
      "Epoch 419/1000, Test RMSE: 0.2877\n",
      "Epoch 419/1000, Validation RMSE: 0.3576\n"
     ]
    },
    {
     "name": "stderr",
     "output_type": "stream",
     "text": [
      " 42%|████████████████████████████▎                                      | 423/1000 [00:20<00:27, 21.23it/s]"
     ]
    },
    {
     "name": "stdout",
     "output_type": "stream",
     "text": [
      "Epoch 420/1000, Test RMSE: 0.2877\n",
      "Epoch 420/1000, Validation RMSE: 0.3576\n",
      "Epoch 421/1000, Test RMSE: 0.2877\n",
      "Epoch 421/1000, Validation RMSE: 0.3576\n",
      "Epoch 422/1000, Test RMSE: 0.2877\n",
      "Epoch 422/1000, Validation RMSE: 0.3576\n",
      "Epoch 423/1000, Test RMSE: 0.2877\n",
      "Epoch 423/1000, Validation RMSE: 0.3576\n"
     ]
    },
    {
     "name": "stderr",
     "output_type": "stream",
     "text": [
      " 43%|████████████████████████████▌                                      | 426/1000 [00:21<00:35, 16.20it/s]"
     ]
    },
    {
     "name": "stdout",
     "output_type": "stream",
     "text": [
      "Epoch 424/1000, Test RMSE: 0.2877\n",
      "Epoch 424/1000, Validation RMSE: 0.3577\n",
      "Epoch 425/1000, Test RMSE: 0.2877\n",
      "Epoch 425/1000, Validation RMSE: 0.3577\n",
      "Epoch 426/1000, Test RMSE: 0.2876\n",
      "Epoch 426/1000, Validation RMSE: 0.3577\n",
      "Epoch 427/1000, Test RMSE: 0.2876\n",
      "Epoch 427/1000, Validation RMSE: 0.3577\n",
      "Epoch 428/1000, Test RMSE: 0.2876\n",
      "Epoch 428/1000, Validation RMSE: 0.3576\n"
     ]
    },
    {
     "name": "stderr",
     "output_type": "stream",
     "text": [
      " 43%|████████████████████████████▉                                      | 432/1000 [00:21<00:30, 18.40it/s]"
     ]
    },
    {
     "name": "stdout",
     "output_type": "stream",
     "text": [
      "Epoch 429/1000, Test RMSE: 0.2876\n",
      "Epoch 429/1000, Validation RMSE: 0.3576\n",
      "Epoch 430/1000, Test RMSE: 0.2876\n",
      "Epoch 430/1000, Validation RMSE: 0.3576\n",
      "Epoch 431/1000, Test RMSE: 0.2876\n",
      "Epoch 431/1000, Validation RMSE: 0.3576\n",
      "Epoch 432/1000, Test RMSE: 0.2876\n",
      "Epoch 432/1000, Validation RMSE: 0.3576\n",
      "Epoch 433/1000, Test RMSE: 0.2876\n",
      "Epoch 433/1000, Validation RMSE: 0.3576\n"
     ]
    },
    {
     "name": "stderr",
     "output_type": "stream",
     "text": [
      " 44%|█████████████████████████████▎                                     | 438/1000 [00:21<00:28, 19.69it/s]"
     ]
    },
    {
     "name": "stdout",
     "output_type": "stream",
     "text": [
      "Epoch 434/1000, Test RMSE: 0.2876\n",
      "Epoch 434/1000, Validation RMSE: 0.3576\n",
      "Epoch 435/1000, Test RMSE: 0.2876\n",
      "Epoch 435/1000, Validation RMSE: 0.3576\n",
      "Epoch 436/1000, Test RMSE: 0.2876\n",
      "Epoch 436/1000, Validation RMSE: 0.3576\n",
      "Epoch 437/1000, Test RMSE: 0.2876\n",
      "Epoch 437/1000, Validation RMSE: 0.3576\n",
      "Epoch 438/1000, Test RMSE: 0.2876\n",
      "Epoch 438/1000, Validation RMSE: 0.3576\n"
     ]
    },
    {
     "name": "stderr",
     "output_type": "stream",
     "text": [
      " 44%|█████████████████████████████▌                                     | 441/1000 [00:21<00:27, 20.09it/s]"
     ]
    },
    {
     "name": "stdout",
     "output_type": "stream",
     "text": [
      "Epoch 439/1000, Test RMSE: 0.2875\n",
      "Epoch 439/1000, Validation RMSE: 0.3577\n",
      "Epoch 440/1000, Test RMSE: 0.2875\n",
      "Epoch 440/1000, Validation RMSE: 0.3577\n",
      "Epoch 441/1000, Test RMSE: 0.2875\n",
      "Epoch 441/1000, Validation RMSE: 0.3576\n",
      "Epoch 442/1000, Test RMSE: 0.2875\n",
      "Epoch 442/1000, Validation RMSE: 0.3576\n",
      "Epoch 443/1000, Test RMSE: 0.2875\n",
      "Epoch 443/1000, Validation RMSE: 0.3576\n"
     ]
    },
    {
     "name": "stderr",
     "output_type": "stream",
     "text": [
      " 45%|█████████████████████████████▉                                     | 447/1000 [00:22<00:26, 20.64it/s]"
     ]
    },
    {
     "name": "stdout",
     "output_type": "stream",
     "text": [
      "Epoch 444/1000, Test RMSE: 0.2875\n",
      "Epoch 444/1000, Validation RMSE: 0.3576\n",
      "Epoch 445/1000, Test RMSE: 0.2875\n",
      "Epoch 445/1000, Validation RMSE: 0.3577\n",
      "Epoch 446/1000, Test RMSE: 0.2875\n",
      "Epoch 446/1000, Validation RMSE: 0.3577\n",
      "Epoch 447/1000, Test RMSE: 0.2875\n",
      "Epoch 447/1000, Validation RMSE: 0.3577\n",
      "Epoch 448/1000, Test RMSE: 0.2875\n",
      "Epoch 448/1000, Validation RMSE: 0.3576\n"
     ]
    },
    {
     "name": "stderr",
     "output_type": "stream",
     "text": [
      " 45%|██████████████████████████████▎                                    | 453/1000 [00:22<00:26, 20.95it/s]"
     ]
    },
    {
     "name": "stdout",
     "output_type": "stream",
     "text": [
      "Epoch 449/1000, Test RMSE: 0.2875\n",
      "Epoch 449/1000, Validation RMSE: 0.3576\n",
      "Epoch 450/1000, Test RMSE: 0.2874\n",
      "Epoch 450/1000, Validation RMSE: 0.3576\n",
      "Epoch 451/1000, Test RMSE: 0.2874\n",
      "Epoch 451/1000, Validation RMSE: 0.3576\n",
      "Epoch 452/1000, Test RMSE: 0.2874\n",
      "Epoch 452/1000, Validation RMSE: 0.3576\n",
      "Epoch 453/1000, Test RMSE: 0.2875\n",
      "Epoch 453/1000, Validation RMSE: 0.3576\n"
     ]
    },
    {
     "name": "stderr",
     "output_type": "stream",
     "text": [
      " 46%|██████████████████████████████▌                                    | 456/1000 [00:22<00:25, 21.03it/s]"
     ]
    },
    {
     "name": "stdout",
     "output_type": "stream",
     "text": [
      "Epoch 454/1000, Test RMSE: 0.2874\n",
      "Epoch 454/1000, Validation RMSE: 0.3576\n",
      "Epoch 455/1000, Test RMSE: 0.2874\n",
      "Epoch 455/1000, Validation RMSE: 0.3576\n",
      "Epoch 456/1000, Test RMSE: 0.2874\n",
      "Epoch 456/1000, Validation RMSE: 0.3576\n",
      "Epoch 457/1000, Test RMSE: 0.2874\n",
      "Epoch 457/1000, Validation RMSE: 0.3576\n",
      "Epoch 458/1000, Test RMSE: 0.2874\n",
      "Epoch 458/1000, Validation RMSE: 0.3576\n"
     ]
    },
    {
     "name": "stderr",
     "output_type": "stream",
     "text": [
      " 46%|██████████████████████████████▉                                    | 462/1000 [00:22<00:25, 21.13it/s]"
     ]
    },
    {
     "name": "stdout",
     "output_type": "stream",
     "text": [
      "Epoch 459/1000, Test RMSE: 0.2874\n",
      "Epoch 459/1000, Validation RMSE: 0.3576\n",
      "Epoch 460/1000, Test RMSE: 0.2874\n",
      "Epoch 460/1000, Validation RMSE: 0.3576\n",
      "Epoch 461/1000, Test RMSE: 0.2873\n",
      "Epoch 461/1000, Validation RMSE: 0.3576\n",
      "Epoch 462/1000, Test RMSE: 0.2873\n",
      "Epoch 462/1000, Validation RMSE: 0.3576\n",
      "Epoch 463/1000, Test RMSE: 0.2873\n",
      "Epoch 463/1000, Validation RMSE: 0.3577\n"
     ]
    },
    {
     "name": "stderr",
     "output_type": "stream",
     "text": [
      " 47%|███████████████████████████████▎                                   | 468/1000 [00:23<00:25, 21.21it/s]"
     ]
    },
    {
     "name": "stdout",
     "output_type": "stream",
     "text": [
      "Epoch 464/1000, Test RMSE: 0.2873\n",
      "Epoch 464/1000, Validation RMSE: 0.3577\n",
      "Epoch 465/1000, Test RMSE: 0.2873\n",
      "Epoch 465/1000, Validation RMSE: 0.3576\n",
      "Epoch 466/1000, Test RMSE: 0.2873\n",
      "Epoch 466/1000, Validation RMSE: 0.3577\n",
      "Epoch 467/1000, Test RMSE: 0.2873\n",
      "Epoch 467/1000, Validation RMSE: 0.3577\n",
      "Epoch 468/1000, Test RMSE: 0.2873\n",
      "Epoch 468/1000, Validation RMSE: 0.3577\n"
     ]
    },
    {
     "name": "stderr",
     "output_type": "stream",
     "text": [
      " 47%|███████████████████████████████▌                                   | 471/1000 [00:23<00:24, 21.16it/s]"
     ]
    },
    {
     "name": "stdout",
     "output_type": "stream",
     "text": [
      "Epoch 469/1000, Test RMSE: 0.2873\n",
      "Epoch 469/1000, Validation RMSE: 0.3577\n",
      "Epoch 470/1000, Test RMSE: 0.2873\n",
      "Epoch 470/1000, Validation RMSE: 0.3576\n",
      "Epoch 471/1000, Test RMSE: 0.2873\n",
      "Epoch 471/1000, Validation RMSE: 0.3576\n",
      "Epoch 472/1000, Test RMSE: 0.2873\n",
      "Epoch 472/1000, Validation RMSE: 0.3576\n",
      "Epoch 473/1000, Test RMSE: 0.2873\n",
      "Epoch 473/1000, Validation RMSE: 0.3576\n"
     ]
    },
    {
     "name": "stderr",
     "output_type": "stream",
     "text": [
      " 47%|███████████████████████████████▊                                   | 474/1000 [00:23<00:24, 21.10it/s]"
     ]
    },
    {
     "name": "stdout",
     "output_type": "stream",
     "text": [
      "Epoch 474/1000, Test RMSE: 0.2873\n",
      "Epoch 474/1000, Validation RMSE: 0.3576\n",
      "Epoch 475/1000, Test RMSE: 0.2873\n",
      "Epoch 475/1000, Validation RMSE: 0.3576\n",
      "Epoch 476/1000, Test RMSE: 0.2872\n",
      "Epoch 476/1000, Validation RMSE: 0.3576\n"
     ]
    },
    {
     "name": "stderr",
     "output_type": "stream",
     "text": [
      " 48%|████████████████████████████████▏                                  | 480/1000 [00:23<00:29, 17.42it/s]"
     ]
    },
    {
     "name": "stdout",
     "output_type": "stream",
     "text": [
      "Epoch 477/1000, Test RMSE: 0.2872\n",
      "Epoch 477/1000, Validation RMSE: 0.3577\n",
      "Epoch 478/1000, Test RMSE: 0.2872\n",
      "Epoch 478/1000, Validation RMSE: 0.3577\n",
      "Epoch 479/1000, Test RMSE: 0.2872\n",
      "Epoch 479/1000, Validation RMSE: 0.3578\n",
      "Epoch 480/1000, Test RMSE: 0.2872\n",
      "Epoch 480/1000, Validation RMSE: 0.3577\n",
      "Epoch 481/1000, Test RMSE: 0.2872\n",
      "Epoch 481/1000, Validation RMSE: 0.3577\n"
     ]
    },
    {
     "name": "stderr",
     "output_type": "stream",
     "text": [
      " 49%|████████████████████████████████▌                                  | 486/1000 [00:24<00:26, 19.15it/s]"
     ]
    },
    {
     "name": "stdout",
     "output_type": "stream",
     "text": [
      "Epoch 482/1000, Test RMSE: 0.2872\n",
      "Epoch 482/1000, Validation RMSE: 0.3577\n",
      "Epoch 483/1000, Test RMSE: 0.2872\n",
      "Epoch 483/1000, Validation RMSE: 0.3577\n",
      "Epoch 484/1000, Test RMSE: 0.2872\n",
      "Epoch 484/1000, Validation RMSE: 0.3577\n",
      "Epoch 485/1000, Test RMSE: 0.2871\n",
      "Epoch 485/1000, Validation RMSE: 0.3576\n",
      "Epoch 486/1000, Test RMSE: 0.2871\n",
      "Epoch 486/1000, Validation RMSE: 0.3576\n"
     ]
    },
    {
     "name": "stderr",
     "output_type": "stream",
     "text": [
      " 49%|████████████████████████████████▊                                  | 489/1000 [00:24<00:25, 19.71it/s]"
     ]
    },
    {
     "name": "stdout",
     "output_type": "stream",
     "text": [
      "Epoch 487/1000, Test RMSE: 0.2872\n",
      "Epoch 487/1000, Validation RMSE: 0.3576\n",
      "Epoch 488/1000, Test RMSE: 0.2872\n",
      "Epoch 488/1000, Validation RMSE: 0.3576\n",
      "Epoch 489/1000, Test RMSE: 0.2871\n",
      "Epoch 489/1000, Validation RMSE: 0.3576\n",
      "Epoch 490/1000, Test RMSE: 0.2871\n",
      "Epoch 490/1000, Validation RMSE: 0.3577\n",
      "Epoch 491/1000, Test RMSE: 0.2871\n",
      "Epoch 491/1000, Validation RMSE: 0.3577\n"
     ]
    },
    {
     "name": "stderr",
     "output_type": "stream",
     "text": [
      " 50%|█████████████████████████████████▏                                 | 495/1000 [00:24<00:24, 20.44it/s]"
     ]
    },
    {
     "name": "stdout",
     "output_type": "stream",
     "text": [
      "Epoch 492/1000, Test RMSE: 0.2871\n",
      "Epoch 492/1000, Validation RMSE: 0.3576\n",
      "Epoch 493/1000, Test RMSE: 0.2871\n",
      "Epoch 493/1000, Validation RMSE: 0.3576\n",
      "Epoch 494/1000, Test RMSE: 0.2871\n",
      "Epoch 494/1000, Validation RMSE: 0.3576\n",
      "Epoch 495/1000, Test RMSE: 0.2871\n",
      "Epoch 495/1000, Validation RMSE: 0.3577\n",
      "Epoch 496/1000, Test RMSE: 0.2871\n",
      "Epoch 496/1000, Validation RMSE: 0.3577\n"
     ]
    },
    {
     "name": "stderr",
     "output_type": "stream",
     "text": [
      " 50%|█████████████████████████████████▌                                 | 501/1000 [00:24<00:23, 20.82it/s]"
     ]
    },
    {
     "name": "stdout",
     "output_type": "stream",
     "text": [
      "Epoch 497/1000, Test RMSE: 0.2871\n",
      "Epoch 497/1000, Validation RMSE: 0.3577\n",
      "Epoch 498/1000, Test RMSE: 0.2870\n",
      "Epoch 498/1000, Validation RMSE: 0.3577\n",
      "Epoch 499/1000, Test RMSE: 0.2870\n",
      "Epoch 499/1000, Validation RMSE: 0.3577\n",
      "Epoch 500/1000, Test RMSE: 0.2870\n",
      "Epoch 500/1000, Validation RMSE: 0.3577\n",
      "Epoch 501/1000, Test RMSE: 0.2870\n",
      "Epoch 501/1000, Validation RMSE: 0.3576\n"
     ]
    },
    {
     "name": "stderr",
     "output_type": "stream",
     "text": [
      " 50%|█████████████████████████████████▊                                 | 504/1000 [00:25<00:23, 20.94it/s]"
     ]
    },
    {
     "name": "stdout",
     "output_type": "stream",
     "text": [
      "Epoch 502/1000, Test RMSE: 0.2870\n",
      "Epoch 502/1000, Validation RMSE: 0.3576\n",
      "Epoch 503/1000, Test RMSE: 0.2870\n",
      "Epoch 503/1000, Validation RMSE: 0.3576\n",
      "Epoch 504/1000, Test RMSE: 0.2870\n",
      "Epoch 504/1000, Validation RMSE: 0.3576\n",
      "Epoch 505/1000, Test RMSE: 0.2870\n",
      "Epoch 505/1000, Validation RMSE: 0.3577\n",
      "Epoch 506/1000, Test RMSE: 0.2870\n",
      "Epoch 506/1000, Validation RMSE: 0.3577\n"
     ]
    },
    {
     "name": "stderr",
     "output_type": "stream",
     "text": [
      " 51%|██████████████████████████████████▏                                | 510/1000 [00:25<00:23, 21.10it/s]"
     ]
    },
    {
     "name": "stdout",
     "output_type": "stream",
     "text": [
      "Epoch 507/1000, Test RMSE: 0.2870\n",
      "Epoch 507/1000, Validation RMSE: 0.3577\n",
      "Epoch 508/1000, Test RMSE: 0.2870\n",
      "Epoch 508/1000, Validation RMSE: 0.3577\n",
      "Epoch 509/1000, Test RMSE: 0.2870\n",
      "Epoch 509/1000, Validation RMSE: 0.3577\n",
      "Epoch 510/1000, Test RMSE: 0.2869\n",
      "Epoch 510/1000, Validation RMSE: 0.3576\n",
      "Epoch 511/1000, Test RMSE: 0.2870\n",
      "Epoch 511/1000, Validation RMSE: 0.3576\n"
     ]
    },
    {
     "name": "stderr",
     "output_type": "stream",
     "text": [
      " 52%|██████████████████████████████████▌                                | 516/1000 [00:25<00:22, 21.16it/s]"
     ]
    },
    {
     "name": "stdout",
     "output_type": "stream",
     "text": [
      "Epoch 512/1000, Test RMSE: 0.2869\n",
      "Epoch 512/1000, Validation RMSE: 0.3577\n",
      "Epoch 513/1000, Test RMSE: 0.2869\n",
      "Epoch 513/1000, Validation RMSE: 0.3577\n",
      "Epoch 514/1000, Test RMSE: 0.2869\n",
      "Epoch 514/1000, Validation RMSE: 0.3577\n",
      "Epoch 515/1000, Test RMSE: 0.2869\n",
      "Epoch 515/1000, Validation RMSE: 0.3577\n",
      "Epoch 516/1000, Test RMSE: 0.2869\n",
      "Epoch 516/1000, Validation RMSE: 0.3576\n"
     ]
    },
    {
     "name": "stderr",
     "output_type": "stream",
     "text": [
      " 52%|██████████████████████████████████▊                                | 519/1000 [00:25<00:22, 21.14it/s]"
     ]
    },
    {
     "name": "stdout",
     "output_type": "stream",
     "text": [
      "Epoch 517/1000, Test RMSE: 0.2869\n",
      "Epoch 517/1000, Validation RMSE: 0.3576\n",
      "Epoch 518/1000, Test RMSE: 0.2869\n",
      "Epoch 518/1000, Validation RMSE: 0.3576\n",
      "Epoch 519/1000, Test RMSE: 0.2869\n",
      "Epoch 519/1000, Validation RMSE: 0.3576\n",
      "Epoch 520/1000, Test RMSE: 0.2869\n",
      "Epoch 520/1000, Validation RMSE: 0.3576\n",
      "Epoch 521/1000, Test RMSE: 0.2869\n",
      "Epoch 521/1000, Validation RMSE: 0.3577\n"
     ]
    },
    {
     "name": "stderr",
     "output_type": "stream",
     "text": [
      " 52%|███████████████████████████████████▏                               | 525/1000 [00:26<00:22, 21.19it/s]"
     ]
    },
    {
     "name": "stdout",
     "output_type": "stream",
     "text": [
      "Epoch 522/1000, Test RMSE: 0.2869\n",
      "Epoch 522/1000, Validation RMSE: 0.3577\n",
      "Epoch 523/1000, Test RMSE: 0.2869\n",
      "Epoch 523/1000, Validation RMSE: 0.3577\n",
      "Epoch 524/1000, Test RMSE: 0.2869\n",
      "Epoch 524/1000, Validation RMSE: 0.3577\n",
      "Epoch 525/1000, Test RMSE: 0.2868\n",
      "Epoch 525/1000, Validation RMSE: 0.3577\n",
      "Epoch 526/1000, Test RMSE: 0.2868\n",
      "Epoch 526/1000, Validation RMSE: 0.3577\n"
     ]
    },
    {
     "name": "stderr",
     "output_type": "stream",
     "text": [
      " 53%|███████████████████████████████████▍                               | 528/1000 [00:26<00:22, 21.24it/s]"
     ]
    },
    {
     "name": "stdout",
     "output_type": "stream",
     "text": [
      "Epoch 527/1000, Test RMSE: 0.2868\n",
      "Epoch 527/1000, Validation RMSE: 0.3576\n",
      "Epoch 528/1000, Test RMSE: 0.2868\n",
      "Epoch 528/1000, Validation RMSE: 0.3576\n",
      "Epoch 529/1000, Test RMSE: 0.2868\n",
      "Epoch 529/1000, Validation RMSE: 0.3576\n",
      "Epoch 530/1000, Test RMSE: 0.2868\n",
      "Epoch 530/1000, Validation RMSE: 0.3576\n"
     ]
    },
    {
     "name": "stderr",
     "output_type": "stream",
     "text": [
      " 53%|███████████████████████████████████▊                               | 534/1000 [00:26<00:26, 17.49it/s]"
     ]
    },
    {
     "name": "stdout",
     "output_type": "stream",
     "text": [
      "Epoch 531/1000, Test RMSE: 0.2868\n",
      "Epoch 531/1000, Validation RMSE: 0.3577\n",
      "Epoch 532/1000, Test RMSE: 0.2868\n",
      "Epoch 532/1000, Validation RMSE: 0.3577\n",
      "Epoch 533/1000, Test RMSE: 0.2868\n",
      "Epoch 533/1000, Validation RMSE: 0.3577\n",
      "Epoch 534/1000, Test RMSE: 0.2868\n",
      "Epoch 534/1000, Validation RMSE: 0.3577\n",
      "Epoch 535/1000, Test RMSE: 0.2868\n",
      "Epoch 535/1000, Validation RMSE: 0.3577\n"
     ]
    },
    {
     "name": "stderr",
     "output_type": "stream",
     "text": [
      " 54%|████████████████████████████████████▏                              | 540/1000 [00:26<00:23, 19.19it/s]"
     ]
    },
    {
     "name": "stdout",
     "output_type": "stream",
     "text": [
      "Epoch 536/1000, Test RMSE: 0.2867\n",
      "Epoch 536/1000, Validation RMSE: 0.3577\n",
      "Epoch 537/1000, Test RMSE: 0.2867\n",
      "Epoch 537/1000, Validation RMSE: 0.3577\n",
      "Epoch 538/1000, Test RMSE: 0.2867\n",
      "Epoch 538/1000, Validation RMSE: 0.3577\n",
      "Epoch 539/1000, Test RMSE: 0.2867\n",
      "Epoch 539/1000, Validation RMSE: 0.3577\n",
      "Epoch 540/1000, Test RMSE: 0.2867\n",
      "Epoch 540/1000, Validation RMSE: 0.3577\n"
     ]
    },
    {
     "name": "stderr",
     "output_type": "stream",
     "text": [
      " 54%|████████████████████████████████████▍                              | 543/1000 [00:27<00:23, 19.75it/s]"
     ]
    },
    {
     "name": "stdout",
     "output_type": "stream",
     "text": [
      "Epoch 541/1000, Test RMSE: 0.2867\n",
      "Epoch 541/1000, Validation RMSE: 0.3577\n",
      "Epoch 542/1000, Test RMSE: 0.2867\n",
      "Epoch 542/1000, Validation RMSE: 0.3577\n",
      "Epoch 543/1000, Test RMSE: 0.2867\n",
      "Epoch 543/1000, Validation RMSE: 0.3577\n",
      "Epoch 544/1000, Test RMSE: 0.2867\n",
      "Epoch 544/1000, Validation RMSE: 0.3577\n",
      "Epoch 545/1000, Test RMSE: 0.2867\n",
      "Epoch 545/1000, Validation RMSE: 0.3577\n"
     ]
    },
    {
     "name": "stderr",
     "output_type": "stream",
     "text": [
      " 55%|████████████████████████████████████▊                              | 549/1000 [00:27<00:21, 20.51it/s]"
     ]
    },
    {
     "name": "stdout",
     "output_type": "stream",
     "text": [
      "Epoch 546/1000, Test RMSE: 0.2867\n",
      "Epoch 546/1000, Validation RMSE: 0.3577\n",
      "Epoch 547/1000, Test RMSE: 0.2867\n",
      "Epoch 547/1000, Validation RMSE: 0.3577\n",
      "Epoch 548/1000, Test RMSE: 0.2866\n",
      "Epoch 548/1000, Validation RMSE: 0.3577\n",
      "Epoch 549/1000, Test RMSE: 0.2866\n",
      "Epoch 549/1000, Validation RMSE: 0.3577\n",
      "Epoch 550/1000, Test RMSE: 0.2866\n",
      "Epoch 550/1000, Validation RMSE: 0.3577\n"
     ]
    },
    {
     "name": "stderr",
     "output_type": "stream",
     "text": [
      " 56%|█████████████████████████████████████▏                             | 555/1000 [00:27<00:21, 20.82it/s]"
     ]
    },
    {
     "name": "stdout",
     "output_type": "stream",
     "text": [
      "Epoch 551/1000, Test RMSE: 0.2866\n",
      "Epoch 551/1000, Validation RMSE: 0.3577\n",
      "Epoch 552/1000, Test RMSE: 0.2866\n",
      "Epoch 552/1000, Validation RMSE: 0.3577\n",
      "Epoch 553/1000, Test RMSE: 0.2866\n",
      "Epoch 553/1000, Validation RMSE: 0.3577\n",
      "Epoch 554/1000, Test RMSE: 0.2866\n",
      "Epoch 554/1000, Validation RMSE: 0.3576\n",
      "Epoch 555/1000, Test RMSE: 0.2866\n",
      "Epoch 555/1000, Validation RMSE: 0.3576\n"
     ]
    },
    {
     "name": "stderr",
     "output_type": "stream",
     "text": [
      " 56%|█████████████████████████████████████▍                             | 558/1000 [00:27<00:21, 20.95it/s]"
     ]
    },
    {
     "name": "stdout",
     "output_type": "stream",
     "text": [
      "Epoch 556/1000, Test RMSE: 0.2866\n",
      "Epoch 556/1000, Validation RMSE: 0.3577\n",
      "Epoch 557/1000, Test RMSE: 0.2866\n",
      "Epoch 557/1000, Validation RMSE: 0.3577\n",
      "Epoch 558/1000, Test RMSE: 0.2866\n",
      "Epoch 558/1000, Validation RMSE: 0.3577\n",
      "Epoch 559/1000, Test RMSE: 0.2866\n",
      "Epoch 559/1000, Validation RMSE: 0.3577\n",
      "Epoch 560/1000, Test RMSE: 0.2866\n",
      "Epoch 560/1000, Validation RMSE: 0.3576\n"
     ]
    },
    {
     "name": "stderr",
     "output_type": "stream",
     "text": [
      " 56%|█████████████████████████████████████▊                             | 564/1000 [00:28<00:20, 21.06it/s]"
     ]
    },
    {
     "name": "stdout",
     "output_type": "stream",
     "text": [
      "Epoch 561/1000, Test RMSE: 0.2865\n",
      "Epoch 561/1000, Validation RMSE: 0.3577\n",
      "Epoch 562/1000, Test RMSE: 0.2865\n",
      "Epoch 562/1000, Validation RMSE: 0.3577\n",
      "Epoch 563/1000, Test RMSE: 0.2865\n",
      "Epoch 563/1000, Validation RMSE: 0.3576\n",
      "Epoch 564/1000, Test RMSE: 0.2865\n",
      "Epoch 564/1000, Validation RMSE: 0.3576\n",
      "Epoch 565/1000, Test RMSE: 0.2865\n",
      "Epoch 565/1000, Validation RMSE: 0.3576\n"
     ]
    },
    {
     "name": "stderr",
     "output_type": "stream",
     "text": [
      " 57%|██████████████████████████████████████▏                            | 570/1000 [00:28<00:20, 21.09it/s]"
     ]
    },
    {
     "name": "stdout",
     "output_type": "stream",
     "text": [
      "Epoch 566/1000, Test RMSE: 0.2865\n",
      "Epoch 566/1000, Validation RMSE: 0.3576\n",
      "Epoch 567/1000, Test RMSE: 0.2865\n",
      "Epoch 567/1000, Validation RMSE: 0.3577\n",
      "Epoch 568/1000, Test RMSE: 0.2865\n",
      "Epoch 568/1000, Validation RMSE: 0.3577\n",
      "Epoch 569/1000, Test RMSE: 0.2865\n",
      "Epoch 569/1000, Validation RMSE: 0.3577\n",
      "Epoch 570/1000, Test RMSE: 0.2865\n",
      "Epoch 570/1000, Validation RMSE: 0.3577\n"
     ]
    },
    {
     "name": "stderr",
     "output_type": "stream",
     "text": [
      " 57%|██████████████████████████████████████▍                            | 573/1000 [00:28<00:20, 21.13it/s]"
     ]
    },
    {
     "name": "stdout",
     "output_type": "stream",
     "text": [
      "Epoch 571/1000, Test RMSE: 0.2865\n",
      "Epoch 571/1000, Validation RMSE: 0.3577\n",
      "Epoch 572/1000, Test RMSE: 0.2865\n",
      "Epoch 572/1000, Validation RMSE: 0.3577\n",
      "Epoch 573/1000, Test RMSE: 0.2864\n",
      "Epoch 573/1000, Validation RMSE: 0.3576\n",
      "Epoch 574/1000, Test RMSE: 0.2864\n",
      "Epoch 574/1000, Validation RMSE: 0.3576\n",
      "Epoch 575/1000, Test RMSE: 0.2864\n",
      "Epoch 575/1000, Validation RMSE: 0.3576\n"
     ]
    },
    {
     "name": "stderr",
     "output_type": "stream",
     "text": [
      " 58%|██████████████████████████████████████▊                            | 579/1000 [00:28<00:19, 21.18it/s]"
     ]
    },
    {
     "name": "stdout",
     "output_type": "stream",
     "text": [
      "Epoch 576/1000, Test RMSE: 0.2864\n",
      "Epoch 576/1000, Validation RMSE: 0.3576\n",
      "Epoch 577/1000, Test RMSE: 0.2864\n",
      "Epoch 577/1000, Validation RMSE: 0.3576\n",
      "Epoch 578/1000, Test RMSE: 0.2864\n",
      "Epoch 578/1000, Validation RMSE: 0.3576\n",
      "Epoch 579/1000, Test RMSE: 0.2864\n",
      "Epoch 579/1000, Validation RMSE: 0.3576\n",
      "Epoch 580/1000, Test RMSE: 0.2864\n",
      "Epoch 580/1000, Validation RMSE: 0.3576\n"
     ]
    },
    {
     "name": "stderr",
     "output_type": "stream",
     "text": [
      " 58%|██████████████████████████████████████▉                            | 582/1000 [00:28<00:19, 21.18it/s]"
     ]
    },
    {
     "name": "stdout",
     "output_type": "stream",
     "text": [
      "Epoch 581/1000, Test RMSE: 0.2864\n",
      "Epoch 581/1000, Validation RMSE: 0.3576\n",
      "Epoch 582/1000, Test RMSE: 0.2864\n",
      "Epoch 582/1000, Validation RMSE: 0.3576\n",
      "Epoch 583/1000, Test RMSE: 0.2863\n",
      "Epoch 583/1000, Validation RMSE: 0.3577\n",
      "Epoch 584/1000, Test RMSE: 0.2864\n",
      "Epoch 584/1000, Validation RMSE: 0.3577\n"
     ]
    },
    {
     "name": "stderr",
     "output_type": "stream",
     "text": [
      " 59%|███████████████████████████████████████▍                           | 588/1000 [00:29<00:23, 17.51it/s]"
     ]
    },
    {
     "name": "stdout",
     "output_type": "stream",
     "text": [
      "Epoch 585/1000, Test RMSE: 0.2864\n",
      "Epoch 585/1000, Validation RMSE: 0.3577\n",
      "Epoch 586/1000, Test RMSE: 0.2864\n",
      "Epoch 586/1000, Validation RMSE: 0.3577\n",
      "Epoch 587/1000, Test RMSE: 0.2863\n",
      "Epoch 587/1000, Validation RMSE: 0.3577\n",
      "Epoch 588/1000, Test RMSE: 0.2863\n",
      "Epoch 588/1000, Validation RMSE: 0.3577\n",
      "Epoch 589/1000, Test RMSE: 0.2863\n",
      "Epoch 589/1000, Validation RMSE: 0.3576\n"
     ]
    },
    {
     "name": "stderr",
     "output_type": "stream",
     "text": [
      " 59%|███████████████████████████████████████▊                           | 594/1000 [00:29<00:21, 19.22it/s]"
     ]
    },
    {
     "name": "stdout",
     "output_type": "stream",
     "text": [
      "Epoch 590/1000, Test RMSE: 0.2863\n",
      "Epoch 590/1000, Validation RMSE: 0.3576\n",
      "Epoch 591/1000, Test RMSE: 0.2863\n",
      "Epoch 591/1000, Validation RMSE: 0.3577\n",
      "Epoch 592/1000, Test RMSE: 0.2863\n",
      "Epoch 592/1000, Validation RMSE: 0.3577\n",
      "Epoch 593/1000, Test RMSE: 0.2863\n",
      "Epoch 593/1000, Validation RMSE: 0.3577\n",
      "Epoch 594/1000, Test RMSE: 0.2863\n",
      "Epoch 594/1000, Validation RMSE: 0.3578\n"
     ]
    },
    {
     "name": "stderr",
     "output_type": "stream",
     "text": [
      " 60%|███████████████████████████████████████▉                           | 597/1000 [00:29<00:20, 19.78it/s]"
     ]
    },
    {
     "name": "stdout",
     "output_type": "stream",
     "text": [
      "Epoch 595/1000, Test RMSE: 0.2863\n",
      "Epoch 595/1000, Validation RMSE: 0.3577\n",
      "Epoch 596/1000, Test RMSE: 0.2863\n",
      "Epoch 596/1000, Validation RMSE: 0.3577\n",
      "Epoch 597/1000, Test RMSE: 0.2862\n",
      "Epoch 597/1000, Validation RMSE: 0.3577\n",
      "Epoch 598/1000, Test RMSE: 0.2862\n",
      "Epoch 598/1000, Validation RMSE: 0.3577\n",
      "Epoch 599/1000, Test RMSE: 0.2862\n",
      "Epoch 599/1000, Validation RMSE: 0.3577\n"
     ]
    },
    {
     "name": "stderr",
     "output_type": "stream",
     "text": [
      " 60%|████████████████████████████████████████▍                          | 603/1000 [00:30<00:19, 20.52it/s]"
     ]
    },
    {
     "name": "stdout",
     "output_type": "stream",
     "text": [
      "Epoch 600/1000, Test RMSE: 0.2862\n",
      "Epoch 600/1000, Validation RMSE: 0.3576\n",
      "Epoch 601/1000, Test RMSE: 0.2862\n",
      "Epoch 601/1000, Validation RMSE: 0.3576\n",
      "Epoch 602/1000, Test RMSE: 0.2862\n",
      "Epoch 602/1000, Validation RMSE: 0.3576\n",
      "Epoch 603/1000, Test RMSE: 0.2862\n",
      "Epoch 603/1000, Validation RMSE: 0.3577\n",
      "Epoch 604/1000, Test RMSE: 0.2862\n",
      "Epoch 604/1000, Validation RMSE: 0.3577\n"
     ]
    },
    {
     "name": "stderr",
     "output_type": "stream",
     "text": [
      " 61%|████████████████████████████████████████▊                          | 609/1000 [00:30<00:18, 20.84it/s]"
     ]
    },
    {
     "name": "stdout",
     "output_type": "stream",
     "text": [
      "Epoch 605/1000, Test RMSE: 0.2862\n",
      "Epoch 605/1000, Validation RMSE: 0.3577\n",
      "Epoch 606/1000, Test RMSE: 0.2862\n",
      "Epoch 606/1000, Validation RMSE: 0.3577\n",
      "Epoch 607/1000, Test RMSE: 0.2862\n",
      "Epoch 607/1000, Validation RMSE: 0.3577\n",
      "Epoch 608/1000, Test RMSE: 0.2861\n",
      "Epoch 608/1000, Validation RMSE: 0.3577\n",
      "Epoch 609/1000, Test RMSE: 0.2862\n",
      "Epoch 609/1000, Validation RMSE: 0.3577\n"
     ]
    },
    {
     "name": "stderr",
     "output_type": "stream",
     "text": [
      " 61%|█████████████████████████████████████████                          | 612/1000 [00:30<00:18, 20.96it/s]"
     ]
    },
    {
     "name": "stdout",
     "output_type": "stream",
     "text": [
      "Epoch 610/1000, Test RMSE: 0.2861\n",
      "Epoch 610/1000, Validation RMSE: 0.3577\n",
      "Epoch 611/1000, Test RMSE: 0.2861\n",
      "Epoch 611/1000, Validation RMSE: 0.3577\n",
      "Epoch 612/1000, Test RMSE: 0.2861\n",
      "Epoch 612/1000, Validation RMSE: 0.3577\n",
      "Epoch 613/1000, Test RMSE: 0.2861\n",
      "Epoch 613/1000, Validation RMSE: 0.3577\n",
      "Epoch 614/1000, Test RMSE: 0.2861\n",
      "Epoch 614/1000, Validation RMSE: 0.3578\n"
     ]
    },
    {
     "name": "stderr",
     "output_type": "stream",
     "text": [
      " 62%|█████████████████████████████████████████▍                         | 618/1000 [00:30<00:18, 21.12it/s]"
     ]
    },
    {
     "name": "stdout",
     "output_type": "stream",
     "text": [
      "Epoch 615/1000, Test RMSE: 0.2862\n",
      "Epoch 615/1000, Validation RMSE: 0.3578\n",
      "Epoch 616/1000, Test RMSE: 0.2862\n",
      "Epoch 616/1000, Validation RMSE: 0.3578\n",
      "Epoch 617/1000, Test RMSE: 0.2861\n",
      "Epoch 617/1000, Validation RMSE: 0.3577\n",
      "Epoch 618/1000, Test RMSE: 0.2861\n",
      "Epoch 618/1000, Validation RMSE: 0.3577\n",
      "Epoch 619/1000, Test RMSE: 0.2861\n",
      "Epoch 619/1000, Validation RMSE: 0.3577\n"
     ]
    },
    {
     "name": "stderr",
     "output_type": "stream",
     "text": [
      " 62%|█████████████████████████████████████████▊                         | 624/1000 [00:31<00:17, 21.20it/s]"
     ]
    },
    {
     "name": "stdout",
     "output_type": "stream",
     "text": [
      "Epoch 620/1000, Test RMSE: 0.2861\n",
      "Epoch 620/1000, Validation RMSE: 0.3577\n",
      "Epoch 621/1000, Test RMSE: 0.2861\n",
      "Epoch 621/1000, Validation RMSE: 0.3577\n",
      "Epoch 622/1000, Test RMSE: 0.2860\n",
      "Epoch 622/1000, Validation RMSE: 0.3577\n",
      "Epoch 623/1000, Test RMSE: 0.2861\n",
      "Epoch 623/1000, Validation RMSE: 0.3578\n",
      "Epoch 624/1000, Test RMSE: 0.2861\n",
      "Epoch 624/1000, Validation RMSE: 0.3578\n"
     ]
    },
    {
     "name": "stderr",
     "output_type": "stream",
     "text": [
      " 63%|██████████████████████████████████████████                         | 627/1000 [00:31<00:17, 21.23it/s]"
     ]
    },
    {
     "name": "stdout",
     "output_type": "stream",
     "text": [
      "Epoch 625/1000, Test RMSE: 0.2861\n",
      "Epoch 625/1000, Validation RMSE: 0.3577\n",
      "Epoch 626/1000, Test RMSE: 0.2860\n",
      "Epoch 626/1000, Validation RMSE: 0.3577\n",
      "Epoch 627/1000, Test RMSE: 0.2860\n",
      "Epoch 627/1000, Validation RMSE: 0.3577\n",
      "Epoch 628/1000, Test RMSE: 0.2860\n",
      "Epoch 628/1000, Validation RMSE: 0.3577\n",
      "Epoch 629/1000, Test RMSE: 0.2860\n",
      "Epoch 629/1000, Validation RMSE: 0.3577\n"
     ]
    },
    {
     "name": "stderr",
     "output_type": "stream",
     "text": [
      " 63%|██████████████████████████████████████████▍                        | 633/1000 [00:31<00:17, 21.24it/s]"
     ]
    },
    {
     "name": "stdout",
     "output_type": "stream",
     "text": [
      "Epoch 630/1000, Test RMSE: 0.2860\n",
      "Epoch 630/1000, Validation RMSE: 0.3577\n",
      "Epoch 631/1000, Test RMSE: 0.2860\n",
      "Epoch 631/1000, Validation RMSE: 0.3577\n",
      "Epoch 632/1000, Test RMSE: 0.2860\n",
      "Epoch 632/1000, Validation RMSE: 0.3577\n",
      "Epoch 633/1000, Test RMSE: 0.2860\n",
      "Epoch 633/1000, Validation RMSE: 0.3577\n",
      "Epoch 634/1000, Test RMSE: 0.2859\n",
      "Epoch 634/1000, Validation RMSE: 0.3577\n"
     ]
    },
    {
     "name": "stderr",
     "output_type": "stream",
     "text": [
      " 64%|██████████████████████████████████████████▌                        | 636/1000 [00:31<00:17, 21.16it/s]"
     ]
    },
    {
     "name": "stdout",
     "output_type": "stream",
     "text": [
      "Epoch 635/1000, Test RMSE: 0.2859\n",
      "Epoch 635/1000, Validation RMSE: 0.3577\n",
      "Epoch 636/1000, Test RMSE: 0.2859\n",
      "Epoch 636/1000, Validation RMSE: 0.3577\n",
      "Epoch 637/1000, Test RMSE: 0.2859\n",
      "Epoch 637/1000, Validation RMSE: 0.3577\n"
     ]
    },
    {
     "name": "stderr",
     "output_type": "stream",
     "text": [
      " 64%|███████████████████████████████████████████                        | 642/1000 [00:32<00:20, 17.46it/s]"
     ]
    },
    {
     "name": "stdout",
     "output_type": "stream",
     "text": [
      "Epoch 638/1000, Test RMSE: 0.2859\n",
      "Epoch 638/1000, Validation RMSE: 0.3577\n",
      "Epoch 639/1000, Test RMSE: 0.2859\n",
      "Epoch 639/1000, Validation RMSE: 0.3577\n",
      "Epoch 640/1000, Test RMSE: 0.2859\n",
      "Epoch 640/1000, Validation RMSE: 0.3577\n",
      "Epoch 641/1000, Test RMSE: 0.2859\n",
      "Epoch 641/1000, Validation RMSE: 0.3577\n",
      "Epoch 642/1000, Test RMSE: 0.2859\n",
      "Epoch 642/1000, Validation RMSE: 0.3577\n"
     ]
    },
    {
     "name": "stderr",
     "output_type": "stream",
     "text": [
      " 64%|███████████████████████████████████████████▏                       | 645/1000 [00:32<00:19, 18.41it/s]"
     ]
    },
    {
     "name": "stdout",
     "output_type": "stream",
     "text": [
      "Epoch 643/1000, Test RMSE: 0.2859\n",
      "Epoch 643/1000, Validation RMSE: 0.3577\n",
      "Epoch 644/1000, Test RMSE: 0.2859\n",
      "Epoch 644/1000, Validation RMSE: 0.3577\n",
      "Epoch 645/1000, Test RMSE: 0.2859\n",
      "Epoch 645/1000, Validation RMSE: 0.3577\n",
      "Epoch 646/1000, Test RMSE: 0.2859\n",
      "Epoch 646/1000, Validation RMSE: 0.3577\n",
      "Epoch 647/1000, Test RMSE: 0.2858\n",
      "Epoch 647/1000, Validation RMSE: 0.3577\n"
     ]
    },
    {
     "name": "stderr",
     "output_type": "stream",
     "text": [
      " 65%|███████████████████████████████████████████▌                       | 651/1000 [00:32<00:17, 19.74it/s]"
     ]
    },
    {
     "name": "stdout",
     "output_type": "stream",
     "text": [
      "Epoch 648/1000, Test RMSE: 0.2858\n",
      "Epoch 648/1000, Validation RMSE: 0.3577\n",
      "Epoch 649/1000, Test RMSE: 0.2858\n",
      "Epoch 649/1000, Validation RMSE: 0.3577\n",
      "Epoch 650/1000, Test RMSE: 0.2858\n",
      "Epoch 650/1000, Validation RMSE: 0.3577\n",
      "Epoch 651/1000, Test RMSE: 0.2858\n",
      "Epoch 651/1000, Validation RMSE: 0.3577\n",
      "Epoch 652/1000, Test RMSE: 0.2858\n",
      "Epoch 652/1000, Validation RMSE: 0.3577\n"
     ]
    },
    {
     "name": "stderr",
     "output_type": "stream",
     "text": [
      " 66%|████████████████████████████████████████████                       | 657/1000 [00:32<00:16, 20.46it/s]"
     ]
    },
    {
     "name": "stdout",
     "output_type": "stream",
     "text": [
      "Epoch 653/1000, Test RMSE: 0.2858\n",
      "Epoch 653/1000, Validation RMSE: 0.3577\n",
      "Epoch 654/1000, Test RMSE: 0.2858\n",
      "Epoch 654/1000, Validation RMSE: 0.3577\n",
      "Epoch 655/1000, Test RMSE: 0.2858\n",
      "Epoch 655/1000, Validation RMSE: 0.3577\n",
      "Epoch 656/1000, Test RMSE: 0.2858\n",
      "Epoch 656/1000, Validation RMSE: 0.3576\n",
      "Epoch 657/1000, Test RMSE: 0.2858\n",
      "Epoch 657/1000, Validation RMSE: 0.3576\n"
     ]
    },
    {
     "name": "stderr",
     "output_type": "stream",
     "text": [
      " 66%|████████████████████████████████████████████▏                      | 660/1000 [00:32<00:16, 20.68it/s]"
     ]
    },
    {
     "name": "stdout",
     "output_type": "stream",
     "text": [
      "Epoch 658/1000, Test RMSE: 0.2858\n",
      "Epoch 658/1000, Validation RMSE: 0.3576\n",
      "Epoch 659/1000, Test RMSE: 0.2858\n",
      "Epoch 659/1000, Validation RMSE: 0.3576\n",
      "Epoch 660/1000, Test RMSE: 0.2858\n",
      "Epoch 660/1000, Validation RMSE: 0.3577\n",
      "Epoch 661/1000, Test RMSE: 0.2857\n",
      "Epoch 661/1000, Validation RMSE: 0.3577\n",
      "Epoch 662/1000, Test RMSE: 0.2857\n",
      "Epoch 662/1000, Validation RMSE: 0.3577\n"
     ]
    },
    {
     "name": "stderr",
     "output_type": "stream",
     "text": [
      " 67%|████████████████████████████████████████████▌                      | 666/1000 [00:33<00:15, 20.94it/s]"
     ]
    },
    {
     "name": "stdout",
     "output_type": "stream",
     "text": [
      "Epoch 663/1000, Test RMSE: 0.2857\n",
      "Epoch 663/1000, Validation RMSE: 0.3578\n",
      "Epoch 664/1000, Test RMSE: 0.2858\n",
      "Epoch 664/1000, Validation RMSE: 0.3579\n",
      "Epoch 665/1000, Test RMSE: 0.2858\n",
      "Epoch 665/1000, Validation RMSE: 0.3578\n",
      "Epoch 666/1000, Test RMSE: 0.2857\n",
      "Epoch 666/1000, Validation RMSE: 0.3577\n",
      "Epoch 667/1000, Test RMSE: 0.2857\n",
      "Epoch 667/1000, Validation RMSE: 0.3577\n"
     ]
    },
    {
     "name": "stderr",
     "output_type": "stream",
     "text": [
      " 67%|█████████████████████████████████████████████                      | 672/1000 [00:33<00:15, 21.09it/s]"
     ]
    },
    {
     "name": "stdout",
     "output_type": "stream",
     "text": [
      "Epoch 668/1000, Test RMSE: 0.2857\n",
      "Epoch 668/1000, Validation RMSE: 0.3576\n",
      "Epoch 669/1000, Test RMSE: 0.2857\n",
      "Epoch 669/1000, Validation RMSE: 0.3577\n",
      "Epoch 670/1000, Test RMSE: 0.2857\n",
      "Epoch 670/1000, Validation RMSE: 0.3576\n",
      "Epoch 671/1000, Test RMSE: 0.2857\n",
      "Epoch 671/1000, Validation RMSE: 0.3576\n",
      "Epoch 672/1000, Test RMSE: 0.2857\n",
      "Epoch 672/1000, Validation RMSE: 0.3576\n"
     ]
    },
    {
     "name": "stderr",
     "output_type": "stream",
     "text": [
      " 68%|█████████████████████████████████████████████▏                     | 675/1000 [00:33<00:15, 21.13it/s]"
     ]
    },
    {
     "name": "stdout",
     "output_type": "stream",
     "text": [
      "Epoch 673/1000, Test RMSE: 0.2857\n",
      "Epoch 673/1000, Validation RMSE: 0.3577\n",
      "Epoch 674/1000, Test RMSE: 0.2856\n",
      "Epoch 674/1000, Validation RMSE: 0.3577\n",
      "Epoch 675/1000, Test RMSE: 0.2856\n",
      "Epoch 675/1000, Validation RMSE: 0.3577\n",
      "Epoch 676/1000, Test RMSE: 0.2856\n",
      "Epoch 676/1000, Validation RMSE: 0.3577\n",
      "Epoch 677/1000, Test RMSE: 0.2856\n",
      "Epoch 677/1000, Validation RMSE: 0.3577\n"
     ]
    },
    {
     "name": "stderr",
     "output_type": "stream",
     "text": [
      " 68%|█████████████████████████████████████████████▋                     | 681/1000 [00:33<00:15, 21.16it/s]"
     ]
    },
    {
     "name": "stdout",
     "output_type": "stream",
     "text": [
      "Epoch 678/1000, Test RMSE: 0.2856\n",
      "Epoch 678/1000, Validation RMSE: 0.3577\n",
      "Epoch 679/1000, Test RMSE: 0.2856\n",
      "Epoch 679/1000, Validation RMSE: 0.3577\n",
      "Epoch 680/1000, Test RMSE: 0.2856\n",
      "Epoch 680/1000, Validation RMSE: 0.3577\n",
      "Epoch 681/1000, Test RMSE: 0.2856\n",
      "Epoch 681/1000, Validation RMSE: 0.3577\n",
      "Epoch 682/1000, Test RMSE: 0.2856\n",
      "Epoch 682/1000, Validation RMSE: 0.3577\n"
     ]
    },
    {
     "name": "stderr",
     "output_type": "stream",
     "text": [
      " 69%|██████████████████████████████████████████████                     | 687/1000 [00:34<00:14, 21.21it/s]"
     ]
    },
    {
     "name": "stdout",
     "output_type": "stream",
     "text": [
      "Epoch 683/1000, Test RMSE: 0.2855\n",
      "Epoch 683/1000, Validation RMSE: 0.3576\n",
      "Epoch 684/1000, Test RMSE: 0.2856\n",
      "Epoch 684/1000, Validation RMSE: 0.3576\n",
      "Epoch 685/1000, Test RMSE: 0.2855\n",
      "Epoch 685/1000, Validation RMSE: 0.3576\n",
      "Epoch 686/1000, Test RMSE: 0.2856\n",
      "Epoch 686/1000, Validation RMSE: 0.3576\n",
      "Epoch 687/1000, Test RMSE: 0.2855\n",
      "Epoch 687/1000, Validation RMSE: 0.3576\n"
     ]
    },
    {
     "name": "stderr",
     "output_type": "stream",
     "text": [
      " 69%|██████████████████████████████████████████████▏                    | 690/1000 [00:34<00:14, 21.21it/s]"
     ]
    },
    {
     "name": "stdout",
     "output_type": "stream",
     "text": [
      "Epoch 688/1000, Test RMSE: 0.2855\n",
      "Epoch 688/1000, Validation RMSE: 0.3577\n",
      "Epoch 689/1000, Test RMSE: 0.2855\n",
      "Epoch 689/1000, Validation RMSE: 0.3577\n",
      "Epoch 690/1000, Test RMSE: 0.2855\n",
      "Epoch 690/1000, Validation RMSE: 0.3577\n",
      "Epoch 691/1000, Test RMSE: 0.2855\n",
      "Epoch 691/1000, Validation RMSE: 0.3578\n"
     ]
    },
    {
     "name": "stderr",
     "output_type": "stream",
     "text": [
      " 70%|██████████████████████████████████████████████▋                    | 696/1000 [00:34<00:17, 17.46it/s]"
     ]
    },
    {
     "name": "stdout",
     "output_type": "stream",
     "text": [
      "Epoch 692/1000, Test RMSE: 0.2855\n",
      "Epoch 692/1000, Validation RMSE: 0.3577\n",
      "Epoch 693/1000, Test RMSE: 0.2855\n",
      "Epoch 693/1000, Validation RMSE: 0.3576\n",
      "Epoch 694/1000, Test RMSE: 0.2855\n",
      "Epoch 694/1000, Validation RMSE: 0.3576\n",
      "Epoch 695/1000, Test RMSE: 0.2855\n",
      "Epoch 695/1000, Validation RMSE: 0.3576\n",
      "Epoch 696/1000, Test RMSE: 0.2855\n",
      "Epoch 696/1000, Validation RMSE: 0.3576\n"
     ]
    },
    {
     "name": "stderr",
     "output_type": "stream",
     "text": [
      " 70%|██████████████████████████████████████████████▊                    | 699/1000 [00:34<00:16, 18.42it/s]"
     ]
    },
    {
     "name": "stdout",
     "output_type": "stream",
     "text": [
      "Epoch 697/1000, Test RMSE: 0.2854\n",
      "Epoch 697/1000, Validation RMSE: 0.3577\n",
      "Epoch 698/1000, Test RMSE: 0.2854\n",
      "Epoch 698/1000, Validation RMSE: 0.3577\n",
      "Epoch 699/1000, Test RMSE: 0.2854\n",
      "Epoch 699/1000, Validation RMSE: 0.3578\n",
      "Epoch 700/1000, Test RMSE: 0.2855\n",
      "Epoch 700/1000, Validation RMSE: 0.3577\n",
      "Epoch 701/1000, Test RMSE: 0.2854\n",
      "Epoch 701/1000, Validation RMSE: 0.3577\n"
     ]
    },
    {
     "name": "stderr",
     "output_type": "stream",
     "text": [
      " 70%|███████████████████████████████████████████████▏                   | 705/1000 [00:35<00:14, 19.74it/s]"
     ]
    },
    {
     "name": "stdout",
     "output_type": "stream",
     "text": [
      "Epoch 702/1000, Test RMSE: 0.2854\n",
      "Epoch 702/1000, Validation RMSE: 0.3577\n",
      "Epoch 703/1000, Test RMSE: 0.2854\n",
      "Epoch 703/1000, Validation RMSE: 0.3577\n",
      "Epoch 704/1000, Test RMSE: 0.2854\n",
      "Epoch 704/1000, Validation RMSE: 0.3576\n",
      "Epoch 705/1000, Test RMSE: 0.2854\n",
      "Epoch 705/1000, Validation RMSE: 0.3577\n",
      "Epoch 706/1000, Test RMSE: 0.2854\n",
      "Epoch 706/1000, Validation RMSE: 0.3577\n"
     ]
    },
    {
     "name": "stderr",
     "output_type": "stream",
     "text": [
      " 71%|███████████████████████████████████████████████▋                   | 711/1000 [00:35<00:14, 20.46it/s]"
     ]
    },
    {
     "name": "stdout",
     "output_type": "stream",
     "text": [
      "Epoch 707/1000, Test RMSE: 0.2854\n",
      "Epoch 707/1000, Validation RMSE: 0.3577\n",
      "Epoch 708/1000, Test RMSE: 0.2854\n",
      "Epoch 708/1000, Validation RMSE: 0.3577\n",
      "Epoch 709/1000, Test RMSE: 0.2854\n",
      "Epoch 709/1000, Validation RMSE: 0.3577\n",
      "Epoch 710/1000, Test RMSE: 0.2853\n",
      "Epoch 710/1000, Validation RMSE: 0.3577\n",
      "Epoch 711/1000, Test RMSE: 0.2853\n",
      "Epoch 711/1000, Validation RMSE: 0.3577\n"
     ]
    },
    {
     "name": "stderr",
     "output_type": "stream",
     "text": [
      " 71%|███████████████████████████████████████████████▊                   | 714/1000 [00:35<00:13, 20.68it/s]"
     ]
    },
    {
     "name": "stdout",
     "output_type": "stream",
     "text": [
      "Epoch 712/1000, Test RMSE: 0.2853\n",
      "Epoch 712/1000, Validation RMSE: 0.3577\n",
      "Epoch 713/1000, Test RMSE: 0.2853\n",
      "Epoch 713/1000, Validation RMSE: 0.3577\n",
      "Epoch 714/1000, Test RMSE: 0.2853\n",
      "Epoch 714/1000, Validation RMSE: 0.3577\n",
      "Epoch 715/1000, Test RMSE: 0.2853\n",
      "Epoch 715/1000, Validation RMSE: 0.3577\n",
      "Epoch 716/1000, Test RMSE: 0.2853\n",
      "Epoch 716/1000, Validation RMSE: 0.3577\n"
     ]
    },
    {
     "name": "stderr",
     "output_type": "stream",
     "text": [
      " 72%|████████████████████████████████████████████████▏                  | 720/1000 [00:35<00:13, 20.99it/s]"
     ]
    },
    {
     "name": "stdout",
     "output_type": "stream",
     "text": [
      "Epoch 717/1000, Test RMSE: 0.2853\n",
      "Epoch 717/1000, Validation RMSE: 0.3577\n",
      "Epoch 718/1000, Test RMSE: 0.2853\n",
      "Epoch 718/1000, Validation RMSE: 0.3577\n",
      "Epoch 719/1000, Test RMSE: 0.2853\n",
      "Epoch 719/1000, Validation RMSE: 0.3577\n",
      "Epoch 720/1000, Test RMSE: 0.2853\n",
      "Epoch 720/1000, Validation RMSE: 0.3577\n",
      "Epoch 721/1000, Test RMSE: 0.2853\n",
      "Epoch 721/1000, Validation RMSE: 0.3577\n"
     ]
    },
    {
     "name": "stderr",
     "output_type": "stream",
     "text": [
      " 73%|████████████████████████████████████████████████▋                  | 726/1000 [00:36<00:12, 21.15it/s]"
     ]
    },
    {
     "name": "stdout",
     "output_type": "stream",
     "text": [
      "Epoch 722/1000, Test RMSE: 0.2853\n",
      "Epoch 722/1000, Validation RMSE: 0.3577\n",
      "Epoch 723/1000, Test RMSE: 0.2852\n",
      "Epoch 723/1000, Validation RMSE: 0.3577\n",
      "Epoch 724/1000, Test RMSE: 0.2852\n",
      "Epoch 724/1000, Validation RMSE: 0.3577\n",
      "Epoch 725/1000, Test RMSE: 0.2852\n",
      "Epoch 725/1000, Validation RMSE: 0.3577\n",
      "Epoch 726/1000, Test RMSE: 0.2852\n",
      "Epoch 726/1000, Validation RMSE: 0.3577\n"
     ]
    },
    {
     "name": "stderr",
     "output_type": "stream",
     "text": [
      " 73%|████████████████████████████████████████████████▊                  | 729/1000 [00:36<00:12, 21.19it/s]"
     ]
    },
    {
     "name": "stdout",
     "output_type": "stream",
     "text": [
      "Epoch 727/1000, Test RMSE: 0.2852\n",
      "Epoch 727/1000, Validation RMSE: 0.3577\n",
      "Epoch 728/1000, Test RMSE: 0.2852\n",
      "Epoch 728/1000, Validation RMSE: 0.3577\n",
      "Epoch 729/1000, Test RMSE: 0.2852\n",
      "Epoch 729/1000, Validation RMSE: 0.3577\n",
      "Epoch 730/1000, Test RMSE: 0.2852\n",
      "Epoch 730/1000, Validation RMSE: 0.3577\n",
      "Epoch 731/1000, Test RMSE: 0.2852\n",
      "Epoch 731/1000, Validation RMSE: 0.3577\n"
     ]
    },
    {
     "name": "stderr",
     "output_type": "stream",
     "text": [
      " 74%|█████████████████████████████████████████████████▏                 | 735/1000 [00:36<00:12, 21.23it/s]"
     ]
    },
    {
     "name": "stdout",
     "output_type": "stream",
     "text": [
      "Epoch 732/1000, Test RMSE: 0.2852\n",
      "Epoch 732/1000, Validation RMSE: 0.3577\n",
      "Epoch 733/1000, Test RMSE: 0.2852\n",
      "Epoch 733/1000, Validation RMSE: 0.3577\n",
      "Epoch 734/1000, Test RMSE: 0.2851\n",
      "Epoch 734/1000, Validation RMSE: 0.3577\n",
      "Epoch 735/1000, Test RMSE: 0.2851\n",
      "Epoch 735/1000, Validation RMSE: 0.3577\n",
      "Epoch 736/1000, Test RMSE: 0.2851\n",
      "Epoch 736/1000, Validation RMSE: 0.3577\n"
     ]
    },
    {
     "name": "stderr",
     "output_type": "stream",
     "text": [
      " 74%|█████████████████████████████████████████████████▋                 | 741/1000 [00:36<00:12, 21.27it/s]"
     ]
    },
    {
     "name": "stdout",
     "output_type": "stream",
     "text": [
      "Epoch 737/1000, Test RMSE: 0.2851\n",
      "Epoch 737/1000, Validation RMSE: 0.3577\n",
      "Epoch 738/1000, Test RMSE: 0.2851\n",
      "Epoch 738/1000, Validation RMSE: 0.3577\n",
      "Epoch 739/1000, Test RMSE: 0.2851\n",
      "Epoch 739/1000, Validation RMSE: 0.3577\n",
      "Epoch 740/1000, Test RMSE: 0.2851\n",
      "Epoch 740/1000, Validation RMSE: 0.3577\n",
      "Epoch 741/1000, Test RMSE: 0.2851\n",
      "Epoch 741/1000, Validation RMSE: 0.3577\n"
     ]
    },
    {
     "name": "stderr",
     "output_type": "stream",
     "text": [
      " 74%|█████████████████████████████████████████████████▊                 | 744/1000 [00:36<00:12, 21.18it/s]"
     ]
    },
    {
     "name": "stdout",
     "output_type": "stream",
     "text": [
      "Epoch 742/1000, Test RMSE: 0.2851\n",
      "Epoch 742/1000, Validation RMSE: 0.3577\n",
      "Epoch 743/1000, Test RMSE: 0.2851\n",
      "Epoch 743/1000, Validation RMSE: 0.3577\n",
      "Epoch 744/1000, Test RMSE: 0.2851\n",
      "Epoch 744/1000, Validation RMSE: 0.3577\n",
      "Epoch 745/1000, Test RMSE: 0.2851\n",
      "Epoch 745/1000, Validation RMSE: 0.3577\n"
     ]
    },
    {
     "name": "stderr",
     "output_type": "stream",
     "text": [
      " 75%|██████████████████████████████████████████████████▎                | 750/1000 [00:37<00:14, 17.51it/s]"
     ]
    },
    {
     "name": "stdout",
     "output_type": "stream",
     "text": [
      "Epoch 746/1000, Test RMSE: 0.2850\n",
      "Epoch 746/1000, Validation RMSE: 0.3577\n",
      "Epoch 747/1000, Test RMSE: 0.2851\n",
      "Epoch 747/1000, Validation RMSE: 0.3577\n",
      "Epoch 748/1000, Test RMSE: 0.2851\n",
      "Epoch 748/1000, Validation RMSE: 0.3577\n",
      "Epoch 749/1000, Test RMSE: 0.2850\n",
      "Epoch 749/1000, Validation RMSE: 0.3577\n",
      "Epoch 750/1000, Test RMSE: 0.2850\n",
      "Epoch 750/1000, Validation RMSE: 0.3577\n"
     ]
    },
    {
     "name": "stderr",
     "output_type": "stream",
     "text": [
      " 75%|██████████████████████████████████████████████████▍                | 753/1000 [00:37<00:13, 18.47it/s]"
     ]
    },
    {
     "name": "stdout",
     "output_type": "stream",
     "text": [
      "Epoch 751/1000, Test RMSE: 0.2850\n",
      "Epoch 751/1000, Validation RMSE: 0.3577\n",
      "Epoch 752/1000, Test RMSE: 0.2850\n",
      "Epoch 752/1000, Validation RMSE: 0.3577\n",
      "Epoch 753/1000, Test RMSE: 0.2850\n",
      "Epoch 753/1000, Validation RMSE: 0.3577\n",
      "Epoch 754/1000, Test RMSE: 0.2850\n",
      "Epoch 754/1000, Validation RMSE: 0.3577\n",
      "Epoch 755/1000, Test RMSE: 0.2850\n",
      "Epoch 755/1000, Validation RMSE: 0.3577\n"
     ]
    },
    {
     "name": "stderr",
     "output_type": "stream",
     "text": [
      " 76%|██████████████████████████████████████████████████▊                | 759/1000 [00:37<00:12, 19.82it/s]"
     ]
    },
    {
     "name": "stdout",
     "output_type": "stream",
     "text": [
      "Epoch 756/1000, Test RMSE: 0.2850\n",
      "Epoch 756/1000, Validation RMSE: 0.3577\n",
      "Epoch 757/1000, Test RMSE: 0.2850\n",
      "Epoch 757/1000, Validation RMSE: 0.3577\n",
      "Epoch 758/1000, Test RMSE: 0.2850\n",
      "Epoch 758/1000, Validation RMSE: 0.3577\n",
      "Epoch 759/1000, Test RMSE: 0.2850\n",
      "Epoch 759/1000, Validation RMSE: 0.3577\n",
      "Epoch 760/1000, Test RMSE: 0.2849\n",
      "Epoch 760/1000, Validation RMSE: 0.3577\n"
     ]
    },
    {
     "name": "stderr",
     "output_type": "stream",
     "text": [
      " 76%|███████████████████████████████████████████████████▎               | 765/1000 [00:38<00:11, 20.47it/s]"
     ]
    },
    {
     "name": "stdout",
     "output_type": "stream",
     "text": [
      "Epoch 761/1000, Test RMSE: 0.2849\n",
      "Epoch 761/1000, Validation RMSE: 0.3578\n",
      "Epoch 762/1000, Test RMSE: 0.2849\n",
      "Epoch 762/1000, Validation RMSE: 0.3578\n",
      "Epoch 763/1000, Test RMSE: 0.2850\n",
      "Epoch 763/1000, Validation RMSE: 0.3578\n",
      "Epoch 764/1000, Test RMSE: 0.2850\n",
      "Epoch 764/1000, Validation RMSE: 0.3578\n",
      "Epoch 765/1000, Test RMSE: 0.2849\n",
      "Epoch 765/1000, Validation RMSE: 0.3577\n"
     ]
    },
    {
     "name": "stderr",
     "output_type": "stream",
     "text": [
      " 77%|███████████████████████████████████████████████████▍               | 768/1000 [00:38<00:11, 20.65it/s]"
     ]
    },
    {
     "name": "stdout",
     "output_type": "stream",
     "text": [
      "Epoch 766/1000, Test RMSE: 0.2849\n",
      "Epoch 766/1000, Validation RMSE: 0.3577\n",
      "Epoch 767/1000, Test RMSE: 0.2849\n",
      "Epoch 767/1000, Validation RMSE: 0.3577\n",
      "Epoch 768/1000, Test RMSE: 0.2849\n",
      "Epoch 768/1000, Validation RMSE: 0.3577\n",
      "Epoch 769/1000, Test RMSE: 0.2849\n",
      "Epoch 769/1000, Validation RMSE: 0.3577\n",
      "Epoch 770/1000, Test RMSE: 0.2849\n",
      "Epoch 770/1000, Validation RMSE: 0.3577\n"
     ]
    },
    {
     "name": "stderr",
     "output_type": "stream",
     "text": [
      " 77%|███████████████████████████████████████████████████▊               | 774/1000 [00:38<00:10, 20.88it/s]"
     ]
    },
    {
     "name": "stdout",
     "output_type": "stream",
     "text": [
      "Epoch 771/1000, Test RMSE: 0.2849\n",
      "Epoch 771/1000, Validation RMSE: 0.3578\n",
      "Epoch 772/1000, Test RMSE: 0.2849\n",
      "Epoch 772/1000, Validation RMSE: 0.3578\n",
      "Epoch 773/1000, Test RMSE: 0.2849\n",
      "Epoch 773/1000, Validation RMSE: 0.3577\n",
      "Epoch 774/1000, Test RMSE: 0.2848\n",
      "Epoch 774/1000, Validation RMSE: 0.3577\n",
      "Epoch 775/1000, Test RMSE: 0.2848\n",
      "Epoch 775/1000, Validation RMSE: 0.3577\n"
     ]
    },
    {
     "name": "stderr",
     "output_type": "stream",
     "text": [
      " 78%|████████████████████████████████████████████████████▎              | 780/1000 [00:38<00:10, 21.06it/s]"
     ]
    },
    {
     "name": "stdout",
     "output_type": "stream",
     "text": [
      "Epoch 776/1000, Test RMSE: 0.2848\n",
      "Epoch 776/1000, Validation RMSE: 0.3577\n",
      "Epoch 777/1000, Test RMSE: 0.2848\n",
      "Epoch 777/1000, Validation RMSE: 0.3577\n",
      "Epoch 778/1000, Test RMSE: 0.2848\n",
      "Epoch 778/1000, Validation RMSE: 0.3577\n",
      "Epoch 779/1000, Test RMSE: 0.2848\n",
      "Epoch 779/1000, Validation RMSE: 0.3577\n",
      "Epoch 780/1000, Test RMSE: 0.2848\n",
      "Epoch 780/1000, Validation RMSE: 0.3577\n"
     ]
    },
    {
     "name": "stderr",
     "output_type": "stream",
     "text": [
      " 78%|████████████████████████████████████████████████████▍              | 783/1000 [00:38<00:10, 21.13it/s]"
     ]
    },
    {
     "name": "stdout",
     "output_type": "stream",
     "text": [
      "Epoch 781/1000, Test RMSE: 0.2848\n",
      "Epoch 781/1000, Validation RMSE: 0.3577\n",
      "Epoch 782/1000, Test RMSE: 0.2848\n",
      "Epoch 782/1000, Validation RMSE: 0.3577\n",
      "Epoch 783/1000, Test RMSE: 0.2848\n",
      "Epoch 783/1000, Validation RMSE: 0.3577\n",
      "Epoch 784/1000, Test RMSE: 0.2848\n",
      "Epoch 784/1000, Validation RMSE: 0.3577\n",
      "Epoch 785/1000, Test RMSE: 0.2847\n",
      "Epoch 785/1000, Validation RMSE: 0.3577\n"
     ]
    },
    {
     "name": "stderr",
     "output_type": "stream",
     "text": [
      " 79%|████████████████████████████████████████████████████▊              | 789/1000 [00:39<00:09, 21.13it/s]"
     ]
    },
    {
     "name": "stdout",
     "output_type": "stream",
     "text": [
      "Epoch 786/1000, Test RMSE: 0.2847\n",
      "Epoch 786/1000, Validation RMSE: 0.3578\n",
      "Epoch 787/1000, Test RMSE: 0.2847\n",
      "Epoch 787/1000, Validation RMSE: 0.3578\n",
      "Epoch 788/1000, Test RMSE: 0.2847\n",
      "Epoch 788/1000, Validation RMSE: 0.3578\n",
      "Epoch 789/1000, Test RMSE: 0.2847\n",
      "Epoch 789/1000, Validation RMSE: 0.3578\n",
      "Epoch 790/1000, Test RMSE: 0.2847\n",
      "Epoch 790/1000, Validation RMSE: 0.3577\n"
     ]
    },
    {
     "name": "stderr",
     "output_type": "stream",
     "text": [
      " 80%|█████████████████████████████████████████████████████▎             | 795/1000 [00:39<00:09, 21.19it/s]"
     ]
    },
    {
     "name": "stdout",
     "output_type": "stream",
     "text": [
      "Epoch 791/1000, Test RMSE: 0.2847\n",
      "Epoch 791/1000, Validation RMSE: 0.3577\n",
      "Epoch 792/1000, Test RMSE: 0.2847\n",
      "Epoch 792/1000, Validation RMSE: 0.3577\n",
      "Epoch 793/1000, Test RMSE: 0.2847\n",
      "Epoch 793/1000, Validation RMSE: 0.3577\n",
      "Epoch 794/1000, Test RMSE: 0.2847\n",
      "Epoch 794/1000, Validation RMSE: 0.3577\n",
      "Epoch 795/1000, Test RMSE: 0.2847\n",
      "Epoch 795/1000, Validation RMSE: 0.3577\n"
     ]
    },
    {
     "name": "stderr",
     "output_type": "stream",
     "text": [
      " 80%|█████████████████████████████████████████████████████▍             | 798/1000 [00:39<00:09, 21.20it/s]"
     ]
    },
    {
     "name": "stdout",
     "output_type": "stream",
     "text": [
      "Epoch 796/1000, Test RMSE: 0.2847\n",
      "Epoch 796/1000, Validation RMSE: 0.3577\n",
      "Epoch 797/1000, Test RMSE: 0.2847\n",
      "Epoch 797/1000, Validation RMSE: 0.3577\n",
      "Epoch 798/1000, Test RMSE: 0.2846\n",
      "Epoch 798/1000, Validation RMSE: 0.3577\n"
     ]
    },
    {
     "name": "stderr",
     "output_type": "stream",
     "text": [
      " 80%|█████████████████████████████████████████████████████▋             | 801/1000 [00:39<00:12, 16.30it/s]"
     ]
    },
    {
     "name": "stdout",
     "output_type": "stream",
     "text": [
      "Epoch 799/1000, Test RMSE: 0.2847\n",
      "Epoch 799/1000, Validation RMSE: 0.3578\n",
      "Epoch 800/1000, Test RMSE: 0.2846\n",
      "Epoch 800/1000, Validation RMSE: 0.3578\n",
      "Epoch 801/1000, Test RMSE: 0.2846\n",
      "Epoch 801/1000, Validation RMSE: 0.3578\n",
      "Epoch 802/1000, Test RMSE: 0.2846\n",
      "Epoch 802/1000, Validation RMSE: 0.3577\n",
      "Epoch 803/1000, Test RMSE: 0.2846\n",
      "Epoch 803/1000, Validation RMSE: 0.3577\n"
     ]
    },
    {
     "name": "stderr",
     "output_type": "stream",
     "text": [
      " 81%|██████████████████████████████████████████████████████             | 807/1000 [00:40<00:10, 18.49it/s]"
     ]
    },
    {
     "name": "stdout",
     "output_type": "stream",
     "text": [
      "Epoch 804/1000, Test RMSE: 0.2846\n",
      "Epoch 804/1000, Validation RMSE: 0.3577\n",
      "Epoch 805/1000, Test RMSE: 0.2846\n",
      "Epoch 805/1000, Validation RMSE: 0.3578\n",
      "Epoch 806/1000, Test RMSE: 0.2846\n",
      "Epoch 806/1000, Validation RMSE: 0.3578\n",
      "Epoch 807/1000, Test RMSE: 0.2846\n",
      "Epoch 807/1000, Validation RMSE: 0.3578\n",
      "Epoch 808/1000, Test RMSE: 0.2846\n",
      "Epoch 808/1000, Validation RMSE: 0.3578\n"
     ]
    },
    {
     "name": "stderr",
     "output_type": "stream",
     "text": [
      " 81%|██████████████████████████████████████████████████████▍            | 813/1000 [00:40<00:09, 19.77it/s]"
     ]
    },
    {
     "name": "stdout",
     "output_type": "stream",
     "text": [
      "Epoch 809/1000, Test RMSE: 0.2846\n",
      "Epoch 809/1000, Validation RMSE: 0.3578\n",
      "Epoch 810/1000, Test RMSE: 0.2846\n",
      "Epoch 810/1000, Validation RMSE: 0.3578\n",
      "Epoch 811/1000, Test RMSE: 0.2845\n",
      "Epoch 811/1000, Validation RMSE: 0.3578\n",
      "Epoch 812/1000, Test RMSE: 0.2846\n",
      "Epoch 812/1000, Validation RMSE: 0.3577\n",
      "Epoch 813/1000, Test RMSE: 0.2845\n",
      "Epoch 813/1000, Validation RMSE: 0.3577\n"
     ]
    },
    {
     "name": "stderr",
     "output_type": "stream",
     "text": [
      " 82%|██████████████████████████████████████████████████████▋            | 816/1000 [00:40<00:09, 20.17it/s]"
     ]
    },
    {
     "name": "stdout",
     "output_type": "stream",
     "text": [
      "Epoch 814/1000, Test RMSE: 0.2845\n",
      "Epoch 814/1000, Validation RMSE: 0.3577\n",
      "Epoch 815/1000, Test RMSE: 0.2845\n",
      "Epoch 815/1000, Validation RMSE: 0.3577\n",
      "Epoch 816/1000, Test RMSE: 0.2845\n",
      "Epoch 816/1000, Validation RMSE: 0.3577\n",
      "Epoch 817/1000, Test RMSE: 0.2845\n",
      "Epoch 817/1000, Validation RMSE: 0.3578\n",
      "Epoch 818/1000, Test RMSE: 0.2845\n",
      "Epoch 818/1000, Validation RMSE: 0.3577\n"
     ]
    },
    {
     "name": "stderr",
     "output_type": "stream",
     "text": [
      " 82%|███████████████████████████████████████████████████████            | 822/1000 [00:40<00:08, 20.71it/s]"
     ]
    },
    {
     "name": "stdout",
     "output_type": "stream",
     "text": [
      "Epoch 819/1000, Test RMSE: 0.2845\n",
      "Epoch 819/1000, Validation RMSE: 0.3577\n",
      "Epoch 820/1000, Test RMSE: 0.2845\n",
      "Epoch 820/1000, Validation RMSE: 0.3577\n",
      "Epoch 821/1000, Test RMSE: 0.2845\n",
      "Epoch 821/1000, Validation RMSE: 0.3577\n",
      "Epoch 822/1000, Test RMSE: 0.2845\n",
      "Epoch 822/1000, Validation RMSE: 0.3577\n",
      "Epoch 823/1000, Test RMSE: 0.2844\n",
      "Epoch 823/1000, Validation RMSE: 0.3578\n"
     ]
    },
    {
     "name": "stderr",
     "output_type": "stream",
     "text": [
      " 83%|███████████████████████████████████████████████████████▍           | 828/1000 [00:41<00:08, 20.97it/s]"
     ]
    },
    {
     "name": "stdout",
     "output_type": "stream",
     "text": [
      "Epoch 824/1000, Test RMSE: 0.2844\n",
      "Epoch 824/1000, Validation RMSE: 0.3578\n",
      "Epoch 825/1000, Test RMSE: 0.2844\n",
      "Epoch 825/1000, Validation RMSE: 0.3578\n",
      "Epoch 826/1000, Test RMSE: 0.2844\n",
      "Epoch 826/1000, Validation RMSE: 0.3578\n",
      "Epoch 827/1000, Test RMSE: 0.2844\n",
      "Epoch 827/1000, Validation RMSE: 0.3578\n",
      "Epoch 828/1000, Test RMSE: 0.2844\n",
      "Epoch 828/1000, Validation RMSE: 0.3578\n"
     ]
    },
    {
     "name": "stderr",
     "output_type": "stream",
     "text": [
      " 83%|███████████████████████████████████████████████████████▋           | 831/1000 [00:41<00:08, 21.04it/s]"
     ]
    },
    {
     "name": "stdout",
     "output_type": "stream",
     "text": [
      "Epoch 829/1000, Test RMSE: 0.2844\n",
      "Epoch 829/1000, Validation RMSE: 0.3578\n",
      "Epoch 830/1000, Test RMSE: 0.2844\n",
      "Epoch 830/1000, Validation RMSE: 0.3577\n",
      "Epoch 831/1000, Test RMSE: 0.2844\n",
      "Epoch 831/1000, Validation RMSE: 0.3577\n",
      "Epoch 832/1000, Test RMSE: 0.2844\n",
      "Epoch 832/1000, Validation RMSE: 0.3577\n",
      "Epoch 833/1000, Test RMSE: 0.2844\n",
      "Epoch 833/1000, Validation RMSE: 0.3577\n"
     ]
    },
    {
     "name": "stderr",
     "output_type": "stream",
     "text": [
      " 84%|████████████████████████████████████████████████████████           | 837/1000 [00:41<00:07, 21.09it/s]"
     ]
    },
    {
     "name": "stdout",
     "output_type": "stream",
     "text": [
      "Epoch 834/1000, Test RMSE: 0.2844\n",
      "Epoch 834/1000, Validation RMSE: 0.3578\n",
      "Epoch 835/1000, Test RMSE: 0.2843\n",
      "Epoch 835/1000, Validation RMSE: 0.3578\n",
      "Epoch 836/1000, Test RMSE: 0.2843\n",
      "Epoch 836/1000, Validation RMSE: 0.3578\n",
      "Epoch 837/1000, Test RMSE: 0.2843\n",
      "Epoch 837/1000, Validation RMSE: 0.3578\n",
      "Epoch 838/1000, Test RMSE: 0.2843\n",
      "Epoch 838/1000, Validation RMSE: 0.3578\n"
     ]
    },
    {
     "name": "stderr",
     "output_type": "stream",
     "text": [
      " 84%|████████████████████████████████████████████████████████▍          | 843/1000 [00:41<00:07, 21.11it/s]"
     ]
    },
    {
     "name": "stdout",
     "output_type": "stream",
     "text": [
      "Epoch 839/1000, Test RMSE: 0.2843\n",
      "Epoch 839/1000, Validation RMSE: 0.3578\n",
      "Epoch 840/1000, Test RMSE: 0.2843\n",
      "Epoch 840/1000, Validation RMSE: 0.3578\n",
      "Epoch 841/1000, Test RMSE: 0.2843\n",
      "Epoch 841/1000, Validation RMSE: 0.3578\n",
      "Epoch 842/1000, Test RMSE: 0.2843\n",
      "Epoch 842/1000, Validation RMSE: 0.3578\n",
      "Epoch 843/1000, Test RMSE: 0.2843\n",
      "Epoch 843/1000, Validation RMSE: 0.3578\n"
     ]
    },
    {
     "name": "stderr",
     "output_type": "stream",
     "text": [
      " 85%|████████████████████████████████████████████████████████▋          | 846/1000 [00:42<00:07, 21.15it/s]"
     ]
    },
    {
     "name": "stdout",
     "output_type": "stream",
     "text": [
      "Epoch 844/1000, Test RMSE: 0.2843\n",
      "Epoch 844/1000, Validation RMSE: 0.3577\n",
      "Epoch 845/1000, Test RMSE: 0.2843\n",
      "Epoch 845/1000, Validation RMSE: 0.3577\n",
      "Epoch 846/1000, Test RMSE: 0.2843\n",
      "Epoch 846/1000, Validation RMSE: 0.3577\n",
      "Epoch 847/1000, Test RMSE: 0.2843\n",
      "Epoch 847/1000, Validation RMSE: 0.3578\n",
      "Epoch 848/1000, Test RMSE: 0.2842\n",
      "Epoch 848/1000, Validation RMSE: 0.3578\n"
     ]
    },
    {
     "name": "stderr",
     "output_type": "stream",
     "text": [
      " 85%|█████████████████████████████████████████████████████████          | 852/1000 [00:42<00:06, 21.15it/s]"
     ]
    },
    {
     "name": "stdout",
     "output_type": "stream",
     "text": [
      "Epoch 849/1000, Test RMSE: 0.2842\n",
      "Epoch 849/1000, Validation RMSE: 0.3578\n",
      "Epoch 850/1000, Test RMSE: 0.2842\n",
      "Epoch 850/1000, Validation RMSE: 0.3577\n",
      "Epoch 851/1000, Test RMSE: 0.2842\n",
      "Epoch 851/1000, Validation RMSE: 0.3577\n",
      "Epoch 852/1000, Test RMSE: 0.2842\n",
      "Epoch 852/1000, Validation RMSE: 0.3578\n"
     ]
    },
    {
     "name": "stderr",
     "output_type": "stream",
     "text": [
      " 86%|█████████████████████████████████████████████████████████▎         | 855/1000 [00:42<00:08, 16.27it/s]"
     ]
    },
    {
     "name": "stdout",
     "output_type": "stream",
     "text": [
      "Epoch 853/1000, Test RMSE: 0.2842\n",
      "Epoch 853/1000, Validation RMSE: 0.3578\n",
      "Epoch 854/1000, Test RMSE: 0.2842\n",
      "Epoch 854/1000, Validation RMSE: 0.3578\n",
      "Epoch 855/1000, Test RMSE: 0.2842\n",
      "Epoch 855/1000, Validation RMSE: 0.3578\n",
      "Epoch 856/1000, Test RMSE: 0.2842\n",
      "Epoch 856/1000, Validation RMSE: 0.3578\n",
      "Epoch 857/1000, Test RMSE: 0.2842\n",
      "Epoch 857/1000, Validation RMSE: 0.3577\n"
     ]
    },
    {
     "name": "stderr",
     "output_type": "stream",
     "text": [
      " 86%|█████████████████████████████████████████████████████████▋         | 861/1000 [00:42<00:07, 18.46it/s]"
     ]
    },
    {
     "name": "stdout",
     "output_type": "stream",
     "text": [
      "Epoch 858/1000, Test RMSE: 0.2842\n",
      "Epoch 858/1000, Validation RMSE: 0.3577\n",
      "Epoch 859/1000, Test RMSE: 0.2842\n",
      "Epoch 859/1000, Validation RMSE: 0.3578\n",
      "Epoch 860/1000, Test RMSE: 0.2841\n",
      "Epoch 860/1000, Validation RMSE: 0.3578\n",
      "Epoch 861/1000, Test RMSE: 0.2841\n",
      "Epoch 861/1000, Validation RMSE: 0.3578\n",
      "Epoch 862/1000, Test RMSE: 0.2841\n",
      "Epoch 862/1000, Validation RMSE: 0.3578\n"
     ]
    },
    {
     "name": "stderr",
     "output_type": "stream",
     "text": [
      " 87%|██████████████████████████████████████████████████████████         | 867/1000 [00:43<00:06, 19.81it/s]"
     ]
    },
    {
     "name": "stdout",
     "output_type": "stream",
     "text": [
      "Epoch 863/1000, Test RMSE: 0.2842\n",
      "Epoch 863/1000, Validation RMSE: 0.3578\n",
      "Epoch 864/1000, Test RMSE: 0.2841\n",
      "Epoch 864/1000, Validation RMSE: 0.3578\n",
      "Epoch 865/1000, Test RMSE: 0.2841\n",
      "Epoch 865/1000, Validation RMSE: 0.3578\n",
      "Epoch 866/1000, Test RMSE: 0.2841\n",
      "Epoch 866/1000, Validation RMSE: 0.3578\n",
      "Epoch 867/1000, Test RMSE: 0.2841\n",
      "Epoch 867/1000, Validation RMSE: 0.3577\n"
     ]
    },
    {
     "name": "stderr",
     "output_type": "stream",
     "text": [
      " 87%|██████████████████████████████████████████████████████████▎        | 870/1000 [00:43<00:06, 20.23it/s]"
     ]
    },
    {
     "name": "stdout",
     "output_type": "stream",
     "text": [
      "Epoch 868/1000, Test RMSE: 0.2841\n",
      "Epoch 868/1000, Validation RMSE: 0.3577\n",
      "Epoch 869/1000, Test RMSE: 0.2841\n",
      "Epoch 869/1000, Validation RMSE: 0.3577\n",
      "Epoch 870/1000, Test RMSE: 0.2841\n",
      "Epoch 870/1000, Validation RMSE: 0.3578\n",
      "Epoch 871/1000, Test RMSE: 0.2841\n",
      "Epoch 871/1000, Validation RMSE: 0.3578\n",
      "Epoch 872/1000, Test RMSE: 0.2841\n",
      "Epoch 872/1000, Validation RMSE: 0.3578\n"
     ]
    },
    {
     "name": "stderr",
     "output_type": "stream",
     "text": [
      " 88%|██████████████████████████████████████████████████████████▋        | 876/1000 [00:43<00:05, 20.75it/s]"
     ]
    },
    {
     "name": "stdout",
     "output_type": "stream",
     "text": [
      "Epoch 873/1000, Test RMSE: 0.2841\n",
      "Epoch 873/1000, Validation RMSE: 0.3578\n",
      "Epoch 874/1000, Test RMSE: 0.2840\n",
      "Epoch 874/1000, Validation RMSE: 0.3578\n",
      "Epoch 875/1000, Test RMSE: 0.2840\n",
      "Epoch 875/1000, Validation RMSE: 0.3577\n",
      "Epoch 876/1000, Test RMSE: 0.2840\n",
      "Epoch 876/1000, Validation RMSE: 0.3577\n",
      "Epoch 877/1000, Test RMSE: 0.2840\n",
      "Epoch 877/1000, Validation RMSE: 0.3577\n"
     ]
    },
    {
     "name": "stderr",
     "output_type": "stream",
     "text": [
      " 88%|███████████████████████████████████████████████████████████        | 882/1000 [00:43<00:05, 20.94it/s]"
     ]
    },
    {
     "name": "stdout",
     "output_type": "stream",
     "text": [
      "Epoch 878/1000, Test RMSE: 0.2840\n",
      "Epoch 878/1000, Validation RMSE: 0.3577\n",
      "Epoch 879/1000, Test RMSE: 0.2840\n",
      "Epoch 879/1000, Validation RMSE: 0.3577\n",
      "Epoch 880/1000, Test RMSE: 0.2840\n",
      "Epoch 880/1000, Validation RMSE: 0.3577\n",
      "Epoch 881/1000, Test RMSE: 0.2840\n",
      "Epoch 881/1000, Validation RMSE: 0.3577\n",
      "Epoch 882/1000, Test RMSE: 0.2840\n",
      "Epoch 882/1000, Validation RMSE: 0.3578\n"
     ]
    },
    {
     "name": "stderr",
     "output_type": "stream",
     "text": [
      " 88%|███████████████████████████████████████████████████████████▎       | 885/1000 [00:44<00:05, 21.02it/s]"
     ]
    },
    {
     "name": "stdout",
     "output_type": "stream",
     "text": [
      "Epoch 883/1000, Test RMSE: 0.2840\n",
      "Epoch 883/1000, Validation RMSE: 0.3578\n",
      "Epoch 884/1000, Test RMSE: 0.2840\n",
      "Epoch 884/1000, Validation RMSE: 0.3578\n",
      "Epoch 885/1000, Test RMSE: 0.2840\n",
      "Epoch 885/1000, Validation RMSE: 0.3578\n",
      "Epoch 886/1000, Test RMSE: 0.2839\n",
      "Epoch 886/1000, Validation RMSE: 0.3578\n",
      "Epoch 887/1000, Test RMSE: 0.2839\n",
      "Epoch 887/1000, Validation RMSE: 0.3577\n"
     ]
    },
    {
     "name": "stderr",
     "output_type": "stream",
     "text": [
      " 89%|███████████████████████████████████████████████████████████▋       | 891/1000 [00:44<00:05, 21.15it/s]"
     ]
    },
    {
     "name": "stdout",
     "output_type": "stream",
     "text": [
      "Epoch 888/1000, Test RMSE: 0.2840\n",
      "Epoch 888/1000, Validation RMSE: 0.3577\n",
      "Epoch 889/1000, Test RMSE: 0.2840\n",
      "Epoch 889/1000, Validation RMSE: 0.3577\n",
      "Epoch 890/1000, Test RMSE: 0.2839\n",
      "Epoch 890/1000, Validation RMSE: 0.3577\n",
      "Epoch 891/1000, Test RMSE: 0.2839\n",
      "Epoch 891/1000, Validation RMSE: 0.3577\n",
      "Epoch 892/1000, Test RMSE: 0.2839\n",
      "Epoch 892/1000, Validation RMSE: 0.3577\n"
     ]
    },
    {
     "name": "stderr",
     "output_type": "stream",
     "text": [
      " 90%|████████████████████████████████████████████████████████████       | 897/1000 [00:44<00:04, 21.19it/s]"
     ]
    },
    {
     "name": "stdout",
     "output_type": "stream",
     "text": [
      "Epoch 893/1000, Test RMSE: 0.2839\n",
      "Epoch 893/1000, Validation RMSE: 0.3577\n",
      "Epoch 894/1000, Test RMSE: 0.2839\n",
      "Epoch 894/1000, Validation RMSE: 0.3578\n",
      "Epoch 895/1000, Test RMSE: 0.2839\n",
      "Epoch 895/1000, Validation RMSE: 0.3578\n",
      "Epoch 896/1000, Test RMSE: 0.2839\n",
      "Epoch 896/1000, Validation RMSE: 0.3578\n",
      "Epoch 897/1000, Test RMSE: 0.2839\n",
      "Epoch 897/1000, Validation RMSE: 0.3578\n"
     ]
    },
    {
     "name": "stderr",
     "output_type": "stream",
     "text": [
      " 90%|████████████████████████████████████████████████████████████▎      | 900/1000 [00:44<00:04, 21.21it/s]"
     ]
    },
    {
     "name": "stdout",
     "output_type": "stream",
     "text": [
      "Epoch 898/1000, Test RMSE: 0.2839\n",
      "Epoch 898/1000, Validation RMSE: 0.3578\n",
      "Epoch 899/1000, Test RMSE: 0.2839\n",
      "Epoch 899/1000, Validation RMSE: 0.3579\n",
      "Epoch 900/1000, Test RMSE: 0.2839\n",
      "Epoch 900/1000, Validation RMSE: 0.3578\n",
      "Epoch 901/1000, Test RMSE: 0.2838\n",
      "Epoch 901/1000, Validation RMSE: 0.3578\n",
      "Epoch 902/1000, Test RMSE: 0.2838\n",
      "Epoch 902/1000, Validation RMSE: 0.3578\n"
     ]
    },
    {
     "name": "stderr",
     "output_type": "stream",
     "text": [
      " 91%|████████████████████████████████████████████████████████████▋      | 906/1000 [00:45<00:04, 21.27it/s]"
     ]
    },
    {
     "name": "stdout",
     "output_type": "stream",
     "text": [
      "Epoch 903/1000, Test RMSE: 0.2838\n",
      "Epoch 903/1000, Validation RMSE: 0.3578\n",
      "Epoch 904/1000, Test RMSE: 0.2838\n",
      "Epoch 904/1000, Validation RMSE: 0.3578\n",
      "Epoch 905/1000, Test RMSE: 0.2838\n",
      "Epoch 905/1000, Validation RMSE: 0.3578\n",
      "Epoch 906/1000, Test RMSE: 0.2838\n",
      "Epoch 906/1000, Validation RMSE: 0.3578\n"
     ]
    },
    {
     "name": "stderr",
     "output_type": "stream",
     "text": [
      " 91%|████████████████████████████████████████████████████████████▉      | 909/1000 [00:45<00:05, 16.32it/s]"
     ]
    },
    {
     "name": "stdout",
     "output_type": "stream",
     "text": [
      "Epoch 907/1000, Test RMSE: 0.2838\n",
      "Epoch 907/1000, Validation RMSE: 0.3578\n",
      "Epoch 908/1000, Test RMSE: 0.2838\n",
      "Epoch 908/1000, Validation RMSE: 0.3578\n",
      "Epoch 909/1000, Test RMSE: 0.2838\n",
      "Epoch 909/1000, Validation RMSE: 0.3578\n",
      "Epoch 910/1000, Test RMSE: 0.2838\n",
      "Epoch 910/1000, Validation RMSE: 0.3578\n",
      "Epoch 911/1000, Test RMSE: 0.2837\n",
      "Epoch 911/1000, Validation RMSE: 0.3578\n"
     ]
    },
    {
     "name": "stderr",
     "output_type": "stream",
     "text": [
      " 92%|█████████████████████████████████████████████████████████████▎     | 915/1000 [00:45<00:04, 18.47it/s]"
     ]
    },
    {
     "name": "stdout",
     "output_type": "stream",
     "text": [
      "Epoch 912/1000, Test RMSE: 0.2837\n",
      "Epoch 912/1000, Validation RMSE: 0.3578\n",
      "Epoch 913/1000, Test RMSE: 0.2837\n",
      "Epoch 913/1000, Validation RMSE: 0.3578\n",
      "Epoch 914/1000, Test RMSE: 0.2837\n",
      "Epoch 914/1000, Validation RMSE: 0.3578\n",
      "Epoch 915/1000, Test RMSE: 0.2837\n",
      "Epoch 915/1000, Validation RMSE: 0.3578\n",
      "Epoch 916/1000, Test RMSE: 0.2837\n",
      "Epoch 916/1000, Validation RMSE: 0.3578\n"
     ]
    },
    {
     "name": "stderr",
     "output_type": "stream",
     "text": [
      " 92%|█████████████████████████████████████████████████████████████▋     | 921/1000 [00:45<00:03, 19.79it/s]"
     ]
    },
    {
     "name": "stdout",
     "output_type": "stream",
     "text": [
      "Epoch 917/1000, Test RMSE: 0.2837\n",
      "Epoch 917/1000, Validation RMSE: 0.3578\n",
      "Epoch 918/1000, Test RMSE: 0.2837\n",
      "Epoch 918/1000, Validation RMSE: 0.3578\n",
      "Epoch 919/1000, Test RMSE: 0.2837\n",
      "Epoch 919/1000, Validation RMSE: 0.3578\n",
      "Epoch 920/1000, Test RMSE: 0.2837\n",
      "Epoch 920/1000, Validation RMSE: 0.3578\n",
      "Epoch 921/1000, Test RMSE: 0.2837\n",
      "Epoch 921/1000, Validation RMSE: 0.3578\n"
     ]
    },
    {
     "name": "stderr",
     "output_type": "stream",
     "text": [
      " 92%|█████████████████████████████████████████████████████████████▉     | 924/1000 [00:46<00:03, 20.14it/s]"
     ]
    },
    {
     "name": "stdout",
     "output_type": "stream",
     "text": [
      "Epoch 922/1000, Test RMSE: 0.2837\n",
      "Epoch 922/1000, Validation RMSE: 0.3578\n",
      "Epoch 923/1000, Test RMSE: 0.2836\n",
      "Epoch 923/1000, Validation RMSE: 0.3578\n",
      "Epoch 924/1000, Test RMSE: 0.2837\n",
      "Epoch 924/1000, Validation RMSE: 0.3578\n",
      "Epoch 925/1000, Test RMSE: 0.2837\n",
      "Epoch 925/1000, Validation RMSE: 0.3578\n",
      "Epoch 926/1000, Test RMSE: 0.2837\n",
      "Epoch 926/1000, Validation RMSE: 0.3578\n"
     ]
    },
    {
     "name": "stderr",
     "output_type": "stream",
     "text": [
      " 93%|██████████████████████████████████████████████████████████████▎    | 930/1000 [00:46<00:03, 20.69it/s]"
     ]
    },
    {
     "name": "stdout",
     "output_type": "stream",
     "text": [
      "Epoch 927/1000, Test RMSE: 0.2836\n",
      "Epoch 927/1000, Validation RMSE: 0.3578\n",
      "Epoch 928/1000, Test RMSE: 0.2836\n",
      "Epoch 928/1000, Validation RMSE: 0.3578\n",
      "Epoch 929/1000, Test RMSE: 0.2836\n",
      "Epoch 929/1000, Validation RMSE: 0.3578\n",
      "Epoch 930/1000, Test RMSE: 0.2836\n",
      "Epoch 930/1000, Validation RMSE: 0.3578\n",
      "Epoch 931/1000, Test RMSE: 0.2836\n",
      "Epoch 931/1000, Validation RMSE: 0.3578\n"
     ]
    },
    {
     "name": "stderr",
     "output_type": "stream",
     "text": [
      " 94%|██████████████████████████████████████████████████████████████▋    | 936/1000 [00:46<00:03, 20.90it/s]"
     ]
    },
    {
     "name": "stdout",
     "output_type": "stream",
     "text": [
      "Epoch 932/1000, Test RMSE: 0.2836\n",
      "Epoch 932/1000, Validation RMSE: 0.3578\n",
      "Epoch 933/1000, Test RMSE: 0.2836\n",
      "Epoch 933/1000, Validation RMSE: 0.3578\n",
      "Epoch 934/1000, Test RMSE: 0.2836\n",
      "Epoch 934/1000, Validation RMSE: 0.3578\n",
      "Epoch 935/1000, Test RMSE: 0.2836\n",
      "Epoch 935/1000, Validation RMSE: 0.3578\n",
      "Epoch 936/1000, Test RMSE: 0.2835\n",
      "Epoch 936/1000, Validation RMSE: 0.3578\n"
     ]
    },
    {
     "name": "stderr",
     "output_type": "stream",
     "text": [
      " 94%|██████████████████████████████████████████████████████████████▉    | 939/1000 [00:46<00:02, 20.97it/s]"
     ]
    },
    {
     "name": "stdout",
     "output_type": "stream",
     "text": [
      "Epoch 937/1000, Test RMSE: 0.2835\n",
      "Epoch 937/1000, Validation RMSE: 0.3578\n",
      "Epoch 938/1000, Test RMSE: 0.2835\n",
      "Epoch 938/1000, Validation RMSE: 0.3578\n",
      "Epoch 939/1000, Test RMSE: 0.2835\n",
      "Epoch 939/1000, Validation RMSE: 0.3578\n",
      "Epoch 940/1000, Test RMSE: 0.2835\n",
      "Epoch 940/1000, Validation RMSE: 0.3578\n",
      "Epoch 941/1000, Test RMSE: 0.2835\n",
      "Epoch 941/1000, Validation RMSE: 0.3578\n"
     ]
    },
    {
     "name": "stderr",
     "output_type": "stream",
     "text": [
      " 94%|███████████████████████████████████████████████████████████████▎   | 945/1000 [00:47<00:02, 21.08it/s]"
     ]
    },
    {
     "name": "stdout",
     "output_type": "stream",
     "text": [
      "Epoch 942/1000, Test RMSE: 0.2835\n",
      "Epoch 942/1000, Validation RMSE: 0.3578\n",
      "Epoch 943/1000, Test RMSE: 0.2835\n",
      "Epoch 943/1000, Validation RMSE: 0.3578\n",
      "Epoch 944/1000, Test RMSE: 0.2835\n",
      "Epoch 944/1000, Validation RMSE: 0.3578\n",
      "Epoch 945/1000, Test RMSE: 0.2835\n",
      "Epoch 945/1000, Validation RMSE: 0.3578\n",
      "Epoch 946/1000, Test RMSE: 0.2835\n",
      "Epoch 946/1000, Validation RMSE: 0.3578\n"
     ]
    },
    {
     "name": "stderr",
     "output_type": "stream",
     "text": [
      " 95%|███████████████████████████████████████████████████████████████▋   | 951/1000 [00:47<00:02, 21.19it/s]"
     ]
    },
    {
     "name": "stdout",
     "output_type": "stream",
     "text": [
      "Epoch 947/1000, Test RMSE: 0.2834\n",
      "Epoch 947/1000, Validation RMSE: 0.3578\n",
      "Epoch 948/1000, Test RMSE: 0.2835\n",
      "Epoch 948/1000, Validation RMSE: 0.3578\n",
      "Epoch 949/1000, Test RMSE: 0.2835\n",
      "Epoch 949/1000, Validation RMSE: 0.3578\n",
      "Epoch 950/1000, Test RMSE: 0.2835\n",
      "Epoch 950/1000, Validation RMSE: 0.3578\n",
      "Epoch 951/1000, Test RMSE: 0.2834\n",
      "Epoch 951/1000, Validation RMSE: 0.3578\n"
     ]
    },
    {
     "name": "stderr",
     "output_type": "stream",
     "text": [
      " 95%|███████████████████████████████████████████████████████████████▉   | 954/1000 [00:47<00:02, 21.21it/s]"
     ]
    },
    {
     "name": "stdout",
     "output_type": "stream",
     "text": [
      "Epoch 952/1000, Test RMSE: 0.2834\n",
      "Epoch 952/1000, Validation RMSE: 0.3578\n",
      "Epoch 953/1000, Test RMSE: 0.2834\n",
      "Epoch 953/1000, Validation RMSE: 0.3578\n",
      "Epoch 954/1000, Test RMSE: 0.2834\n",
      "Epoch 954/1000, Validation RMSE: 0.3578\n",
      "Epoch 955/1000, Test RMSE: 0.2834\n",
      "Epoch 955/1000, Validation RMSE: 0.3578\n",
      "Epoch 956/1000, Test RMSE: 0.2834\n",
      "Epoch 956/1000, Validation RMSE: 0.3578\n"
     ]
    },
    {
     "name": "stderr",
     "output_type": "stream",
     "text": [
      " 96%|████████████████████████████████████████████████████████████████   | 957/1000 [00:47<00:02, 21.23it/s]"
     ]
    },
    {
     "name": "stdout",
     "output_type": "stream",
     "text": [
      "Epoch 957/1000, Test RMSE: 0.2834\n",
      "Epoch 957/1000, Validation RMSE: 0.3578\n",
      "Epoch 958/1000, Test RMSE: 0.2834\n",
      "Epoch 958/1000, Validation RMSE: 0.3578\n",
      "Epoch 959/1000, Test RMSE: 0.2834\n",
      "Epoch 959/1000, Validation RMSE: 0.3578\n"
     ]
    },
    {
     "name": "stderr",
     "output_type": "stream",
     "text": [
      " 96%|████████████████████████████████████████████████████████████████▌  | 963/1000 [00:48<00:02, 17.53it/s]"
     ]
    },
    {
     "name": "stdout",
     "output_type": "stream",
     "text": [
      "Epoch 960/1000, Test RMSE: 0.2834\n",
      "Epoch 960/1000, Validation RMSE: 0.3578\n",
      "Epoch 961/1000, Test RMSE: 0.2833\n",
      "Epoch 961/1000, Validation RMSE: 0.3578\n",
      "Epoch 962/1000, Test RMSE: 0.2833\n",
      "Epoch 962/1000, Validation RMSE: 0.3578\n",
      "Epoch 963/1000, Test RMSE: 0.2833\n",
      "Epoch 963/1000, Validation RMSE: 0.3578\n",
      "Epoch 964/1000, Test RMSE: 0.2833\n",
      "Epoch 964/1000, Validation RMSE: 0.3578\n"
     ]
    },
    {
     "name": "stderr",
     "output_type": "stream",
     "text": [
      " 97%|████████████████████████████████████████████████████████████████▉  | 969/1000 [00:48<00:01, 19.18it/s]"
     ]
    },
    {
     "name": "stdout",
     "output_type": "stream",
     "text": [
      "Epoch 965/1000, Test RMSE: 0.2834\n",
      "Epoch 965/1000, Validation RMSE: 0.3578\n",
      "Epoch 966/1000, Test RMSE: 0.2834\n",
      "Epoch 966/1000, Validation RMSE: 0.3578\n",
      "Epoch 967/1000, Test RMSE: 0.2834\n",
      "Epoch 967/1000, Validation RMSE: 0.3578\n",
      "Epoch 968/1000, Test RMSE: 0.2834\n",
      "Epoch 968/1000, Validation RMSE: 0.3578\n",
      "Epoch 969/1000, Test RMSE: 0.2833\n",
      "Epoch 969/1000, Validation RMSE: 0.3578\n"
     ]
    },
    {
     "name": "stderr",
     "output_type": "stream",
     "text": [
      " 97%|█████████████████████████████████████████████████████████████████  | 972/1000 [00:48<00:01, 19.74it/s]"
     ]
    },
    {
     "name": "stdout",
     "output_type": "stream",
     "text": [
      "Epoch 970/1000, Test RMSE: 0.2833\n",
      "Epoch 970/1000, Validation RMSE: 0.3578\n",
      "Epoch 971/1000, Test RMSE: 0.2833\n",
      "Epoch 971/1000, Validation RMSE: 0.3578\n",
      "Epoch 972/1000, Test RMSE: 0.2833\n",
      "Epoch 972/1000, Validation RMSE: 0.3578\n",
      "Epoch 973/1000, Test RMSE: 0.2833\n",
      "Epoch 973/1000, Validation RMSE: 0.3578\n",
      "Epoch 974/1000, Test RMSE: 0.2833\n",
      "Epoch 974/1000, Validation RMSE: 0.3578\n"
     ]
    },
    {
     "name": "stderr",
     "output_type": "stream",
     "text": [
      " 98%|█████████████████████████████████████████████████████████████████▌ | 978/1000 [00:48<00:01, 20.47it/s]"
     ]
    },
    {
     "name": "stdout",
     "output_type": "stream",
     "text": [
      "Epoch 975/1000, Test RMSE: 0.2832\n",
      "Epoch 975/1000, Validation RMSE: 0.3578\n",
      "Epoch 976/1000, Test RMSE: 0.2832\n",
      "Epoch 976/1000, Validation RMSE: 0.3578\n",
      "Epoch 977/1000, Test RMSE: 0.2832\n",
      "Epoch 977/1000, Validation RMSE: 0.3578\n",
      "Epoch 978/1000, Test RMSE: 0.2832\n",
      "Epoch 978/1000, Validation RMSE: 0.3578\n",
      "Epoch 979/1000, Test RMSE: 0.2832\n",
      "Epoch 979/1000, Validation RMSE: 0.3578\n"
     ]
    },
    {
     "name": "stderr",
     "output_type": "stream",
     "text": [
      " 98%|█████████████████████████████████████████████████████████████████▉ | 984/1000 [00:48<00:00, 20.87it/s]"
     ]
    },
    {
     "name": "stdout",
     "output_type": "stream",
     "text": [
      "Epoch 980/1000, Test RMSE: 0.2832\n",
      "Epoch 980/1000, Validation RMSE: 0.3578\n",
      "Epoch 981/1000, Test RMSE: 0.2832\n",
      "Epoch 981/1000, Validation RMSE: 0.3578\n",
      "Epoch 982/1000, Test RMSE: 0.2832\n",
      "Epoch 982/1000, Validation RMSE: 0.3578\n",
      "Epoch 983/1000, Test RMSE: 0.2832\n",
      "Epoch 983/1000, Validation RMSE: 0.3578\n",
      "Epoch 984/1000, Test RMSE: 0.2832\n",
      "Epoch 984/1000, Validation RMSE: 0.3578\n"
     ]
    },
    {
     "name": "stderr",
     "output_type": "stream",
     "text": [
      " 99%|██████████████████████████████████████████████████████████████████▏| 987/1000 [00:49<00:00, 20.97it/s]"
     ]
    },
    {
     "name": "stdout",
     "output_type": "stream",
     "text": [
      "Epoch 985/1000, Test RMSE: 0.2832\n",
      "Epoch 985/1000, Validation RMSE: 0.3578\n",
      "Epoch 986/1000, Test RMSE: 0.2832\n",
      "Epoch 986/1000, Validation RMSE: 0.3578\n",
      "Epoch 987/1000, Test RMSE: 0.2831\n",
      "Epoch 987/1000, Validation RMSE: 0.3578\n",
      "Epoch 988/1000, Test RMSE: 0.2831\n",
      "Epoch 988/1000, Validation RMSE: 0.3578\n",
      "Epoch 989/1000, Test RMSE: 0.2831\n",
      "Epoch 989/1000, Validation RMSE: 0.3578\n"
     ]
    },
    {
     "name": "stderr",
     "output_type": "stream",
     "text": [
      " 99%|██████████████████████████████████████████████████████████████████▌| 993/1000 [00:49<00:00, 21.06it/s]"
     ]
    },
    {
     "name": "stdout",
     "output_type": "stream",
     "text": [
      "Epoch 990/1000, Test RMSE: 0.2831\n",
      "Epoch 990/1000, Validation RMSE: 0.3578\n",
      "Epoch 991/1000, Test RMSE: 0.2831\n",
      "Epoch 991/1000, Validation RMSE: 0.3578\n",
      "Epoch 992/1000, Test RMSE: 0.2831\n",
      "Epoch 992/1000, Validation RMSE: 0.3578\n",
      "Epoch 993/1000, Test RMSE: 0.2831\n",
      "Epoch 993/1000, Validation RMSE: 0.3578\n",
      "Epoch 994/1000, Test RMSE: 0.2832\n",
      "Epoch 994/1000, Validation RMSE: 0.3578\n"
     ]
    },
    {
     "name": "stderr",
     "output_type": "stream",
     "text": [
      "100%|██████████████████████████████████████████████████████████████████▉| 999/1000 [00:49<00:00, 21.04it/s]"
     ]
    },
    {
     "name": "stdout",
     "output_type": "stream",
     "text": [
      "Epoch 995/1000, Test RMSE: 0.2831\n",
      "Epoch 995/1000, Validation RMSE: 0.3578\n",
      "Epoch 996/1000, Test RMSE: 0.2831\n",
      "Epoch 996/1000, Validation RMSE: 0.3578\n",
      "Epoch 997/1000, Test RMSE: 0.2831\n",
      "Epoch 997/1000, Validation RMSE: 0.3578\n",
      "Epoch 998/1000, Test RMSE: 0.2831\n",
      "Epoch 998/1000, Validation RMSE: 0.3578\n",
      "Epoch 999/1000, Test RMSE: 0.2830\n",
      "Epoch 999/1000, Validation RMSE: 0.3578\n"
     ]
    },
    {
     "name": "stderr",
     "output_type": "stream",
     "text": [
      "100%|██████████████████████████████████████████████████████████████████| 1000/1000 [00:49<00:00, 20.10it/s]"
     ]
    },
    {
     "name": "stdout",
     "output_type": "stream",
     "text": [
      "Epoch 1000/1000, Test RMSE: 0.2831\n",
      "Epoch 1000/1000, Validation RMSE: 0.3578\n"
     ]
    },
    {
     "name": "stderr",
     "output_type": "stream",
     "text": [
      "\n"
     ]
    }
   ],
   "source": [
    "\n",
    "\n",
    "# Create DataLoader\n",
    "batch_size = 1024\n",
    "train_loader = DataLoader(train_data, batch_size=batch_size, shuffle=True)\n",
    "val_loader = DataLoader(val_data, batch_size=batch_size, shuffle=False)\n",
    "\n",
    "# model = MLPModel()\n",
    "criterion = nn.MSELoss()\n",
    "optimizer = torch.optim.Adam(model.parameters(), lr=0.5e-6)\n",
    "\n",
    "num_epochs = 1000\n",
    "train_mlp_model(train_loader, val_loader, model, criterion, optimizer, num_epochs=num_epochs)"
   ]
  },
  {
   "cell_type": "code",
   "execution_count": 129,
   "metadata": {},
   "outputs": [
    {
     "name": "stdout",
     "output_type": "stream",
     "text": [
      "calculating embeddings for xlm-mlm-enfr-1024\n"
     ]
    },
    {
     "name": "stderr",
     "output_type": "stream",
     "text": [
      "100%|████████████████████████████████████████████████████████████████████| 500/500 [00:08<00:00, 60.78it/s]\n"
     ]
    },
    {
     "name": "stdout",
     "output_type": "stream",
     "text": [
      "calculating embeddings for distilbert-base-cased\n"
     ]
    },
    {
     "name": "stderr",
     "output_type": "stream",
     "text": [
      "100%|███████████████████████████████████████████████████████████████████| 500/500 [00:03<00:00, 128.05it/s]\n"
     ]
    },
    {
     "name": "stdout",
     "output_type": "stream",
     "text": [
      "calculating embeddings for bert-base-uncased\n"
     ]
    },
    {
     "name": "stderr",
     "output_type": "stream",
     "text": [
      "100%|████████████████████████████████████████████████████████████████████| 500/500 [00:07<00:00, 68.21it/s]\n"
     ]
    },
    {
     "name": "stdout",
     "output_type": "stream",
     "text": [
      "calculating embeddings for roberta-base\n"
     ]
    },
    {
     "name": "stderr",
     "output_type": "stream",
     "text": [
      "Some weights of RobertaModel were not initialized from the model checkpoint at roberta-base and are newly initialized: ['roberta.pooler.dense.bias', 'roberta.pooler.dense.weight']\n",
      "You should probably TRAIN this model on a down-stream task to be able to use it for predictions and inference.\n",
      "100%|████████████████████████████████████████████████████████████████████| 500/500 [00:07<00:00, 68.07it/s]\n"
     ]
    },
    {
     "name": "stdout",
     "output_type": "stream",
     "text": [
      "calculating embeddings for bert-base-cased\n"
     ]
    },
    {
     "name": "stderr",
     "output_type": "stream",
     "text": [
      "100%|████████████████████████████████████████████████████████████████████| 500/500 [00:07<00:00, 66.92it/s]\n"
     ]
    },
    {
     "name": "stdout",
     "output_type": "stream",
     "text": [
      "calculating embeddings for xlm-roberta-base\n"
     ]
    },
    {
     "name": "stderr",
     "output_type": "stream",
     "text": [
      "100%|████████████████████████████████████████████████████████████████████| 500/500 [00:07<00:00, 65.98it/s]\n"
     ]
    },
    {
     "name": "stdout",
     "output_type": "stream",
     "text": [
      "calculating embeddings for xlnet-base-cased\n"
     ]
    },
    {
     "name": "stderr",
     "output_type": "stream",
     "text": [
      "100%|████████████████████████████████████████████████████████████████████| 500/500 [00:14<00:00, 34.80it/s]\n"
     ]
    }
   ],
   "source": [
    "test_texts, _ = load_data('sample_submission.csv')\n",
    "test_embeddings = embedding_function(test_texts)\n",
    "\n",
    "\n",
    "test_data = TensorDataset(torch.tensor(test_embeddings))\n",
    "test_loader = DataLoader(test_data, batch_size=batch_size, shuffle=False)"
   ]
  },
  {
   "cell_type": "code",
   "execution_count": 132,
   "metadata": {},
   "outputs": [
    {
     "name": "stderr",
     "output_type": "stream",
     "text": [
      "Generating Test Predictions: 100%|██████████████████████████████████████████| 1/1 [00:00<00:00, 153.09it/s]\n"
     ]
    }
   ],
   "source": [
    "\n",
    "model.eval()\n",
    "test_preds = []\n",
    "with torch.no_grad():\n",
    "    for inputs in tqdm(test_loader, desc=\"Generating Test Predictions\"):\n",
    "        inputs = inputs[0].to(device)\n",
    "\n",
    "        outputs = model(inputs)\n",
    "        test_preds.extend(outputs.cpu().numpy())\n",
    "\n",
    "\n",
    "test_preds = [x[0] for x  in test_preds]\n",
    "\n",
    "        \n",
    "# Write predictions to the output CSV file\n",
    "output_df = pd.DataFrame({'text': test_texts, 'score': test_preds})\n",
    "output_df.to_csv('combination.csv', index=False)\n"
   ]
  },
  {
   "cell_type": "code",
   "execution_count": null,
   "metadata": {},
   "outputs": [],
   "source": []
  }
 ],
 "metadata": {
  "kernelspec": {
   "display_name": "Python 3 (ipykernel)",
   "language": "python",
   "name": "python3"
  },
  "language_info": {
   "codemirror_mode": {
    "name": "ipython",
    "version": 3
   },
   "file_extension": ".py",
   "mimetype": "text/x-python",
   "name": "python",
   "nbconvert_exporter": "python",
   "pygments_lexer": "ipython3",
   "version": "3.8.10"
  }
 },
 "nbformat": 4,
 "nbformat_minor": 4
}
